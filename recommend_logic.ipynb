{
 "cells": [
  {
   "cell_type": "markdown",
   "id": "1201ca69-3388-4970-9672-d3f6d5fd8850",
   "metadata": {},
   "source": [
    "### コーパスの中身をkmeansでクラスタリング"
   ]
  },
  {
   "cell_type": "code",
   "execution_count": 1,
   "id": "a1ae374c-5273-4b50-9ebf-353088c85e7b",
   "metadata": {},
   "outputs": [],
   "source": [
    "from collections import defaultdict\n",
    "\n",
    "from gensim import corpora\n",
    "from gensim import models\n",
    "from gensim.models.keyedvectors import KeyedVectors\n",
    "import pandas as pd\n",
    "from sklearn.cluster import KMeans"
   ]
  },
  {
   "cell_type": "code",
   "execution_count": 2,
   "id": "a7e176dd-5f93-4934-bddb-7d099edff6a0",
   "metadata": {},
   "outputs": [],
   "source": [
    "model = KeyedVectors.load('output/word2vec_ramen_model.model')"
   ]
  },
  {
   "cell_type": "code",
   "execution_count": 3,
   "id": "b4689b45-c03c-47f4-9f59-5bd0a123cc38",
   "metadata": {},
   "outputs": [],
   "source": [
    "max_vocab = 30000\n",
    "vocab = list(model.wv.key_to_index.keys())[:max_vocab]\n",
    "vectors = [model.wv[word] for word in vocab]"
   ]
  },
  {
   "cell_type": "code",
   "execution_count": 4,
   "id": "3c3d33b2-2f3b-4f9a-b258-5b15c535e74c",
   "metadata": {},
   "outputs": [
    {
     "data": {
      "text/plain": [
       "KMeans(n_clusters=6, random_state=42)"
      ]
     },
     "execution_count": 4,
     "metadata": {},
     "output_type": "execute_result"
    }
   ],
   "source": [
    "# クラスター数はこちらで任意の値を定める\n",
    "n_clusters = 6\n",
    "kmeans_model = KMeans(n_clusters=n_clusters, verbose=0, random_state=42)\n",
    "kmeans_model.fit(vectors)"
   ]
  },
  {
   "cell_type": "code",
   "execution_count": 5,
   "id": "02ff07a2-f2f0-4661-866c-238100ee9d8c",
   "metadata": {},
   "outputs": [
    {
     "name": "stdout",
     "output_type": "stream",
     "text": [
      "2 ['スープ', '醤油', '感じ', '濃厚', '旨味', '煮干し', '出汁', '味わい', '香り', '風味', '魚介', '良く', 'なく', 'バランス', '最後', '印象', '旨い', '見た目', 'ストレート', '豚骨']\n",
      "1 ['ラーメン', '0円', 'こと', 'よう', 'これ', 'そう', 'つけ麺', 'ない', 'そば', 'もの', 'メニュー', '中華そば', '特製', 'らーめん', '今回', '味噌', 'それ', '好き', 'ところ', 'ここ']\n",
      "5 ['チャーシュー', '美味しい', '良い', 'メンマ', 'いい', 'トッピング', 'つけ', 'ネギ', 'ワンタン', '食感', '野菜', '海苔', '好み', '具材', 'ご飯', '美味い', '美味しく', '味付け', '調理', 'シンプル']\n",
      "0 ['0分', '店内', 'カウンター', '食券', '注文', '到着', '券売機', '購入', '待ち', '店主', '時間', '入店', '開店', '店員', '雰囲気', '着席', '先客', 'オーダー', 'お客さん', '丁寧']\n",
      "3 ['さん', '0時', '訪問', 'こちら', '人気', '行列', '今日', 'ごちそうさま', '平日', 'ラーメン屋', '徒歩', '近く', '食べログ', '場所', 'ランチ', '営業', '名店', 'オープン', '以前', 'ラーメン店']\n",
      "4 ['https', '.com', 'www', 'instagram', '0%', 'twitter', 'グルメ', 'tokyo', 'ブログ', 'youtube', 'http://', 'entry', '.jp', 'blog', 'u.', 'yo', 'ut', 'be', 'スタ', '詳しく']\n"
     ]
    }
   ],
   "source": [
    "cluster_labels = kmeans_model.labels_\n",
    "cluster_to_words = defaultdict(list)\n",
    "for cluster_id, word in zip(cluster_labels, vocab):\n",
    "    cluster_to_words[cluster_id].append(word)\n",
    "    \n",
    "for label, words in cluster_to_words.items():\n",
    "    print(label, words[:20])"
   ]
  },
  {
   "cell_type": "code",
   "execution_count": 6,
   "id": "d9873ae1-092c-41ee-b3cc-b6e9ece088bd",
   "metadata": {},
   "outputs": [],
   "source": [
    "def change_dict_key(d, old_key, new_key, default_value=None):\n",
    "    d[new_key] = d.pop(old_key, default_value)"
   ]
  },
  {
   "cell_type": "code",
   "execution_count": 7,
   "id": "cb97f463-1860-4e67-94e8-c7b62761a747",
   "metadata": {},
   "outputs": [],
   "source": [
    "# # 各クラスターの解釈を決定\n",
    "change_dict_key(cluster_to_words, 1,  'ラーメンに関するワード')\n",
    "change_dict_key(cluster_to_words, 2, 'スープに関するワード')\n",
    "change_dict_key(cluster_to_words, 5, 'トッピングに関するワード')\n",
    "change_dict_key(cluster_to_words, 0, '店内に関するワード')\n",
    "change_dict_key(cluster_to_words, 3, '店舗に関するワード')\n",
    "change_dict_key(cluster_to_words, 4, 'その他のワード')"
   ]
  },
  {
   "cell_type": "code",
   "execution_count": 8,
   "id": "c9fa0395-5ae0-4f3a-8855-dc5adb6a680f",
   "metadata": {},
   "outputs": [
    {
     "data": {
      "text/html": [
       "<div>\n",
       "<style scoped>\n",
       "    .dataframe tbody tr th:only-of-type {\n",
       "        vertical-align: middle;\n",
       "    }\n",
       "\n",
       "    .dataframe tbody tr th {\n",
       "        vertical-align: top;\n",
       "    }\n",
       "\n",
       "    .dataframe thead th {\n",
       "        text-align: right;\n",
       "    }\n",
       "</style>\n",
       "<table border=\"1\" class=\"dataframe\">\n",
       "  <thead>\n",
       "    <tr style=\"text-align: right;\">\n",
       "      <th></th>\n",
       "      <th>ラーメンに関するワード</th>\n",
       "      <th>スープに関するワード</th>\n",
       "      <th>トッピングに関するワード</th>\n",
       "      <th>店内に関するワード</th>\n",
       "      <th>店舗に関するワード</th>\n",
       "      <th>その他のワード</th>\n",
       "    </tr>\n",
       "  </thead>\n",
       "  <tbody>\n",
       "    <tr>\n",
       "      <th>0</th>\n",
       "      <td>ラーメン</td>\n",
       "      <td>スープ</td>\n",
       "      <td>チャーシュー</td>\n",
       "      <td>0分</td>\n",
       "      <td>さん</td>\n",
       "      <td>https</td>\n",
       "    </tr>\n",
       "    <tr>\n",
       "      <th>1</th>\n",
       "      <td>0円</td>\n",
       "      <td>醤油</td>\n",
       "      <td>美味しい</td>\n",
       "      <td>店内</td>\n",
       "      <td>0時</td>\n",
       "      <td>.com</td>\n",
       "    </tr>\n",
       "    <tr>\n",
       "      <th>2</th>\n",
       "      <td>こと</td>\n",
       "      <td>感じ</td>\n",
       "      <td>良い</td>\n",
       "      <td>カウンター</td>\n",
       "      <td>訪問</td>\n",
       "      <td>www</td>\n",
       "    </tr>\n",
       "    <tr>\n",
       "      <th>3</th>\n",
       "      <td>よう</td>\n",
       "      <td>濃厚</td>\n",
       "      <td>メンマ</td>\n",
       "      <td>食券</td>\n",
       "      <td>こちら</td>\n",
       "      <td>instagram</td>\n",
       "    </tr>\n",
       "    <tr>\n",
       "      <th>4</th>\n",
       "      <td>これ</td>\n",
       "      <td>旨味</td>\n",
       "      <td>いい</td>\n",
       "      <td>注文</td>\n",
       "      <td>人気</td>\n",
       "      <td>0%</td>\n",
       "    </tr>\n",
       "    <tr>\n",
       "      <th>5</th>\n",
       "      <td>そう</td>\n",
       "      <td>煮干し</td>\n",
       "      <td>トッピング</td>\n",
       "      <td>到着</td>\n",
       "      <td>行列</td>\n",
       "      <td>twitter</td>\n",
       "    </tr>\n",
       "    <tr>\n",
       "      <th>6</th>\n",
       "      <td>つけ麺</td>\n",
       "      <td>出汁</td>\n",
       "      <td>つけ</td>\n",
       "      <td>券売機</td>\n",
       "      <td>今日</td>\n",
       "      <td>グルメ</td>\n",
       "    </tr>\n",
       "    <tr>\n",
       "      <th>7</th>\n",
       "      <td>ない</td>\n",
       "      <td>味わい</td>\n",
       "      <td>ネギ</td>\n",
       "      <td>購入</td>\n",
       "      <td>ごちそうさま</td>\n",
       "      <td>tokyo</td>\n",
       "    </tr>\n",
       "    <tr>\n",
       "      <th>8</th>\n",
       "      <td>そば</td>\n",
       "      <td>香り</td>\n",
       "      <td>ワンタン</td>\n",
       "      <td>待ち</td>\n",
       "      <td>平日</td>\n",
       "      <td>ブログ</td>\n",
       "    </tr>\n",
       "    <tr>\n",
       "      <th>9</th>\n",
       "      <td>もの</td>\n",
       "      <td>風味</td>\n",
       "      <td>食感</td>\n",
       "      <td>店主</td>\n",
       "      <td>ラーメン屋</td>\n",
       "      <td>youtube</td>\n",
       "    </tr>\n",
       "    <tr>\n",
       "      <th>10</th>\n",
       "      <td>メニュー</td>\n",
       "      <td>魚介</td>\n",
       "      <td>野菜</td>\n",
       "      <td>時間</td>\n",
       "      <td>徒歩</td>\n",
       "      <td>http://</td>\n",
       "    </tr>\n",
       "    <tr>\n",
       "      <th>11</th>\n",
       "      <td>中華そば</td>\n",
       "      <td>良く</td>\n",
       "      <td>海苔</td>\n",
       "      <td>入店</td>\n",
       "      <td>近く</td>\n",
       "      <td>entry</td>\n",
       "    </tr>\n",
       "    <tr>\n",
       "      <th>12</th>\n",
       "      <td>特製</td>\n",
       "      <td>なく</td>\n",
       "      <td>好み</td>\n",
       "      <td>開店</td>\n",
       "      <td>食べログ</td>\n",
       "      <td>.jp</td>\n",
       "    </tr>\n",
       "    <tr>\n",
       "      <th>13</th>\n",
       "      <td>らーめん</td>\n",
       "      <td>バランス</td>\n",
       "      <td>具材</td>\n",
       "      <td>店員</td>\n",
       "      <td>場所</td>\n",
       "      <td>blog</td>\n",
       "    </tr>\n",
       "    <tr>\n",
       "      <th>14</th>\n",
       "      <td>今回</td>\n",
       "      <td>最後</td>\n",
       "      <td>ご飯</td>\n",
       "      <td>雰囲気</td>\n",
       "      <td>ランチ</td>\n",
       "      <td>u.</td>\n",
       "    </tr>\n",
       "    <tr>\n",
       "      <th>15</th>\n",
       "      <td>味噌</td>\n",
       "      <td>印象</td>\n",
       "      <td>美味い</td>\n",
       "      <td>着席</td>\n",
       "      <td>営業</td>\n",
       "      <td>yo</td>\n",
       "    </tr>\n",
       "    <tr>\n",
       "      <th>16</th>\n",
       "      <td>それ</td>\n",
       "      <td>旨い</td>\n",
       "      <td>美味しく</td>\n",
       "      <td>先客</td>\n",
       "      <td>名店</td>\n",
       "      <td>ut</td>\n",
       "    </tr>\n",
       "    <tr>\n",
       "      <th>17</th>\n",
       "      <td>好き</td>\n",
       "      <td>見た目</td>\n",
       "      <td>味付け</td>\n",
       "      <td>オーダー</td>\n",
       "      <td>オープン</td>\n",
       "      <td>be</td>\n",
       "    </tr>\n",
       "    <tr>\n",
       "      <th>18</th>\n",
       "      <td>ところ</td>\n",
       "      <td>ストレート</td>\n",
       "      <td>調理</td>\n",
       "      <td>お客さん</td>\n",
       "      <td>以前</td>\n",
       "      <td>スタ</td>\n",
       "    </tr>\n",
       "    <tr>\n",
       "      <th>19</th>\n",
       "      <td>ここ</td>\n",
       "      <td>豚骨</td>\n",
       "      <td>シンプル</td>\n",
       "      <td>丁寧</td>\n",
       "      <td>ラーメン店</td>\n",
       "      <td>詳しく</td>\n",
       "    </tr>\n",
       "  </tbody>\n",
       "</table>\n",
       "</div>"
      ],
      "text/plain": [
       "   ラーメンに関するワード スープに関するワード トッピングに関するワード 店内に関するワード 店舗に関するワード    その他のワード\n",
       "0         ラーメン        スープ       チャーシュー        0分        さん      https\n",
       "1           0円         醤油         美味しい        店内        0時       .com\n",
       "2           こと         感じ           良い     カウンター        訪問        www\n",
       "3           よう         濃厚          メンマ        食券       こちら  instagram\n",
       "4           これ         旨味           いい        注文        人気         0%\n",
       "5           そう        煮干し        トッピング        到着        行列    twitter\n",
       "6          つけ麺         出汁           つけ       券売機        今日        グルメ\n",
       "7           ない        味わい           ネギ        購入    ごちそうさま      tokyo\n",
       "8           そば         香り         ワンタン        待ち        平日        ブログ\n",
       "9           もの         風味           食感        店主     ラーメン屋    youtube\n",
       "10        メニュー         魚介           野菜        時間        徒歩    http://\n",
       "11        中華そば         良く           海苔        入店        近く      entry\n",
       "12          特製         なく           好み        開店      食べログ        .jp\n",
       "13        らーめん       バランス           具材        店員        場所       blog\n",
       "14          今回         最後           ご飯       雰囲気       ランチ         u.\n",
       "15          味噌         印象          美味い        着席        営業         yo\n",
       "16          それ         旨い         美味しく        先客        名店         ut\n",
       "17          好き        見た目          味付け      オーダー      オープン         be\n",
       "18         ところ      ストレート           調理      お客さん        以前         スタ\n",
       "19          ここ         豚骨         シンプル        丁寧     ラーメン店        詳しく"
      ]
     },
     "execution_count": 8,
     "metadata": {},
     "output_type": "execute_result"
    }
   ],
   "source": [
    "df = pd.DataFrame.from_dict(cluster_to_words, orient=\"index\").T\n",
    "df.to_csv('output/words_cluster.csv')\n",
    "df.head(20)"
   ]
  },
  {
   "cell_type": "markdown",
   "id": "8be4d77a-fb19-48dc-8e64-cefb7c66c3c4",
   "metadata": {},
   "source": [
    "### TF-IDFで文章における特徴的な単語を抽出"
   ]
  },
  {
   "cell_type": "code",
   "execution_count": 9,
   "id": "f7239795-f267-4ae7-b020-8c0a762a4fc3",
   "metadata": {},
   "outputs": [],
   "source": [
    "from gensim import corpora\n",
    "from gensim import models"
   ]
  },
  {
   "cell_type": "code",
   "execution_count": 10,
   "id": "da331d24-dc38-4aff-a1d8-953c3f37a850",
   "metadata": {},
   "outputs": [],
   "source": [
    "# 口コミからレコメンドに使用する情報を絞る\n",
    "# 試行錯誤して決定するべし!!\n",
    "ramen_words = cluster_to_words['ラーメンに関するワード']\n",
    "soup_words = cluster_to_words['スープに関するワード']\n",
    "topping_words = cluster_to_words['トッピングに関するワード']\n",
    "\n",
    "ramen_words.extend(soup_words)\n",
    "ramen_words.extend(topping_words)\n",
    "key_words = ramen_words"
   ]
  },
  {
   "cell_type": "code",
   "execution_count": 11,
   "id": "8a929bc4-490a-41b2-b10f-1bdbbe55031b",
   "metadata": {},
   "outputs": [],
   "source": [
    "with open('output/ramen_corpus.txt', 'r', encoding='utf-8') as f:\n",
    "    trainings = []\n",
    "    for i, data in enumerate(f):\n",
    "        # 不要な文字を取り除いて単語を取り出す\n",
    "        words = data.replace(\"'\", '').replace('[', '').replace(']', '').replace(' ', '').replace('\\n', '').split(\",\")\n",
    "        trainings.append([i for i in words if i in key_words])"
   ]
  },
  {
   "cell_type": "code",
   "execution_count": 12,
   "id": "77afb02a-a343-4081-b798-a30960feb129",
   "metadata": {},
   "outputs": [],
   "source": [
    "# 単語->id変換の辞書作成\n",
    "dictionary = corpora.Dictionary(trainings)"
   ]
  },
  {
   "cell_type": "code",
   "execution_count": 13,
   "id": "dfb69b91-1297-4d06-ae0d-a91192eafd82",
   "metadata": {},
   "outputs": [],
   "source": [
    "# textsをcorpus化\n",
    "corpus = list(map(dictionary.doc2bow, trainings))"
   ]
  },
  {
   "cell_type": "code",
   "execution_count": 14,
   "id": "04162bd1-420c-43c6-8d89-4dfc3d99132e",
   "metadata": {},
   "outputs": [],
   "source": [
    "# tfidf modelの生成\n",
    "test_model = models.TfidfModel(corpus)"
   ]
  },
  {
   "cell_type": "code",
   "execution_count": 15,
   "id": "5e84dcfe-2863-4e63-8936-e25ce1aaea11",
   "metadata": {},
   "outputs": [],
   "source": [
    "# corpusへのモデル適用\n",
    "corpus_tfidf = test_model[corpus]"
   ]
  },
  {
   "cell_type": "code",
   "execution_count": 16,
   "id": "a65665b9-7b74-4cae-8a12-14f730d20bc0",
   "metadata": {},
   "outputs": [],
   "source": [
    "# id->単語へ変換\n",
    "texts_tfidf = []    # id -> 単語表示に変えた文書ごとのTF-IDF\n",
    "for doc in corpus_tfidf:\n",
    "    text_tfidf = []\n",
    "    for word in doc:\n",
    "        text_tfidf.append([dictionary[word[0]], word[1]])\n",
    "    texts_tfidf.append(text_tfidf)"
   ]
  },
  {
   "cell_type": "code",
   "execution_count": 17,
   "id": "fb0ee36a-6f0c-413c-8aba-e1e5144ee6de",
   "metadata": {},
   "outputs": [],
   "source": [
    "from operator import itemgetter\n",
    "import pickle"
   ]
  },
  {
   "cell_type": "code",
   "execution_count": 18,
   "id": "772f8557-e636-49de-a010-a4a061489008",
   "metadata": {},
   "outputs": [],
   "source": [
    "texts_tfidf_sorted_top20 = [] \n",
    "\n",
    "#TF-IDF値を高い順に並び替え上位単語20個に絞る。\n",
    "for i in range(len(texts_tfidf)):\n",
    "    soted = sorted(texts_tfidf[i], key=itemgetter(1),reverse=True)\n",
    "    soted_top20 = soted[:20]\n",
    "    word_list = []\n",
    "    for k in range(len(soted_top20)):\n",
    "        word = soted_top20[k][0]\n",
    "        word_list.append(word)\n",
    "    texts_tfidf_sorted_top20.append(word_list)"
   ]
  },
  {
   "cell_type": "code",
   "execution_count": 28,
   "id": "369a109f-21dc-47f6-94f4-9bf93249b9f6",
   "metadata": {},
   "outputs": [],
   "source": [
    "# 結果をデータフレームに追加\n",
    "store_df = pd.read_csv('output/ramen_store.csv')\n",
    "review_df = pd.read_csv('output/ramen_review.csv')\n",
    "df_ramen = pd.merge(store_df, review_df)"
   ]
  },
  {
   "cell_type": "code",
   "execution_count": 26,
   "id": "357e5727-3937-461c-82d0-78d74ec3fb9b",
   "metadata": {},
   "outputs": [
    {
     "data": {
      "text/html": [
       "<div>\n",
       "<style scoped>\n",
       "    .dataframe tbody tr th:only-of-type {\n",
       "        vertical-align: middle;\n",
       "    }\n",
       "\n",
       "    .dataframe tbody tr th {\n",
       "        vertical-align: top;\n",
       "    }\n",
       "\n",
       "    .dataframe thead th {\n",
       "        text-align: right;\n",
       "    }\n",
       "</style>\n",
       "<table border=\"1\" class=\"dataframe\">\n",
       "  <thead>\n",
       "    <tr style=\"text-align: right;\">\n",
       "      <th></th>\n",
       "      <th>ID</th>\n",
       "      <th>texts_tfidf_sorted_top20</th>\n",
       "    </tr>\n",
       "  </thead>\n",
       "  <tbody>\n",
       "    <tr>\n",
       "      <th>0</th>\n",
       "      <td>1</td>\n",
       "      <td>[ワンタン, 昆布, 炭火, 海老, 特製, 火炙り, だれ, 炙り焼, 焼き豚, 藻塩, ...</td>\n",
       "    </tr>\n",
       "    <tr>\n",
       "      <th>1</th>\n",
       "      <td>2</td>\n",
       "      <td>[黒毛和牛, いりこ, 深谷, 火山, spf, spf豚, ワンタン, 手入れ, 鰹節, ...</td>\n",
       "    </tr>\n",
       "    <tr>\n",
       "      <th>2</th>\n",
       "      <td>3</td>\n",
       "      <td>[ワンタン, 手打, 中華そば, 三つ葉, 特製, 鶏胸肉, 生醤油, 紫蘇, うどん, 大...</td>\n",
       "    </tr>\n",
       "    <tr>\n",
       "      <th>3</th>\n",
       "      <td>4</td>\n",
       "      <td>[軍鶏, 替え玉, そば, まぜそば, しゃも, 卵黄, 醤油漬け, 素地, 燻製, 特製,...</td>\n",
       "    </tr>\n",
       "    <tr>\n",
       "      <th>4</th>\n",
       "      <td>5</td>\n",
       "      <td>[しじみ, 宍道湖, 島根県, シジミ, 琥珀, ワンタン, 雑色, バラ, コハク酸, 地...</td>\n",
       "    </tr>\n",
       "  </tbody>\n",
       "</table>\n",
       "</div>"
      ],
      "text/plain": [
       "   ID                           texts_tfidf_sorted_top20\n",
       "0   1  [ワンタン, 昆布, 炭火, 海老, 特製, 火炙り, だれ, 炙り焼, 焼き豚, 藻塩, ...\n",
       "1   2  [黒毛和牛, いりこ, 深谷, 火山, spf, spf豚, ワンタン, 手入れ, 鰹節, ...\n",
       "2   3  [ワンタン, 手打, 中華そば, 三つ葉, 特製, 鶏胸肉, 生醤油, 紫蘇, うどん, 大...\n",
       "3   4  [軍鶏, 替え玉, そば, まぜそば, しゃも, 卵黄, 醤油漬け, 素地, 燻製, 特製,...\n",
       "4   5  [しじみ, 宍道湖, 島根県, シジミ, 琥珀, ワンタン, 雑色, バラ, コハク酸, 地..."
      ]
     },
     "execution_count": 26,
     "metadata": {},
     "output_type": "execute_result"
    }
   ],
   "source": [
    "df_ramen = df_ramen.groupby(['ID', 'score'])['review'].apply(list).apply(' '.join).reset_index().sort_values('score', ascending=False)\n",
    "df_ramen['texts_tfidf_sorted_top20'] = texts_tfidf_sorted_top20\n",
    "\n",
    "df_ramen_texts_tfidf_sorted_top20 = df_ramen.iloc[:,[0, 3]].reset_index(drop=True)\n",
    "df_ramen_texts_tfidf_sorted_top20.head()"
   ]
  },
  {
   "cell_type": "code",
   "execution_count": 27,
   "id": "67f22a65-3153-4bb1-814c-c9265b52ee62",
   "metadata": {},
   "outputs": [],
   "source": [
    "# 上の結果をダンプ\n",
    "with open('output/df_ramen_texts_tfidf_sorted_top20', 'wb') as f:\n",
    "    pickle.dump(df_ramen_texts_tfidf_sorted_top20, f)"
   ]
  },
  {
   "cell_type": "code",
   "execution_count": 29,
   "id": "f5efd7ff-6722-4e61-95cd-3f2810030b0f",
   "metadata": {},
   "outputs": [],
   "source": [
    "df_ramen_texts_tfidf_sorted_top20.to_csv('output/tfidf_top20.csv')"
   ]
  },
  {
   "cell_type": "code",
   "execution_count": null,
   "id": "f6cb0a53-f6f6-4852-8c66-ce8fbf7c1f06",
   "metadata": {},
   "outputs": [],
   "source": []
  }
 ],
 "metadata": {
  "kernelspec": {
   "display_name": "Python 3",
   "language": "python",
   "name": "python3"
  },
  "language_info": {
   "codemirror_mode": {
    "name": "ipython",
    "version": 3
   },
   "file_extension": ".py",
   "mimetype": "text/x-python",
   "name": "python",
   "nbconvert_exporter": "python",
   "pygments_lexer": "ipython3",
   "version": "3.8.8"
  }
 },
 "nbformat": 4,
 "nbformat_minor": 5
}
