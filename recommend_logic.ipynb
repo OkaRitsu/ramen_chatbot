{
 "cells": [
  {
   "cell_type": "markdown",
   "id": "1201ca69-3388-4970-9672-d3f6d5fd8850",
   "metadata": {},
   "source": [
    "### コーパスの中身をkmeansでクラスタリング"
   ]
  },
  {
   "cell_type": "code",
   "execution_count": 1,
   "id": "a1ae374c-5273-4b50-9ebf-353088c85e7b",
   "metadata": {},
   "outputs": [],
   "source": [
    "from collections import defaultdict\n",
    "\n",
    "from gensim import corpora\n",
    "from gensim import models\n",
    "from gensim.models.keyedvectors import KeyedVectors\n",
    "import pandas as pd\n",
    "from sklearn.cluster import KMeans"
   ]
  },
  {
   "cell_type": "code",
   "execution_count": 2,
   "id": "a7e176dd-5f93-4934-bddb-7d099edff6a0",
   "metadata": {},
   "outputs": [],
   "source": [
    "model = KeyedVectors.load('output/word2vec_ramen_model.model')"
   ]
  },
  {
   "cell_type": "code",
   "execution_count": 3,
   "id": "b4689b45-c03c-47f4-9f59-5bd0a123cc38",
   "metadata": {},
   "outputs": [],
   "source": [
    "max_vocab = 30000\n",
    "vocab = list(model.wv.key_to_index.keys())[:max_vocab]\n",
    "vectors = [model.wv[word] for word in vocab]"
   ]
  },
  {
   "cell_type": "code",
   "execution_count": 5,
   "id": "a1f35f0f-e59d-46c5-8b9c-c0a863955a36",
   "metadata": {},
   "outputs": [
    {
     "data": {
      "text/plain": [
       "6887"
      ]
     },
     "execution_count": 5,
     "metadata": {},
     "output_type": "execute_result"
    }
   ],
   "source": [
    "len(vectors)"
   ]
  },
  {
   "cell_type": "code",
   "execution_count": 6,
   "id": "3c3d33b2-2f3b-4f9a-b258-5b15c535e74c",
   "metadata": {},
   "outputs": [
    {
     "data": {
      "text/plain": [
       "KMeans(n_clusters=6, random_state=42)"
      ]
     },
     "execution_count": 6,
     "metadata": {},
     "output_type": "execute_result"
    }
   ],
   "source": [
    "# クラスター数はこちらで任意の値を定める\n",
    "n_clusters = 6\n",
    "kmeans_model = KMeans(n_clusters=n_clusters, verbose=0, random_state=42)\n",
    "kmeans_model.fit(vectors)"
   ]
  },
  {
   "cell_type": "code",
   "execution_count": 7,
   "id": "02ff07a2-f2f0-4661-866c-238100ee9d8c",
   "metadata": {},
   "outputs": [],
   "source": [
    "cluster_labels = kmeans_model.labels_\n",
    "cluster_to_words = defaultdict(list)\n",
    "for cluster_id, word in zip(cluster_labels, vocab):\n",
    "    cluster_to_words[cluster_id].append(word)"
   ]
  },
  {
   "cell_type": "code",
   "execution_count": 9,
   "id": "08c7f6d5-cc88-48e7-9a22-498350726f2b",
   "metadata": {},
   "outputs": [
    {
     "name": "stdout",
     "output_type": "stream",
     "text": [
      "['スープ', 'よう', '醤油', '美味しい', 'これ', '感じ', '良い', '煮干し', '旨味', '濃厚', 'いい', '出汁', '香り', '味わい', 'つけ', '風味', '良く', '魚介', 'なく', 'バランス']\n",
      "['ラーメン', 'こと', 'そう', 'もの', 'ない', 'それ', '好き', 'ところ', 'ここ', '一杯', '美味しかっ', '美味しく', '高い', 'みたい', 'ため', '多い', '自分', '以上', '通り', 'なし']\n",
      "['チャーシュー', 'メンマ', 'トッピング', 'ワンタン', 'ネギ', '食感', '海苔', '具材', '調理', 'シンプル', '味付け', '相性', '0種類', 'タレ', '低温', '柔らかく', '柔らか', '玉子', 'もやし', 'ロース']\n",
      "['0円', 'そば', '注文', 'つけ麺', '特製', '中華そば', 'メニュー', 'らーめん', '今回', '提供', '普通', 'ご飯', '限定', '味噌', '醤油ラーメン', '塩ラーメン', '¥0', '0g', 'オーダー', '本日']\n",
      "['0分', '0時', '店内', 'カウンター', '食券', '到着', '待ち', '行列', '購入', '券売機', '入店', '時間', '店主', '開店', '店員', '着席', '雰囲気', '丁寧', '案内', 'お客さん']\n",
      "['さん', '訪問', 'こちら', '人気', '平日', 'ごちそうさま', 'ラーメン屋', '今日', '徒歩', '食べログ', '名店', '近く', 'オープン', '場所', '百名', 'ランチ', '営業', '評価', '東京', '仕事']\n"
     ]
    }
   ],
   "source": [
    "for words in cluster_to_words.values():\n",
    "    print(words[:20])"
   ]
  },
  {
   "cell_type": "code",
   "execution_count": 10,
   "id": "d9873ae1-092c-41ee-b3cc-b6e9ece088bd",
   "metadata": {},
   "outputs": [],
   "source": [
    "def change_dict_key(d, old_key, new_key, default_value=None):\n",
    "    d[new_key] = d.pop(old_key, default_value)"
   ]
  },
  {
   "cell_type": "code",
   "execution_count": 11,
   "id": "cb97f463-1860-4e67-94e8-c7b62761a747",
   "metadata": {},
   "outputs": [],
   "source": [
    "# 各クラスターの解釈を決定\n",
    "change_dict_key(cluster_to_words, 0, 'スープに関するワード')\n",
    "change_dict_key(cluster_to_words, 1, 'その他のワード')\n",
    "change_dict_key(cluster_to_words, 2, 'トッピングに関するワード')\n",
    "change_dict_key(cluster_to_words, 3,  'ラーメンに関するワード')\n",
    "change_dict_key(cluster_to_words, 4, '店内に関するワード')\n",
    "change_dict_key(cluster_to_words, 5, '店舗に関するワード')"
   ]
  },
  {
   "cell_type": "code",
   "execution_count": 13,
   "id": "c9fa0395-5ae0-4f3a-8855-dc5adb6a680f",
   "metadata": {},
   "outputs": [
    {
     "data": {
      "text/html": [
       "<div>\n",
       "<style scoped>\n",
       "    .dataframe tbody tr th:only-of-type {\n",
       "        vertical-align: middle;\n",
       "    }\n",
       "\n",
       "    .dataframe tbody tr th {\n",
       "        vertical-align: top;\n",
       "    }\n",
       "\n",
       "    .dataframe thead th {\n",
       "        text-align: right;\n",
       "    }\n",
       "</style>\n",
       "<table border=\"1\" class=\"dataframe\">\n",
       "  <thead>\n",
       "    <tr style=\"text-align: right;\">\n",
       "      <th></th>\n",
       "      <th>ラーメンに関するワード</th>\n",
       "      <th>スープに関するワード</th>\n",
       "      <th>トッピングに関するワード</th>\n",
       "      <th>店内に関するワード</th>\n",
       "      <th>店舗に関するワード</th>\n",
       "      <th>その他のワード</th>\n",
       "    </tr>\n",
       "  </thead>\n",
       "  <tbody>\n",
       "    <tr>\n",
       "      <th>0</th>\n",
       "      <td>スープ</td>\n",
       "      <td>ラーメン</td>\n",
       "      <td>チャーシュー</td>\n",
       "      <td>さん</td>\n",
       "      <td>0分</td>\n",
       "      <td>0円</td>\n",
       "    </tr>\n",
       "    <tr>\n",
       "      <th>1</th>\n",
       "      <td>よう</td>\n",
       "      <td>こと</td>\n",
       "      <td>メンマ</td>\n",
       "      <td>訪問</td>\n",
       "      <td>0時</td>\n",
       "      <td>そば</td>\n",
       "    </tr>\n",
       "    <tr>\n",
       "      <th>2</th>\n",
       "      <td>醤油</td>\n",
       "      <td>そう</td>\n",
       "      <td>トッピング</td>\n",
       "      <td>こちら</td>\n",
       "      <td>店内</td>\n",
       "      <td>注文</td>\n",
       "    </tr>\n",
       "    <tr>\n",
       "      <th>3</th>\n",
       "      <td>美味しい</td>\n",
       "      <td>もの</td>\n",
       "      <td>ワンタン</td>\n",
       "      <td>人気</td>\n",
       "      <td>カウンター</td>\n",
       "      <td>つけ麺</td>\n",
       "    </tr>\n",
       "    <tr>\n",
       "      <th>4</th>\n",
       "      <td>これ</td>\n",
       "      <td>ない</td>\n",
       "      <td>ネギ</td>\n",
       "      <td>平日</td>\n",
       "      <td>食券</td>\n",
       "      <td>特製</td>\n",
       "    </tr>\n",
       "  </tbody>\n",
       "</table>\n",
       "</div>"
      ],
      "text/plain": [
       "  ラーメンに関するワード スープに関するワード トッピングに関するワード 店内に関するワード 店舗に関するワード その他のワード\n",
       "0         スープ       ラーメン       チャーシュー        さん        0分      0円\n",
       "1          よう         こと          メンマ        訪問        0時      そば\n",
       "2          醤油         そう        トッピング       こちら        店内      注文\n",
       "3        美味しい         もの         ワンタン        人気     カウンター     つけ麺\n",
       "4          これ         ない           ネギ        平日        食券      特製"
      ]
     },
     "execution_count": 13,
     "metadata": {},
     "output_type": "execute_result"
    }
   ],
   "source": [
    "df = pd.DataFrame.from_dict(cluster_to_words, orient=\"index\").T\n",
    "df = df.iloc[:, [3, 0, 2, 4, 5, 1]]\n",
    "df.head()"
   ]
  },
  {
   "cell_type": "markdown",
   "id": "8be4d77a-fb19-48dc-8e64-cefb7c66c3c4",
   "metadata": {},
   "source": [
    "### TF-IDFで文章における特徴的な単語を抽出"
   ]
  },
  {
   "cell_type": "code",
   "execution_count": 20,
   "id": "f7239795-f267-4ae7-b020-8c0a762a4fc3",
   "metadata": {},
   "outputs": [],
   "source": [
    "from gensim import corpora\n",
    "from gensim import models"
   ]
  },
  {
   "cell_type": "code",
   "execution_count": 18,
   "id": "da331d24-dc38-4aff-a1d8-953c3f37a850",
   "metadata": {},
   "outputs": [
    {
     "data": {
      "text/plain": [
       "15019"
      ]
     },
     "execution_count": 18,
     "metadata": {},
     "output_type": "execute_result"
    }
   ],
   "source": [
    "# 口コミからレコメンドに使用する情報を絞る\n",
    "# 試行錯誤して決定するべし!!\n",
    "ramen_words = cluster_to_words['ラーメンに関するワード']\n",
    "soup_words = cluster_to_words['スープに関するワード']\n",
    "topping_words = cluster_to_words['トッピングに関するワード']\n",
    "\n",
    "ramen_words.extend(soup_words)\n",
    "ramen_words.extend(topping_words)\n",
    "key_words = ramen_words\n",
    "\n",
    "len(key_words)"
   ]
  },
  {
   "cell_type": "code",
   "execution_count": 19,
   "id": "8a929bc4-490a-41b2-b10f-1bdbbe55031b",
   "metadata": {},
   "outputs": [],
   "source": [
    "with open('output/ramen_corpus.txt', 'r', encoding='utf-8') as f:\n",
    "    trainings = []\n",
    "    for i, data in enumerate(f):\n",
    "        # 不要な文字を取り除いて単語を取り出す\n",
    "        words = data.replace(\"'\", '').replace('[', '').replace(']', '').replace(' ', '').replace('\\n', '').split(\",\")\n",
    "        trainings.append([i for i in words if i in key_words])"
   ]
  },
  {
   "cell_type": "code",
   "execution_count": 21,
   "id": "77afb02a-a343-4081-b798-a30960feb129",
   "metadata": {},
   "outputs": [],
   "source": [
    "# 単語->id変換の辞書作成\n",
    "dictionary = corpora.Dictionary(trainings)"
   ]
  },
  {
   "cell_type": "code",
   "execution_count": 22,
   "id": "dfb69b91-1297-4d06-ae0d-a91192eafd82",
   "metadata": {},
   "outputs": [],
   "source": [
    "# textsをcorpus化\n",
    "corpus = list(map(dictionary.doc2bow, trainings))"
   ]
  },
  {
   "cell_type": "code",
   "execution_count": 23,
   "id": "04162bd1-420c-43c6-8d89-4dfc3d99132e",
   "metadata": {},
   "outputs": [],
   "source": [
    "# tfidf modelの生成\n",
    "test_model = models.TfidfModel(corpus)"
   ]
  },
  {
   "cell_type": "code",
   "execution_count": 24,
   "id": "5e84dcfe-2863-4e63-8936-e25ce1aaea11",
   "metadata": {},
   "outputs": [],
   "source": [
    "# corpusへのモデル適用\n",
    "corpus_tfidf = test_model[corpus]"
   ]
  },
  {
   "cell_type": "code",
   "execution_count": 25,
   "id": "a65665b9-7b74-4cae-8a12-14f730d20bc0",
   "metadata": {},
   "outputs": [],
   "source": [
    "# id->単語へ変換\n",
    "texts_tfidf = []    # id -> 単語表示に変えた文書ごとのTF-IDF\n",
    "for doc in corpus_tfidf:\n",
    "    text_tfidf = []\n",
    "    for word in doc:\n",
    "        text_tfidf.append([dictionary[word[0]], word[1]])\n",
    "    texts_tfidf.append(text_tfidf)"
   ]
  },
  {
   "cell_type": "code",
   "execution_count": 28,
   "id": "fb0ee36a-6f0c-413c-8aba-e1e5144ee6de",
   "metadata": {},
   "outputs": [],
   "source": [
    "from operator import itemgetter\n",
    "import pickle"
   ]
  },
  {
   "cell_type": "code",
   "execution_count": 27,
   "id": "772f8557-e636-49de-a010-a4a061489008",
   "metadata": {},
   "outputs": [],
   "source": [
    "texts_tfidf_sorted_top20 = [] \n",
    "\n",
    "#TF-IDF値を高い順に並び替え上位単語20個に絞る。\n",
    "for i in range(len(texts_tfidf)):\n",
    "    soted = sorted(texts_tfidf[i], key=itemgetter(1),reverse=True)\n",
    "    soted_top20 = soted[:20]\n",
    "    word_list = []\n",
    "    for k in range(len(soted_top20)):\n",
    "        word = soted_top20[k][0]\n",
    "        word_list.append(word)\n",
    "    texts_tfidf_sorted_top20.append(word_list)"
   ]
  },
  {
   "cell_type": "code",
   "execution_count": 44,
   "id": "369a109f-21dc-47f6-94f4-9bf93249b9f6",
   "metadata": {},
   "outputs": [
    {
     "name": "stdout",
     "output_type": "stream",
     "text": [
      "columns:\n",
      " Index(['ID', 'name', 'score', 'review_count', 'review',\n",
      "       'texts_tfidf_sorted_top20'],\n",
      "      dtype='object')\n",
      "\n",
      "shape:  (200, 6)\n"
     ]
    }
   ],
   "source": [
    "# 結果をデータフレームに追加\n",
    "store_df = pd.read_csv('output/ramen_store.csv')\n",
    "review_df = pd.read_csv('output/ramen_review.csv')\n",
    "df = pd.merge(store_df, review_df)\n",
    "\n",
    "print('columns:\\n', df_ramen.columns)\n",
    "print('\\nshape: ', df_ramen.shape)"
   ]
  },
  {
   "cell_type": "code",
   "execution_count": 85,
   "id": "357e5727-3937-461c-82d0-78d74ec3fb9b",
   "metadata": {},
   "outputs": [
    {
     "data": {
      "text/html": [
       "<div>\n",
       "<style scoped>\n",
       "    .dataframe tbody tr th:only-of-type {\n",
       "        vertical-align: middle;\n",
       "    }\n",
       "\n",
       "    .dataframe tbody tr th {\n",
       "        vertical-align: top;\n",
       "    }\n",
       "\n",
       "    .dataframe thead th {\n",
       "        text-align: right;\n",
       "    }\n",
       "</style>\n",
       "<table border=\"1\" class=\"dataframe\">\n",
       "  <thead>\n",
       "    <tr style=\"text-align: right;\">\n",
       "      <th></th>\n",
       "      <th>ID</th>\n",
       "      <th>name</th>\n",
       "      <th>texts_tfidf_sorted_top20</th>\n",
       "    </tr>\n",
       "  </thead>\n",
       "  <tbody>\n",
       "    <tr>\n",
       "      <th>0</th>\n",
       "      <td>1</td>\n",
       "      <td>らぁ麺や 嶋</td>\n",
       "      <td>[ワンタン, 炭火, 海老, 昆布, 佐野実, だれ, 焼き豚, 炙り焼, 佐野, 藻塩, ...</td>\n",
       "    </tr>\n",
       "    <tr>\n",
       "      <th>1</th>\n",
       "      <td>2</td>\n",
       "      <td>Homemade Ramen 麦苗</td>\n",
       "      <td>[黒毛和牛, 火山, 深谷, spf豚, spf, 実家, ワンタン, 手入れ, 鰹節, オ...</td>\n",
       "    </tr>\n",
       "    <tr>\n",
       "      <th>2</th>\n",
       "      <td>3</td>\n",
       "      <td>手打式超多加水麺 ののくら</td>\n",
       "      <td>[ワンタン, 手打, 三つ葉, 鶏胸肉, 生醤油, うどん, 大葉, 0%, 紫蘇, 形成,...</td>\n",
       "    </tr>\n",
       "    <tr>\n",
       "      <th>3</th>\n",
       "      <td>4</td>\n",
       "      <td>麺尊 RAGE</td>\n",
       "      <td>[しゃも, 卵黄, 醤油漬け, 素地, レモン, 浸透, シャモ, 燻製, 鶏油, 咀嚼, ...</td>\n",
       "    </tr>\n",
       "    <tr>\n",
       "      <th>4</th>\n",
       "      <td>5</td>\n",
       "      <td>宍道湖しじみ中華蕎麦 琥珀</td>\n",
       "      <td>[しじみ, 島根県, シジミ, ワンタン, 琥珀, バラ, 雑色, コハク酸, 菅野, 焼き...</td>\n",
       "    </tr>\n",
       "  </tbody>\n",
       "</table>\n",
       "</div>"
      ],
      "text/plain": [
       "   ID               name                           texts_tfidf_sorted_top20\n",
       "0   1             らぁ麺や 嶋  [ワンタン, 炭火, 海老, 昆布, 佐野実, だれ, 焼き豚, 炙り焼, 佐野, 藻塩, ...\n",
       "1   2  Homemade Ramen 麦苗  [黒毛和牛, 火山, 深谷, spf豚, spf, 実家, ワンタン, 手入れ, 鰹節, オ...\n",
       "2   3      手打式超多加水麺 ののくら  [ワンタン, 手打, 三つ葉, 鶏胸肉, 生醤油, うどん, 大葉, 0%, 紫蘇, 形成,...\n",
       "3   4            麺尊 RAGE  [しゃも, 卵黄, 醤油漬け, 素地, レモン, 浸透, シャモ, 燻製, 鶏油, 咀嚼, ...\n",
       "4   5      宍道湖しじみ中華蕎麦 琥珀  [しじみ, 島根県, シジミ, ワンタン, 琥珀, バラ, 雑色, コハク酸, 菅野, 焼き..."
      ]
     },
     "execution_count": 85,
     "metadata": {},
     "output_type": "execute_result"
    }
   ],
   "source": [
    "df_ramen = df.groupby(['ID', 'name', 'score', 'review_count'])['review'].apply(list).apply(' '.join).reset_index().sort_values('score', ascending=False)\n",
    "df_ramen['texts_tfidf_sorted_top20'] = texts_tfidf_sorted_top20\n",
    "\n",
    "df_ramen_texts_tfidf_sorted_top20 = df_ramen.iloc[:,[0, 1, 5]].reset_index(drop=True)\n",
    "df_ramen_texts_tfidf_sorted_top20.head()"
   ]
  },
  {
   "cell_type": "code",
   "execution_count": 86,
   "id": "67f22a65-3153-4bb1-814c-c9265b52ee62",
   "metadata": {},
   "outputs": [],
   "source": [
    "# 上の結果をダンプ\n",
    "pickle.dump(df_ramen_texts_tfidf_sorted_top20, open('output/df_ramen_texts_tfidf_sorted_top20', 'wb'))"
   ]
  },
  {
   "cell_type": "markdown",
   "id": "09f2291c-d58f-4db7-808c-6ec817526dd9",
   "metadata": {},
   "source": [
    "### お店間の類似度を計算"
   ]
  },
  {
   "cell_type": "code",
   "execution_count": 87,
   "id": "2c8940a3-56b4-4481-a7b9-40a1366af82c",
   "metadata": {},
   "outputs": [],
   "source": [
    "from itertools import product"
   ]
  },
  {
   "cell_type": "code",
   "execution_count": 88,
   "id": "2fd64c74-4646-4d3a-b94e-ac979201e449",
   "metadata": {},
   "outputs": [],
   "source": [
    "f = open('output/df_ramen_texts_tfidf_sorted_top20','rb')\n",
    "store_df = pickle.load(f)\n",
    "store_cross = []\n",
    "for ids in product(store_df['ID'], repeat=2):\n",
    "    store_cross.append(ids)"
   ]
  },
  {
   "cell_type": "code",
   "execution_count": 89,
   "id": "f2d24630-617d-49ed-b851-6bd2a249627f",
   "metadata": {},
   "outputs": [
    {
     "data": {
      "text/html": [
       "<div>\n",
       "<style scoped>\n",
       "    .dataframe tbody tr th:only-of-type {\n",
       "        vertical-align: middle;\n",
       "    }\n",
       "\n",
       "    .dataframe tbody tr th {\n",
       "        vertical-align: top;\n",
       "    }\n",
       "\n",
       "    .dataframe thead th {\n",
       "        text-align: right;\n",
       "    }\n",
       "</style>\n",
       "<table border=\"1\" class=\"dataframe\">\n",
       "  <thead>\n",
       "    <tr style=\"text-align: right;\">\n",
       "      <th></th>\n",
       "      <th>id_x</th>\n",
       "      <th>id_y</th>\n",
       "    </tr>\n",
       "  </thead>\n",
       "  <tbody>\n",
       "    <tr>\n",
       "      <th>0</th>\n",
       "      <td>1</td>\n",
       "      <td>1</td>\n",
       "    </tr>\n",
       "    <tr>\n",
       "      <th>1</th>\n",
       "      <td>1</td>\n",
       "      <td>2</td>\n",
       "    </tr>\n",
       "    <tr>\n",
       "      <th>2</th>\n",
       "      <td>1</td>\n",
       "      <td>3</td>\n",
       "    </tr>\n",
       "    <tr>\n",
       "      <th>3</th>\n",
       "      <td>1</td>\n",
       "      <td>4</td>\n",
       "    </tr>\n",
       "    <tr>\n",
       "      <th>4</th>\n",
       "      <td>1</td>\n",
       "      <td>5</td>\n",
       "    </tr>\n",
       "  </tbody>\n",
       "</table>\n",
       "</div>"
      ],
      "text/plain": [
       "   id_x  id_y\n",
       "0     1     1\n",
       "1     1     2\n",
       "2     1     3\n",
       "3     1     4\n",
       "4     1     5"
      ]
     },
     "execution_count": 89,
     "metadata": {},
     "output_type": "execute_result"
    }
   ],
   "source": [
    "store_cross_df = pd.DataFrame(store_cross, columns=['id_x', 'id_y'])\n",
    "store_cross_df.head()"
   ]
  },
  {
   "cell_type": "code",
   "execution_count": 95,
   "id": "126f984b-6550-497a-91fc-415e829d07cb",
   "metadata": {},
   "outputs": [
    {
     "data": {
      "text/html": [
       "<div>\n",
       "<style scoped>\n",
       "    .dataframe tbody tr th:only-of-type {\n",
       "        vertical-align: middle;\n",
       "    }\n",
       "\n",
       "    .dataframe tbody tr th {\n",
       "        vertical-align: top;\n",
       "    }\n",
       "\n",
       "    .dataframe thead th {\n",
       "        text-align: right;\n",
       "    }\n",
       "</style>\n",
       "<table border=\"1\" class=\"dataframe\">\n",
       "  <thead>\n",
       "    <tr style=\"text-align: right;\">\n",
       "      <th></th>\n",
       "      <th>id_x</th>\n",
       "      <th>id_y</th>\n",
       "      <th>name_x</th>\n",
       "      <th>texts_tfidf_sorted_top20_x</th>\n",
       "      <th>name_y</th>\n",
       "      <th>texts_tfidf_sorted_top20_y</th>\n",
       "    </tr>\n",
       "  </thead>\n",
       "  <tbody>\n",
       "    <tr>\n",
       "      <th>0</th>\n",
       "      <td>1</td>\n",
       "      <td>1</td>\n",
       "      <td>らぁ麺や 嶋</td>\n",
       "      <td>[ワンタン, 炭火, 海老, 昆布, 佐野実, だれ, 焼き豚, 炙り焼, 佐野, 藻塩, ...</td>\n",
       "      <td>らぁ麺や 嶋</td>\n",
       "      <td>[ワンタン, 炭火, 海老, 昆布, 佐野実, だれ, 焼き豚, 炙り焼, 佐野, 藻塩, ...</td>\n",
       "    </tr>\n",
       "    <tr>\n",
       "      <th>5508</th>\n",
       "      <td>1</td>\n",
       "      <td>121</td>\n",
       "      <td>らぁ麺や 嶋</td>\n",
       "      <td>[ワンタン, 炭火, 海老, 昆布, 佐野実, だれ, 焼き豚, 炙り焼, 佐野, 藻塩, ...</td>\n",
       "      <td>食堂七彩</td>\n",
       "      <td>[かた焼, きそば, 海老, クラゲ, 風麻, 中華屋, 紹興酒, 白菜, 味の素, 息子,...</td>\n",
       "    </tr>\n",
       "    <tr>\n",
       "      <th>5559</th>\n",
       "      <td>1</td>\n",
       "      <td>120</td>\n",
       "      <td>らぁ麺や 嶋</td>\n",
       "      <td>[ワンタン, 炭火, 海老, 昆布, 佐野実, だれ, 焼き豚, 炙り焼, 佐野, 藻塩, ...</td>\n",
       "      <td>MENSHO</td>\n",
       "      <td>[煮干し, こんにゃく, 穂先, 三つ葉, 煮干, ごま油, 高菜, 三河, 三河屋, 特長...</td>\n",
       "    </tr>\n",
       "    <tr>\n",
       "      <th>5610</th>\n",
       "      <td>1</td>\n",
       "      <td>119</td>\n",
       "      <td>らぁ麺や 嶋</td>\n",
       "      <td>[ワンタン, 炭火, 海老, 昆布, 佐野実, だれ, 焼き豚, 炙り焼, 佐野, 藻塩, ...</td>\n",
       "      <td>RAMEN GOTTSU</td>\n",
       "      <td>[ワカメ, 貝出, タケノコ, 豚野郎, 三つ葉, アサリ, 浅利, フライドオニオン, 長...</td>\n",
       "    </tr>\n",
       "    <tr>\n",
       "      <th>5661</th>\n",
       "      <td>1</td>\n",
       "      <td>118</td>\n",
       "      <td>らぁ麺や 嶋</td>\n",
       "      <td>[ワンタン, 炭火, 海老, 昆布, 佐野実, だれ, 焼き豚, 炙り焼, 佐野, 藻塩, ...</td>\n",
       "      <td>新世界菜館</td>\n",
       "      <td>[煮干し, 比内, 自家製, エグミ, 九十九里, 自信, パッツンパッツン, オイラ, 調...</td>\n",
       "    </tr>\n",
       "  </tbody>\n",
       "</table>\n",
       "</div>"
      ],
      "text/plain": [
       "      id_x  id_y  name_x                         texts_tfidf_sorted_top20_x  \\\n",
       "0        1     1  らぁ麺や 嶋  [ワンタン, 炭火, 海老, 昆布, 佐野実, だれ, 焼き豚, 炙り焼, 佐野, 藻塩, ...   \n",
       "5508     1   121  らぁ麺や 嶋  [ワンタン, 炭火, 海老, 昆布, 佐野実, だれ, 焼き豚, 炙り焼, 佐野, 藻塩, ...   \n",
       "5559     1   120  らぁ麺や 嶋  [ワンタン, 炭火, 海老, 昆布, 佐野実, だれ, 焼き豚, 炙り焼, 佐野, 藻塩, ...   \n",
       "5610     1   119  らぁ麺や 嶋  [ワンタン, 炭火, 海老, 昆布, 佐野実, だれ, 焼き豚, 炙り焼, 佐野, 藻塩, ...   \n",
       "5661     1   118  らぁ麺や 嶋  [ワンタン, 炭火, 海老, 昆布, 佐野実, だれ, 焼き豚, 炙り焼, 佐野, 藻塩, ...   \n",
       "\n",
       "            name_y                         texts_tfidf_sorted_top20_y  \n",
       "0           らぁ麺や 嶋  [ワンタン, 炭火, 海老, 昆布, 佐野実, だれ, 焼き豚, 炙り焼, 佐野, 藻塩, ...  \n",
       "5508          食堂七彩  [かた焼, きそば, 海老, クラゲ, 風麻, 中華屋, 紹興酒, 白菜, 味の素, 息子,...  \n",
       "5559        MENSHO  [煮干し, こんにゃく, 穂先, 三つ葉, 煮干, ごま油, 高菜, 三河, 三河屋, 特長...  \n",
       "5610  RAMEN GOTTSU  [ワカメ, 貝出, タケノコ, 豚野郎, 三つ葉, アサリ, 浅利, フライドオニオン, 長...  \n",
       "5661         新世界菜館  [煮干し, 比内, 自家製, エグミ, 九十九里, 自信, パッツンパッツン, オイラ, 調...  "
      ]
     },
     "execution_count": 95,
     "metadata": {},
     "output_type": "execute_result"
    }
   ],
   "source": [
    "store_cross_detail = store_cross_df.merge(\n",
    "    store_df[['ID','name','texts_tfidf_sorted_top20']], how='inner', left_on='id_x', right_on='ID'\n",
    ").drop(columns='ID').merge(\n",
    "    store_df[['ID','name','texts_tfidf_sorted_top20']], how='inner', left_on='id_y', right_on='ID'\n",
    ").drop(columns='ID')\n",
    "\n",
    "store_cross_detail = store_cross_detail[store_cross_detail['id_x'].isin(store_df['ID'].loc[0:50])]\n",
    "store_cross_detail = store_cross_detail.reset_index(drop=True).sort_values(['id_x'])\n",
    "\n",
    "store_cross_detail.head()"
   ]
  },
  {
   "cell_type": "markdown",
   "id": "bc793a01-4e98-4254-bedb-75b03780e639",
   "metadata": {},
   "source": [
    "#### ラーメン店xに対してラーメン店yの類似度を算出"
   ]
  },
  {
   "cell_type": "code",
   "execution_count": 59,
   "id": "5ab93339-4029-4818-a047-60637992d5ef",
   "metadata": {},
   "outputs": [],
   "source": [
    "import itertools\n",
    "from tqdm import tqdm "
   ]
  },
  {
   "cell_type": "code",
   "execution_count": 52,
   "id": "6b808f63-8fe0-414e-8db6-62e9a622883f",
   "metadata": {},
   "outputs": [],
   "source": [
    "#コサイン類似度を算出する関数を定義\n",
    "def cos_sim(v1, v2):\n",
    "    return np.dot(v1, v2) / (np.linalg.norm(v1) * np.linalg.norm(v2))"
   ]
  },
  {
   "cell_type": "code",
   "execution_count": 96,
   "id": "9a63afe8-944e-4785-addd-af0557164d4a",
   "metadata": {},
   "outputs": [],
   "source": [
    "# word2vecのモデルを読み込み\n",
    "import numpy as np\n",
    "from gensim.models import word2vec\n",
    "\n",
    "word2vec_ramen_model = word2vec.Word2Vec.load(\"output/word2vec_ramen_model.model\")"
   ]
  },
  {
   "cell_type": "code",
   "execution_count": 97,
   "id": "8a0145a7-f297-4c8e-801f-167659718a0a",
   "metadata": {},
   "outputs": [],
   "source": [
    "# cossimだけの組み合わせ（同じワード同士の組みあわせがでてくるため）\n",
    "# 2次元を１次元にする　setが重複を削除てきなやつ。\n",
    "uniq_words = list(set(itertools.chain.from_iterable(store_df['texts_tfidf_sorted_top20'].values)))\n",
    "scores = {}\n",
    "for word1, word2 in product(uniq_words, repeat=2):\n",
    "    scores[(word1, word2)] = cos_sim(word2vec_ramen_model.wv[word1],\n",
    "                                     word2vec_ramen_model.wv[word2]) "
   ]
  },
  {
   "cell_type": "code",
   "execution_count": 98,
   "id": "0b4b58b3-dba1-4c23-bf0f-d40a0273c4ba",
   "metadata": {},
   "outputs": [
    {
     "name": "stderr",
     "output_type": "stream",
     "text": [
      "100%|██████████| 10200/10200 [00:20<00:00, 494.19it/s]\n"
     ]
    }
   ],
   "source": [
    "avg_avg_scores = []\n",
    "for i in tqdm(range(len(store_cross_detail['texts_tfidf_sorted_top20_x']))):\n",
    "    avg_scores = []\n",
    "    for j in range(len(store_cross_detail['texts_tfidf_sorted_top20_x'][i])):\n",
    "        word_cross_scores = []\n",
    "        word_a = store_cross_detail['texts_tfidf_sorted_top20_x'][i][j]\n",
    "        for k in range(len(store_cross_detail['texts_tfidf_sorted_top20_y'][i])):\n",
    "            word_b = store_cross_detail['texts_tfidf_sorted_top20_y'][i][k]\n",
    "            # 単語間のスコアを出す。\n",
    "            score = scores[(word_a, word_b)]\n",
    "            word_cross_scores.append(score)\n",
    "        # 20個の単語間スコアの平均値\n",
    "        avg_scores.append(np.mean(word_cross_scores))\n",
    "        # 20個の単語間スコアの平均値の平均値\n",
    "    avg_avg_scores.append(np.mean(avg_scores))\n",
    "store_cross_detail.insert(6, 'avg_cos_sim_rate', avg_avg_scores)  "
   ]
  },
  {
   "cell_type": "code",
   "execution_count": 104,
   "id": "e6cd90a3-6761-4c7e-9126-7c9e8c3c3f2f",
   "metadata": {},
   "outputs": [
    {
     "data": {
      "text/html": [
       "<div>\n",
       "<style scoped>\n",
       "    .dataframe tbody tr th:only-of-type {\n",
       "        vertical-align: middle;\n",
       "    }\n",
       "\n",
       "    .dataframe tbody tr th {\n",
       "        vertical-align: top;\n",
       "    }\n",
       "\n",
       "    .dataframe thead th {\n",
       "        text-align: right;\n",
       "    }\n",
       "</style>\n",
       "<table border=\"1\" class=\"dataframe\">\n",
       "  <thead>\n",
       "    <tr style=\"text-align: right;\">\n",
       "      <th></th>\n",
       "      <th>id_x</th>\n",
       "      <th>id_y</th>\n",
       "      <th>name_x</th>\n",
       "      <th>texts_tfidf_sorted_top20_x</th>\n",
       "      <th>name_y</th>\n",
       "      <th>texts_tfidf_sorted_top20_y</th>\n",
       "      <th>avg_cos_sim_rate</th>\n",
       "    </tr>\n",
       "  </thead>\n",
       "  <tbody>\n",
       "    <tr>\n",
       "      <th>8570</th>\n",
       "      <td>3</td>\n",
       "      <td>168</td>\n",
       "      <td>手打式超多加水麺 ののくら</td>\n",
       "      <td>[ワンタン, 手打, 三つ葉, 鶏胸肉, 生醤油, うどん, 大葉, 0%, 紫蘇, 形成,...</td>\n",
       "      <td>楽観 NISHIAZABU GOLD</td>\n",
       "      <td>[八王子ラーメン, 玉ネギ, 玉ねぎ, 巧真, ラード, みじん, 一面, 細か, タマネギ...</td>\n",
       "      <td>0.705828</td>\n",
       "    </tr>\n",
       "    <tr>\n",
       "      <th>1124</th>\n",
       "      <td>3</td>\n",
       "      <td>26</td>\n",
       "      <td>手打式超多加水麺 ののくら</td>\n",
       "      <td>[ワンタン, 手打, 三つ葉, 鶏胸肉, 生醤油, うどん, 大葉, 0%, 紫蘇, 形成,...</td>\n",
       "      <td>カネキッチン ヌードル</td>\n",
       "      <td>[みょうが, 黒木, 生姜, たけ, エレガント, ドライトマト, 鶏団子, ワンタン, つ...</td>\n",
       "      <td>0.699934</td>\n",
       "    </tr>\n",
       "    <tr>\n",
       "      <th>4796</th>\n",
       "      <td>3</td>\n",
       "      <td>103</td>\n",
       "      <td>手打式超多加水麺 ののくら</td>\n",
       "      <td>[ワンタン, 手打, 三つ葉, 鶏胸肉, 生醤油, うどん, 大葉, 0%, 紫蘇, 形成,...</td>\n",
       "      <td>大島</td>\n",
       "      <td>[もやし, ワンタン, 町中華, フライドオニオン, 中華屋, ニラ, ニンジン, モヤシ,...</td>\n",
       "      <td>0.699866</td>\n",
       "    </tr>\n",
       "    <tr>\n",
       "      <th>6173</th>\n",
       "      <td>3</td>\n",
       "      <td>107</td>\n",
       "      <td>手打式超多加水麺 ののくら</td>\n",
       "      <td>[ワンタン, 手打, 三つ葉, 鶏胸肉, 生醤油, うどん, 大葉, 0%, 紫蘇, 形成,...</td>\n",
       "      <td>麺屋海神 新宿店</td>\n",
       "      <td>[鯛の刺身, 鯛の切り身, 柚子, お麩, 茶漬, 柚子の皮, 切り身, スーフ, 穂先, ...</td>\n",
       "      <td>0.696450</td>\n",
       "    </tr>\n",
       "    <tr>\n",
       "      <th>9233</th>\n",
       "      <td>3</td>\n",
       "      <td>198</td>\n",
       "      <td>手打式超多加水麺 ののくら</td>\n",
       "      <td>[ワンタン, 手打, 三つ葉, 鶏胸肉, 生醤油, うどん, 大葉, 0%, 紫蘇, 形成,...</td>\n",
       "      <td>田中そば店 秋葉原店</td>\n",
       "      <td>[コーン, ファイヤー, もやし, オロチョン, 赤味噌, 開花, 東京スタイル, 札幌, ...</td>\n",
       "      <td>0.693576</td>\n",
       "    </tr>\n",
       "  </tbody>\n",
       "</table>\n",
       "</div>"
      ],
      "text/plain": [
       "      id_x  id_y         name_x  \\\n",
       "8570     3   168  手打式超多加水麺 ののくら   \n",
       "1124     3    26  手打式超多加水麺 ののくら   \n",
       "4796     3   103  手打式超多加水麺 ののくら   \n",
       "6173     3   107  手打式超多加水麺 ののくら   \n",
       "9233     3   198  手打式超多加水麺 ののくら   \n",
       "\n",
       "                             texts_tfidf_sorted_top20_x              name_y  \\\n",
       "8570  [ワンタン, 手打, 三つ葉, 鶏胸肉, 生醤油, うどん, 大葉, 0%, 紫蘇, 形成,...  楽観 NISHIAZABU GOLD   \n",
       "1124  [ワンタン, 手打, 三つ葉, 鶏胸肉, 生醤油, うどん, 大葉, 0%, 紫蘇, 形成,...         カネキッチン ヌードル   \n",
       "4796  [ワンタン, 手打, 三つ葉, 鶏胸肉, 生醤油, うどん, 大葉, 0%, 紫蘇, 形成,...                  大島   \n",
       "6173  [ワンタン, 手打, 三つ葉, 鶏胸肉, 生醤油, うどん, 大葉, 0%, 紫蘇, 形成,...            麺屋海神 新宿店   \n",
       "9233  [ワンタン, 手打, 三つ葉, 鶏胸肉, 生醤油, うどん, 大葉, 0%, 紫蘇, 形成,...          田中そば店 秋葉原店   \n",
       "\n",
       "                             texts_tfidf_sorted_top20_y  avg_cos_sim_rate  \n",
       "8570  [八王子ラーメン, 玉ネギ, 玉ねぎ, 巧真, ラード, みじん, 一面, 細か, タマネギ...          0.705828  \n",
       "1124  [みょうが, 黒木, 生姜, たけ, エレガント, ドライトマト, 鶏団子, ワンタン, つ...          0.699934  \n",
       "4796  [もやし, ワンタン, 町中華, フライドオニオン, 中華屋, ニラ, ニンジン, モヤシ,...          0.699866  \n",
       "6173  [鯛の刺身, 鯛の切り身, 柚子, お麩, 茶漬, 柚子の皮, 切り身, スーフ, 穂先, ...          0.696450  \n",
       "9233  [コーン, ファイヤー, もやし, オロチョン, 赤味噌, 開花, 東京スタイル, 札幌, ...          0.693576  "
      ]
     },
     "execution_count": 104,
     "metadata": {},
     "output_type": "execute_result"
    }
   ],
   "source": [
    "# 類似度が高いラーメン屋を高い順に表示\n",
    "keyword = 'ののくら'\n",
    "store_cross_detail = store_cross_detail.sort_values(['id_x', 'avg_cos_sim_rate'], ascending=[True, False])\n",
    "df_sim_x = store_cross_detail[store_cross_detail['name_x'].str.contains(keyword)]\n",
    "df_sim_x.reset_index(drop=True)\n",
    "df_sim_x.head()"
   ]
  },
  {
   "cell_type": "code",
   "execution_count": 105,
   "id": "c3cd85d9-334e-40f8-898f-d3bc8abf44c9",
   "metadata": {},
   "outputs": [],
   "source": [
    "# 正規化\n",
    "def min_max(x, axis=None):\n",
    "    min = x.min(axis=axis, keepdims=True)\n",
    "    max = x.max(axis=axis, keepdims=True)\n",
    "    result = (x-min)/(max-min)\n",
    "    return result"
   ]
  },
  {
   "cell_type": "code",
   "execution_count": 106,
   "id": "76cf8689-7985-41d7-8bbc-c0cdb2931df1",
   "metadata": {},
   "outputs": [],
   "source": [
    "b = df_sim_x['avg_cos_sim_rate']\n",
    "c = min_max(b.values)\n",
    "df_sim_x.insert(7, '正規化', c)"
   ]
  },
  {
   "cell_type": "code",
   "execution_count": 110,
   "id": "50562833-5b86-47aa-aee7-106d19d03487",
   "metadata": {},
   "outputs": [
    {
     "data": {
      "text/html": [
       "<div>\n",
       "<style scoped>\n",
       "    .dataframe tbody tr th:only-of-type {\n",
       "        vertical-align: middle;\n",
       "    }\n",
       "\n",
       "    .dataframe tbody tr th {\n",
       "        vertical-align: top;\n",
       "    }\n",
       "\n",
       "    .dataframe thead th {\n",
       "        text-align: right;\n",
       "    }\n",
       "</style>\n",
       "<table border=\"1\" class=\"dataframe\">\n",
       "  <thead>\n",
       "    <tr style=\"text-align: right;\">\n",
       "      <th></th>\n",
       "      <th>id_y</th>\n",
       "      <th>name_y</th>\n",
       "      <th>avg_cos_sim_rate</th>\n",
       "      <th>正規化</th>\n",
       "    </tr>\n",
       "  </thead>\n",
       "  <tbody>\n",
       "    <tr>\n",
       "      <th>8570</th>\n",
       "      <td>168</td>\n",
       "      <td>楽観 NISHIAZABU GOLD</td>\n",
       "      <td>0.705828</td>\n",
       "      <td>1.000000</td>\n",
       "    </tr>\n",
       "    <tr>\n",
       "      <th>1124</th>\n",
       "      <td>26</td>\n",
       "      <td>カネキッチン ヌードル</td>\n",
       "      <td>0.699934</td>\n",
       "      <td>0.970426</td>\n",
       "    </tr>\n",
       "    <tr>\n",
       "      <th>4796</th>\n",
       "      <td>103</td>\n",
       "      <td>大島</td>\n",
       "      <td>0.699866</td>\n",
       "      <td>0.970087</td>\n",
       "    </tr>\n",
       "    <tr>\n",
       "      <th>6173</th>\n",
       "      <td>107</td>\n",
       "      <td>麺屋海神 新宿店</td>\n",
       "      <td>0.696450</td>\n",
       "      <td>0.952948</td>\n",
       "    </tr>\n",
       "    <tr>\n",
       "      <th>9233</th>\n",
       "      <td>198</td>\n",
       "      <td>田中そば店 秋葉原店</td>\n",
       "      <td>0.693576</td>\n",
       "      <td>0.938529</td>\n",
       "    </tr>\n",
       "    <tr>\n",
       "      <th>4031</th>\n",
       "      <td>89</td>\n",
       "      <td>神名備</td>\n",
       "      <td>0.687552</td>\n",
       "      <td>0.908305</td>\n",
       "    </tr>\n",
       "    <tr>\n",
       "      <th>1226</th>\n",
       "      <td>27</td>\n",
       "      <td>ラーメン 健やか</td>\n",
       "      <td>0.686824</td>\n",
       "      <td>0.904654</td>\n",
       "    </tr>\n",
       "    <tr>\n",
       "      <th>3113</th>\n",
       "      <td>64</td>\n",
       "      <td>中華ソバ ちゃるめ</td>\n",
       "      <td>0.685208</td>\n",
       "      <td>0.896548</td>\n",
       "    </tr>\n",
       "    <tr>\n",
       "      <th>257</th>\n",
       "      <td>6</td>\n",
       "      <td>中華そば しば田</td>\n",
       "      <td>0.682388</td>\n",
       "      <td>0.882398</td>\n",
       "    </tr>\n",
       "    <tr>\n",
       "      <th>8060</th>\n",
       "      <td>171</td>\n",
       "      <td>中華そば 吾衛門</td>\n",
       "      <td>0.681949</td>\n",
       "      <td>0.880193</td>\n",
       "    </tr>\n",
       "    <tr>\n",
       "      <th>6428</th>\n",
       "      <td>134</td>\n",
       "      <td>中華そば さとう</td>\n",
       "      <td>0.680656</td>\n",
       "      <td>0.873709</td>\n",
       "    </tr>\n",
       "    <tr>\n",
       "      <th>5612</th>\n",
       "      <td>119</td>\n",
       "      <td>RAMEN GOTTSU</td>\n",
       "      <td>0.679139</td>\n",
       "      <td>0.866100</td>\n",
       "    </tr>\n",
       "    <tr>\n",
       "      <th>9182</th>\n",
       "      <td>199</td>\n",
       "      <td>和利道</td>\n",
       "      <td>0.678417</td>\n",
       "      <td>0.862477</td>\n",
       "    </tr>\n",
       "    <tr>\n",
       "      <th>869</th>\n",
       "      <td>18</td>\n",
       "      <td>中華そば うお青</td>\n",
       "      <td>0.677286</td>\n",
       "      <td>0.856802</td>\n",
       "    </tr>\n",
       "    <tr>\n",
       "      <th>8111</th>\n",
       "      <td>172</td>\n",
       "      <td>井田商店</td>\n",
       "      <td>0.676885</td>\n",
       "      <td>0.854789</td>\n",
       "    </tr>\n",
       "    <tr>\n",
       "      <th>6275</th>\n",
       "      <td>137</td>\n",
       "      <td>クラム＆ボニート 貝節麺ライク</td>\n",
       "      <td>0.675084</td>\n",
       "      <td>0.845754</td>\n",
       "    </tr>\n",
       "    <tr>\n",
       "      <th>4949</th>\n",
       "      <td>100</td>\n",
       "      <td>中華そば ふくみみ</td>\n",
       "      <td>0.674814</td>\n",
       "      <td>0.844398</td>\n",
       "    </tr>\n",
       "    <tr>\n",
       "      <th>7550</th>\n",
       "      <td>145</td>\n",
       "      <td>渡なべ</td>\n",
       "      <td>0.674459</td>\n",
       "      <td>0.842618</td>\n",
       "    </tr>\n",
       "    <tr>\n",
       "      <th>155</th>\n",
       "      <td>4</td>\n",
       "      <td>麺尊 RAGE</td>\n",
       "      <td>0.674316</td>\n",
       "      <td>0.841901</td>\n",
       "    </tr>\n",
       "    <tr>\n",
       "      <th>8162</th>\n",
       "      <td>173</td>\n",
       "      <td>中華そば　葉山</td>\n",
       "      <td>0.669808</td>\n",
       "      <td>0.819281</td>\n",
       "    </tr>\n",
       "  </tbody>\n",
       "</table>\n",
       "</div>"
      ],
      "text/plain": [
       "      id_y              name_y  avg_cos_sim_rate       正規化\n",
       "8570   168  楽観 NISHIAZABU GOLD          0.705828  1.000000\n",
       "1124    26         カネキッチン ヌードル          0.699934  0.970426\n",
       "4796   103                  大島          0.699866  0.970087\n",
       "6173   107            麺屋海神 新宿店          0.696450  0.952948\n",
       "9233   198          田中そば店 秋葉原店          0.693576  0.938529\n",
       "4031    89                 神名備          0.687552  0.908305\n",
       "1226    27            ラーメン 健やか          0.686824  0.904654\n",
       "3113    64           中華ソバ ちゃるめ          0.685208  0.896548\n",
       "257      6            中華そば しば田          0.682388  0.882398\n",
       "8060   171            中華そば 吾衛門          0.681949  0.880193\n",
       "6428   134            中華そば さとう          0.680656  0.873709\n",
       "5612   119        RAMEN GOTTSU          0.679139  0.866100\n",
       "9182   199                 和利道          0.678417  0.862477\n",
       "869     18            中華そば うお青          0.677286  0.856802\n",
       "8111   172                井田商店          0.676885  0.854789\n",
       "6275   137     クラム＆ボニート 貝節麺ライク          0.675084  0.845754\n",
       "4949   100           中華そば ふくみみ          0.674814  0.844398\n",
       "7550   145                 渡なべ          0.674459  0.842618\n",
       "155      4             麺尊 RAGE          0.674316  0.841901\n",
       "8162   173             中華そば　葉山          0.669808  0.819281"
      ]
     },
     "execution_count": 110,
     "metadata": {},
     "output_type": "execute_result"
    }
   ],
   "source": [
    "df_sim_x = df_sim_x[['id_y', 'name_y', 'avg_cos_sim_rate', '正規化',]]\n",
    "df_sim_x.head(20)"
   ]
  },
  {
   "cell_type": "code",
   "execution_count": null,
   "id": "ebd33de3-8ab8-463e-bfac-29d214e9d239",
   "metadata": {},
   "outputs": [],
   "source": []
  }
 ],
 "metadata": {
  "kernelspec": {
   "display_name": "Python 3",
   "language": "python",
   "name": "python3"
  },
  "language_info": {
   "codemirror_mode": {
    "name": "ipython",
    "version": 3
   },
   "file_extension": ".py",
   "mimetype": "text/x-python",
   "name": "python",
   "nbconvert_exporter": "python",
   "pygments_lexer": "ipython3",
   "version": "3.8.8"
  }
 },
 "nbformat": 4,
 "nbformat_minor": 5
}
