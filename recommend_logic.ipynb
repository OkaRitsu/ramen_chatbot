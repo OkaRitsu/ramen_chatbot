{
 "cells": [
  {
   "cell_type": "markdown",
   "id": "1201ca69-3388-4970-9672-d3f6d5fd8850",
   "metadata": {},
   "source": [
    "### コーパスの中身をkmeansでクラスタリング"
   ]
  },
  {
   "cell_type": "code",
   "execution_count": 1,
   "id": "a1ae374c-5273-4b50-9ebf-353088c85e7b",
   "metadata": {},
   "outputs": [],
   "source": [
    "from collections import defaultdict\n",
    "\n",
    "from gensim import corpora\n",
    "from gensim import models\n",
    "from gensim.models.keyedvectors import KeyedVectors\n",
    "import pandas as pd\n",
    "from sklearn.cluster import KMeans"
   ]
  },
  {
   "cell_type": "code",
   "execution_count": 2,
   "id": "a7e176dd-5f93-4934-bddb-7d099edff6a0",
   "metadata": {},
   "outputs": [],
   "source": [
    "model = KeyedVectors.load('model/word2vec_ramen_model.model')"
   ]
  },
  {
   "cell_type": "code",
   "execution_count": 3,
   "id": "b4689b45-c03c-47f4-9f59-5bd0a123cc38",
   "metadata": {},
   "outputs": [],
   "source": [
    "max_vocab = 30000\n",
    "vocab = list(model.wv.key_to_index.keys())[:max_vocab]\n",
    "vectors = [model.wv[word] for word in vocab]"
   ]
  },
  {
   "cell_type": "code",
   "execution_count": 7,
   "id": "3c3d33b2-2f3b-4f9a-b258-5b15c535e74c",
   "metadata": {},
   "outputs": [
    {
     "data": {
      "text/plain": [
       "KMeans(random_state=42)"
      ]
     },
     "execution_count": 7,
     "metadata": {},
     "output_type": "execute_result"
    }
   ],
   "source": [
    "# クラスター数はこちらで任意の値を定める\n",
    "n_clusters = 8\n",
    "kmeans_model = KMeans(n_clusters=n_clusters, verbose=0, random_state=42)\n",
    "kmeans_model.fit(vectors)"
   ]
  },
  {
   "cell_type": "code",
   "execution_count": 8,
   "id": "02ff07a2-f2f0-4661-866c-238100ee9d8c",
   "metadata": {},
   "outputs": [
    {
     "name": "stdout",
     "output_type": "stream",
     "text": [
      "0 ['スープ', '醤油', '感じ', '濃厚', '煮干し', '旨味', '出汁', '味わい', 'つけ', '香り', '風味', '良く', '魚介', 'なく', 'バランス', '印象', '豚骨', '見た目', 'ストレート', '中太']\n",
      "1 ['ラーメン', '0円', 'つけ麺', '注文', 'そば', 'メニュー', '中華そば', '特製', 'らーめん', '今回', '購入', '味噌', '提供', '普通', 'ご飯', '限定', '餃子', '生姜', 'なし', 'お願い']\n",
      "3 ['チャーシュー', '美味しい', '良い', 'メンマ', 'トッピング', 'ネギ', 'ワンタン', '食感', '野菜', '海苔', '具材', '旨い', '美味い', '味付け', '調理', 'タイプ', 'シンプル', '玉子', '相性', 'ニンニク']\n",
      "4 ['こと', '0分', '0時', 'こちら', '訪問', '到着', '人気', '待ち', '行列', '時間', '今日', 'ごちそうさま', '平日', '開店', 'ため', '近く', '以上', 'ランチ', '満足', '営業']\n",
      "6 ['さん', '出て', '名前', '大勝軒', '昭和', '町中華', 'あたり', '時代', '展開', 'かき氷', '新しい', '流れ', 'ちゃん', '文字', '勝手', 'ひとつ', '拉麺', '満来', 'たんたん', '居酒屋']\n",
      "7 ['よう', 'これ', 'そう', 'いい', 'ない', 'もの', 'それ', '好き', 'ところ', 'ここ', '好み', '最後', '美味しかっ', '一杯', 'みたい', '多い', '美味し', '美味しく', '高い', '自分']\n",
      "5 ['店内', 'カウンター', '食券', '券売機', '店主', '入店', '店員', '雰囲気', '着席', '先客', 'お客さん', '丁寧', '女性', '厨房', '案内', '満席', '綺麗', '接客', 'スタッフ', 'テーブル']\n",
      "2 ['ラーメン屋', '徒歩', '場所', '食べログ', 'オープン', 'ラーメン店', '名店', '店舗', '東京', '有名', '本店', 'https', '.com', '百名', '外観', '沿い', '現在', '銀座', '新宿', '出身']\n"
     ]
    }
   ],
   "source": [
    "cluster_labels = kmeans_model.labels_\n",
    "cluster_to_words = defaultdict(list)\n",
    "for cluster_id, word in zip(cluster_labels, vocab):\n",
    "    cluster_to_words[cluster_id].append(word)\n",
    "    \n",
    "for label, words in cluster_to_words.items():\n",
    "    print(label, words[:20])"
   ]
  },
  {
   "cell_type": "code",
   "execution_count": 11,
   "id": "d9873ae1-092c-41ee-b3cc-b6e9ece088bd",
   "metadata": {},
   "outputs": [],
   "source": [
    "def change_dict_key(d, old_key, new_key, default_value=None):\n",
    "    d[new_key] = d.pop(old_key, default_value)"
   ]
  },
  {
   "cell_type": "code",
   "execution_count": 12,
   "id": "cb97f463-1860-4e67-94e8-c7b62761a747",
   "metadata": {},
   "outputs": [],
   "source": [
    "# # 各クラスターの解釈を決定\n",
    "change_dict_key(cluster_to_words, 1,  'ラーメンに関するワード')\n",
    "change_dict_key(cluster_to_words, 0, 'スープに関するワード')\n",
    "change_dict_key(cluster_to_words, 3, 'トッピングに関するワード')\n",
    "change_dict_key(cluster_to_words, 5, '店内に関するワード')\n",
    "change_dict_key(cluster_to_words, 2, '店舗に関するワード')\n",
    "change_dict_key(cluster_to_words, 6, '店の特徴に関するワード')\n",
    "change_dict_key(cluster_to_words, 4, '感想に関するワード')\n",
    "change_dict_key(cluster_to_words, 7, 'その他のワード')\n"
   ]
  },
  {
   "cell_type": "code",
   "execution_count": 13,
   "id": "c9fa0395-5ae0-4f3a-8855-dc5adb6a680f",
   "metadata": {},
   "outputs": [
    {
     "data": {
      "text/html": [
       "<div>\n",
       "<style scoped>\n",
       "    .dataframe tbody tr th:only-of-type {\n",
       "        vertical-align: middle;\n",
       "    }\n",
       "\n",
       "    .dataframe tbody tr th {\n",
       "        vertical-align: top;\n",
       "    }\n",
       "\n",
       "    .dataframe thead th {\n",
       "        text-align: right;\n",
       "    }\n",
       "</style>\n",
       "<table border=\"1\" class=\"dataframe\">\n",
       "  <thead>\n",
       "    <tr style=\"text-align: right;\">\n",
       "      <th></th>\n",
       "      <th>ラーメンに関するワード</th>\n",
       "      <th>スープに関するワード</th>\n",
       "      <th>トッピングに関するワード</th>\n",
       "      <th>店内に関するワード</th>\n",
       "      <th>店舗に関するワード</th>\n",
       "      <th>店の特徴に関するワード</th>\n",
       "      <th>感想に関するワード</th>\n",
       "      <th>その他のワード</th>\n",
       "    </tr>\n",
       "  </thead>\n",
       "  <tbody>\n",
       "    <tr>\n",
       "      <th>0</th>\n",
       "      <td>ラーメン</td>\n",
       "      <td>スープ</td>\n",
       "      <td>チャーシュー</td>\n",
       "      <td>店内</td>\n",
       "      <td>ラーメン屋</td>\n",
       "      <td>さん</td>\n",
       "      <td>こと</td>\n",
       "      <td>よう</td>\n",
       "    </tr>\n",
       "    <tr>\n",
       "      <th>1</th>\n",
       "      <td>0円</td>\n",
       "      <td>醤油</td>\n",
       "      <td>美味しい</td>\n",
       "      <td>カウンター</td>\n",
       "      <td>徒歩</td>\n",
       "      <td>出て</td>\n",
       "      <td>0分</td>\n",
       "      <td>これ</td>\n",
       "    </tr>\n",
       "    <tr>\n",
       "      <th>2</th>\n",
       "      <td>つけ麺</td>\n",
       "      <td>感じ</td>\n",
       "      <td>良い</td>\n",
       "      <td>食券</td>\n",
       "      <td>場所</td>\n",
       "      <td>名前</td>\n",
       "      <td>0時</td>\n",
       "      <td>そう</td>\n",
       "    </tr>\n",
       "    <tr>\n",
       "      <th>3</th>\n",
       "      <td>注文</td>\n",
       "      <td>濃厚</td>\n",
       "      <td>メンマ</td>\n",
       "      <td>券売機</td>\n",
       "      <td>食べログ</td>\n",
       "      <td>大勝軒</td>\n",
       "      <td>こちら</td>\n",
       "      <td>いい</td>\n",
       "    </tr>\n",
       "    <tr>\n",
       "      <th>4</th>\n",
       "      <td>そば</td>\n",
       "      <td>煮干し</td>\n",
       "      <td>トッピング</td>\n",
       "      <td>店主</td>\n",
       "      <td>オープン</td>\n",
       "      <td>昭和</td>\n",
       "      <td>訪問</td>\n",
       "      <td>ない</td>\n",
       "    </tr>\n",
       "    <tr>\n",
       "      <th>5</th>\n",
       "      <td>メニュー</td>\n",
       "      <td>旨味</td>\n",
       "      <td>ネギ</td>\n",
       "      <td>入店</td>\n",
       "      <td>ラーメン店</td>\n",
       "      <td>町中華</td>\n",
       "      <td>到着</td>\n",
       "      <td>もの</td>\n",
       "    </tr>\n",
       "    <tr>\n",
       "      <th>6</th>\n",
       "      <td>中華そば</td>\n",
       "      <td>出汁</td>\n",
       "      <td>ワンタン</td>\n",
       "      <td>店員</td>\n",
       "      <td>名店</td>\n",
       "      <td>あたり</td>\n",
       "      <td>人気</td>\n",
       "      <td>それ</td>\n",
       "    </tr>\n",
       "    <tr>\n",
       "      <th>7</th>\n",
       "      <td>特製</td>\n",
       "      <td>味わい</td>\n",
       "      <td>食感</td>\n",
       "      <td>雰囲気</td>\n",
       "      <td>店舗</td>\n",
       "      <td>時代</td>\n",
       "      <td>待ち</td>\n",
       "      <td>好き</td>\n",
       "    </tr>\n",
       "    <tr>\n",
       "      <th>8</th>\n",
       "      <td>らーめん</td>\n",
       "      <td>つけ</td>\n",
       "      <td>野菜</td>\n",
       "      <td>着席</td>\n",
       "      <td>東京</td>\n",
       "      <td>展開</td>\n",
       "      <td>行列</td>\n",
       "      <td>ところ</td>\n",
       "    </tr>\n",
       "    <tr>\n",
       "      <th>9</th>\n",
       "      <td>今回</td>\n",
       "      <td>香り</td>\n",
       "      <td>海苔</td>\n",
       "      <td>先客</td>\n",
       "      <td>有名</td>\n",
       "      <td>かき氷</td>\n",
       "      <td>時間</td>\n",
       "      <td>ここ</td>\n",
       "    </tr>\n",
       "    <tr>\n",
       "      <th>10</th>\n",
       "      <td>購入</td>\n",
       "      <td>風味</td>\n",
       "      <td>具材</td>\n",
       "      <td>お客さん</td>\n",
       "      <td>本店</td>\n",
       "      <td>新しい</td>\n",
       "      <td>今日</td>\n",
       "      <td>好み</td>\n",
       "    </tr>\n",
       "    <tr>\n",
       "      <th>11</th>\n",
       "      <td>味噌</td>\n",
       "      <td>良く</td>\n",
       "      <td>旨い</td>\n",
       "      <td>丁寧</td>\n",
       "      <td>https</td>\n",
       "      <td>流れ</td>\n",
       "      <td>ごちそうさま</td>\n",
       "      <td>最後</td>\n",
       "    </tr>\n",
       "    <tr>\n",
       "      <th>12</th>\n",
       "      <td>提供</td>\n",
       "      <td>魚介</td>\n",
       "      <td>美味い</td>\n",
       "      <td>女性</td>\n",
       "      <td>.com</td>\n",
       "      <td>ちゃん</td>\n",
       "      <td>平日</td>\n",
       "      <td>美味しかっ</td>\n",
       "    </tr>\n",
       "    <tr>\n",
       "      <th>13</th>\n",
       "      <td>普通</td>\n",
       "      <td>なく</td>\n",
       "      <td>味付け</td>\n",
       "      <td>厨房</td>\n",
       "      <td>百名</td>\n",
       "      <td>文字</td>\n",
       "      <td>開店</td>\n",
       "      <td>一杯</td>\n",
       "    </tr>\n",
       "    <tr>\n",
       "      <th>14</th>\n",
       "      <td>ご飯</td>\n",
       "      <td>バランス</td>\n",
       "      <td>調理</td>\n",
       "      <td>案内</td>\n",
       "      <td>外観</td>\n",
       "      <td>勝手</td>\n",
       "      <td>ため</td>\n",
       "      <td>みたい</td>\n",
       "    </tr>\n",
       "    <tr>\n",
       "      <th>15</th>\n",
       "      <td>限定</td>\n",
       "      <td>印象</td>\n",
       "      <td>タイプ</td>\n",
       "      <td>満席</td>\n",
       "      <td>沿い</td>\n",
       "      <td>ひとつ</td>\n",
       "      <td>近く</td>\n",
       "      <td>多い</td>\n",
       "    </tr>\n",
       "    <tr>\n",
       "      <th>16</th>\n",
       "      <td>餃子</td>\n",
       "      <td>豚骨</td>\n",
       "      <td>シンプル</td>\n",
       "      <td>綺麗</td>\n",
       "      <td>現在</td>\n",
       "      <td>拉麺</td>\n",
       "      <td>以上</td>\n",
       "      <td>美味し</td>\n",
       "    </tr>\n",
       "    <tr>\n",
       "      <th>17</th>\n",
       "      <td>生姜</td>\n",
       "      <td>見た目</td>\n",
       "      <td>玉子</td>\n",
       "      <td>接客</td>\n",
       "      <td>銀座</td>\n",
       "      <td>満来</td>\n",
       "      <td>ランチ</td>\n",
       "      <td>美味しく</td>\n",
       "    </tr>\n",
       "    <tr>\n",
       "      <th>18</th>\n",
       "      <td>なし</td>\n",
       "      <td>ストレート</td>\n",
       "      <td>相性</td>\n",
       "      <td>スタッフ</td>\n",
       "      <td>新宿</td>\n",
       "      <td>たんたん</td>\n",
       "      <td>満足</td>\n",
       "      <td>高い</td>\n",
       "    </tr>\n",
       "    <tr>\n",
       "      <th>19</th>\n",
       "      <td>お願い</td>\n",
       "      <td>中太</td>\n",
       "      <td>ニンニク</td>\n",
       "      <td>テーブル</td>\n",
       "      <td>出身</td>\n",
       "      <td>居酒屋</td>\n",
       "      <td>営業</td>\n",
       "      <td>自分</td>\n",
       "    </tr>\n",
       "  </tbody>\n",
       "</table>\n",
       "</div>"
      ],
      "text/plain": [
       "   ラーメンに関するワード スープに関するワード トッピングに関するワード 店内に関するワード 店舗に関するワード 店の特徴に関するワード  \\\n",
       "0         ラーメン        スープ       チャーシュー        店内     ラーメン屋          さん   \n",
       "1           0円         醤油         美味しい     カウンター        徒歩          出て   \n",
       "2          つけ麺         感じ           良い        食券        場所          名前   \n",
       "3           注文         濃厚          メンマ       券売機      食べログ         大勝軒   \n",
       "4           そば        煮干し        トッピング        店主      オープン          昭和   \n",
       "5         メニュー         旨味           ネギ        入店     ラーメン店         町中華   \n",
       "6         中華そば         出汁         ワンタン        店員        名店         あたり   \n",
       "7           特製        味わい           食感       雰囲気        店舗          時代   \n",
       "8         らーめん         つけ           野菜        着席        東京          展開   \n",
       "9           今回         香り           海苔        先客        有名         かき氷   \n",
       "10          購入         風味           具材      お客さん        本店         新しい   \n",
       "11          味噌         良く           旨い        丁寧     https          流れ   \n",
       "12          提供         魚介          美味い        女性      .com         ちゃん   \n",
       "13          普通         なく          味付け        厨房        百名          文字   \n",
       "14          ご飯       バランス           調理        案内        外観          勝手   \n",
       "15          限定         印象          タイプ        満席        沿い         ひとつ   \n",
       "16          餃子         豚骨         シンプル        綺麗        現在          拉麺   \n",
       "17          生姜        見た目           玉子        接客        銀座          満来   \n",
       "18          なし      ストレート           相性      スタッフ        新宿        たんたん   \n",
       "19         お願い         中太         ニンニク      テーブル        出身         居酒屋   \n",
       "\n",
       "   感想に関するワード その他のワード  \n",
       "0         こと      よう  \n",
       "1         0分      これ  \n",
       "2         0時      そう  \n",
       "3        こちら      いい  \n",
       "4         訪問      ない  \n",
       "5         到着      もの  \n",
       "6         人気      それ  \n",
       "7         待ち      好き  \n",
       "8         行列     ところ  \n",
       "9         時間      ここ  \n",
       "10        今日      好み  \n",
       "11    ごちそうさま      最後  \n",
       "12        平日   美味しかっ  \n",
       "13        開店      一杯  \n",
       "14        ため     みたい  \n",
       "15        近く      多い  \n",
       "16        以上     美味し  \n",
       "17       ランチ    美味しく  \n",
       "18        満足      高い  \n",
       "19        営業      自分  "
      ]
     },
     "execution_count": 13,
     "metadata": {},
     "output_type": "execute_result"
    }
   ],
   "source": [
    "df = pd.DataFrame.from_dict(cluster_to_words, orient=\"index\").T\n",
    "df.to_csv('data/words_cluster.csv')\n",
    "df.head(20)"
   ]
  },
  {
   "cell_type": "markdown",
   "id": "8be4d77a-fb19-48dc-8e64-cefb7c66c3c4",
   "metadata": {},
   "source": [
    "### TF-IDFで文章における特徴的な単語を抽出"
   ]
  },
  {
   "cell_type": "code",
   "execution_count": 14,
   "id": "f7239795-f267-4ae7-b020-8c0a762a4fc3",
   "metadata": {},
   "outputs": [],
   "source": [
    "from gensim import corpora\n",
    "from gensim import models"
   ]
  },
  {
   "cell_type": "code",
   "execution_count": 15,
   "id": "da331d24-dc38-4aff-a1d8-953c3f37a850",
   "metadata": {},
   "outputs": [],
   "source": [
    "# 口コミからレコメンドに使用する情報を絞る\n",
    "# 試行錯誤して決定するべし!!\n",
    "ramen_words = cluster_to_words['ラーメンに関するワード']\n",
    "soup_words = cluster_to_words['スープに関するワード']\n",
    "topping_words = cluster_to_words['トッピングに関するワード']\n",
    "\n",
    "ramen_words.extend(soup_words)\n",
    "ramen_words.extend(topping_words)\n",
    "key_words = ramen_words"
   ]
  },
  {
   "cell_type": "code",
   "execution_count": 16,
   "id": "8a929bc4-490a-41b2-b10f-1bdbbe55031b",
   "metadata": {},
   "outputs": [],
   "source": [
    "with open('data/ramen_corpus.txt', 'r', encoding='utf-8') as f:\n",
    "    trainings = []\n",
    "    for i, data in enumerate(f):\n",
    "        # 不要な文字を取り除いて単語を取り出す\n",
    "        words = data.replace(\"'\", '').replace('[', '').replace(']', '').replace(' ', '').replace('\\n', '').split(\",\")\n",
    "        trainings.append([i for i in words if i in key_words])"
   ]
  },
  {
   "cell_type": "code",
   "execution_count": 17,
   "id": "77afb02a-a343-4081-b798-a30960feb129",
   "metadata": {},
   "outputs": [],
   "source": [
    "# 単語->id変換の辞書作成\n",
    "dictionary = corpora.Dictionary(trainings)"
   ]
  },
  {
   "cell_type": "code",
   "execution_count": 18,
   "id": "dfb69b91-1297-4d06-ae0d-a91192eafd82",
   "metadata": {},
   "outputs": [],
   "source": [
    "# textsをcorpus化\n",
    "corpus = list(map(dictionary.doc2bow, trainings))"
   ]
  },
  {
   "cell_type": "code",
   "execution_count": 19,
   "id": "04162bd1-420c-43c6-8d89-4dfc3d99132e",
   "metadata": {},
   "outputs": [],
   "source": [
    "# tfidf modelの生成\n",
    "test_model = models.TfidfModel(corpus)"
   ]
  },
  {
   "cell_type": "code",
   "execution_count": 20,
   "id": "5e84dcfe-2863-4e63-8936-e25ce1aaea11",
   "metadata": {},
   "outputs": [],
   "source": [
    "# corpusへのモデル適用\n",
    "corpus_tfidf = test_model[corpus]"
   ]
  },
  {
   "cell_type": "code",
   "execution_count": 21,
   "id": "a65665b9-7b74-4cae-8a12-14f730d20bc0",
   "metadata": {},
   "outputs": [],
   "source": [
    "# id->単語へ変換\n",
    "texts_tfidf = []    # id -> 単語表示に変えた文書ごとのTF-IDF\n",
    "for doc in corpus_tfidf:\n",
    "    text_tfidf = []\n",
    "    for word in doc:\n",
    "        text_tfidf.append([dictionary[word[0]], word[1]])\n",
    "    texts_tfidf.append(text_tfidf)"
   ]
  },
  {
   "cell_type": "code",
   "execution_count": 22,
   "id": "fb0ee36a-6f0c-413c-8aba-e1e5144ee6de",
   "metadata": {},
   "outputs": [],
   "source": [
    "from operator import itemgetter\n",
    "import pickle"
   ]
  },
  {
   "cell_type": "code",
   "execution_count": 23,
   "id": "772f8557-e636-49de-a010-a4a061489008",
   "metadata": {},
   "outputs": [],
   "source": [
    "texts_tfidf_sorted_top20 = [] \n",
    "\n",
    "#TF-IDF値を高い順に並び替え上位単語20個に絞る。\n",
    "for i in range(len(texts_tfidf)):\n",
    "    soted = sorted(texts_tfidf[i], key=itemgetter(1),reverse=True)\n",
    "    soted_top20 = soted[:20]\n",
    "    word_list = []\n",
    "    for k in range(len(soted_top20)):\n",
    "        word = soted_top20[k][0]\n",
    "        word_list.append(word)\n",
    "    texts_tfidf_sorted_top20.append(word_list)"
   ]
  },
  {
   "cell_type": "code",
   "execution_count": 24,
   "id": "369a109f-21dc-47f6-94f4-9bf93249b9f6",
   "metadata": {},
   "outputs": [],
   "source": [
    "# 結果をデータフレームに追加\n",
    "store_df = pd.read_csv('data/ramen_store.csv')\n",
    "review_df = pd.read_csv('data/ramen_review.csv')\n",
    "ramen_df = pd.merge(store_df, review_df, on='ID')"
   ]
  },
  {
   "cell_type": "code",
   "execution_count": 25,
   "id": "f9520689-fffc-4853-a1af-80304cdee4dd",
   "metadata": {},
   "outputs": [
    {
     "data": {
      "text/plain": [
       "(500, 6)"
      ]
     },
     "execution_count": 25,
     "metadata": {},
     "output_type": "execute_result"
    }
   ],
   "source": [
    "ramen_df = ramen_df.groupby(['ID', 'name', 'url', 'score'])['review'].apply(list).apply(' '.join).reset_index().sort_values('ID')\n",
    "ramen_df['texts_tfidf_sorted_top20'] = texts_tfidf_sorted_top20\n",
    "ramen_df.shape"
   ]
  },
  {
   "cell_type": "code",
   "execution_count": 26,
   "id": "7ff0b160-0422-4a97-9fe1-2be163c81b4f",
   "metadata": {},
   "outputs": [
    {
     "data": {
      "text/html": [
       "<div>\n",
       "<style scoped>\n",
       "    .dataframe tbody tr th:only-of-type {\n",
       "        vertical-align: middle;\n",
       "    }\n",
       "\n",
       "    .dataframe tbody tr th {\n",
       "        vertical-align: top;\n",
       "    }\n",
       "\n",
       "    .dataframe thead th {\n",
       "        text-align: right;\n",
       "    }\n",
       "</style>\n",
       "<table border=\"1\" class=\"dataframe\">\n",
       "  <thead>\n",
       "    <tr style=\"text-align: right;\">\n",
       "      <th></th>\n",
       "      <th>ID</th>\n",
       "      <th>texts_tfidf_sorted_top20</th>\n",
       "    </tr>\n",
       "  </thead>\n",
       "  <tbody>\n",
       "    <tr>\n",
       "      <th>0</th>\n",
       "      <td>1</td>\n",
       "      <td>[ワンタン, 炭火, 昆布, 海老, 特製, 火炙り, だれ, 藻塩, 焼き豚, 炙り焼, ...</td>\n",
       "    </tr>\n",
       "    <tr>\n",
       "      <th>1</th>\n",
       "      <td>2</td>\n",
       "      <td>[黒毛和牛, いりこ, spf, ワンタン, 鰹節, チャー, 伊吹, めん, 書き, 地鶏...</td>\n",
       "    </tr>\n",
       "    <tr>\n",
       "      <th>2</th>\n",
       "      <td>3</td>\n",
       "      <td>[ワンタン, 中華そば, 三つ葉, 特製, 鶏胸肉, 生醤油, 紫蘇, 大葉, 塩か, むね...</td>\n",
       "    </tr>\n",
       "    <tr>\n",
       "      <th>3</th>\n",
       "      <td>4</td>\n",
       "      <td>[軍鶏, 替え玉, そば, まぜそば, 卵黄, 素地, 燻製, 特製, 醤油漬け, レモン,...</td>\n",
       "    </tr>\n",
       "    <tr>\n",
       "      <th>4</th>\n",
       "      <td>5</td>\n",
       "      <td>[しじみ, 中華蕎麦, シジミ, 琥珀, ワンタン, バラ, コハク酸, 地鶏, 特製, 菅...</td>\n",
       "    </tr>\n",
       "  </tbody>\n",
       "</table>\n",
       "</div>"
      ],
      "text/plain": [
       "   ID                           texts_tfidf_sorted_top20\n",
       "0   1  [ワンタン, 炭火, 昆布, 海老, 特製, 火炙り, だれ, 藻塩, 焼き豚, 炙り焼, ...\n",
       "1   2  [黒毛和牛, いりこ, spf, ワンタン, 鰹節, チャー, 伊吹, めん, 書き, 地鶏...\n",
       "2   3  [ワンタン, 中華そば, 三つ葉, 特製, 鶏胸肉, 生醤油, 紫蘇, 大葉, 塩か, むね...\n",
       "3   4  [軍鶏, 替え玉, そば, まぜそば, 卵黄, 素地, 燻製, 特製, 醤油漬け, レモン,...\n",
       "4   5  [しじみ, 中華蕎麦, シジミ, 琥珀, ワンタン, バラ, コハク酸, 地鶏, 特製, 菅..."
      ]
     },
     "execution_count": 26,
     "metadata": {},
     "output_type": "execute_result"
    }
   ],
   "source": [
    "df_ramen_texts_tfidf_sorted_top20 = ramen_df[['ID', 'texts_tfidf_sorted_top20']]\n",
    "df_ramen_texts_tfidf_sorted_top20.head()"
   ]
  },
  {
   "cell_type": "code",
   "execution_count": 27,
   "id": "67f22a65-3153-4bb1-814c-c9265b52ee62",
   "metadata": {},
   "outputs": [],
   "source": [
    "# 上の結果をダンプ\n",
    "with open('data/df_ramen_texts_tfidf_sorted_top20', 'wb') as f:\n",
    "    pickle.dump(df_ramen_texts_tfidf_sorted_top20, f)"
   ]
  },
  {
   "cell_type": "code",
   "execution_count": 28,
   "id": "f5efd7ff-6722-4e61-95cd-3f2810030b0f",
   "metadata": {},
   "outputs": [],
   "source": [
    "ramen_df[['ID', 'name', 'url', 'texts_tfidf_sorted_top20']].to_csv('data/tfidf_top20.csv')"
   ]
  },
  {
   "cell_type": "code",
   "execution_count": null,
   "id": "f6cb0a53-f6f6-4852-8c66-ce8fbf7c1f06",
   "metadata": {},
   "outputs": [],
   "source": []
  },
  {
   "cell_type": "code",
   "execution_count": null,
   "id": "a4aabcac-e2ed-482f-a1ac-25a75b38d55e",
   "metadata": {},
   "outputs": [],
   "source": []
  }
 ],
 "metadata": {
  "kernelspec": {
   "display_name": "Python 3",
   "language": "python",
   "name": "python3"
  },
  "language_info": {
   "codemirror_mode": {
    "name": "ipython",
    "version": 3
   },
   "file_extension": ".py",
   "mimetype": "text/x-python",
   "name": "python",
   "nbconvert_exporter": "python",
   "pygments_lexer": "ipython3",
   "version": "3.8.8"
  }
 },
 "nbformat": 4,
 "nbformat_minor": 5
}
