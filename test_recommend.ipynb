{
 "cells": [
  {
   "cell_type": "code",
   "execution_count": 34,
   "id": "59eb7a5d-50bc-4c9d-ab6c-6e5c40319658",
   "metadata": {},
   "outputs": [],
   "source": [
    "%run recommend.py"
   ]
  },
  {
   "cell_type": "code",
   "execution_count": 35,
   "id": "21a1d6e9-e251-4234-aa6c-e0a643110b8e",
   "metadata": {},
   "outputs": [
    {
     "ename": "KeyError",
     "evalue": "'name'",
     "output_type": "error",
     "traceback": [
      "\u001b[0;31m---------------------------------------------------------\u001b[0m",
      "\u001b[0;31mKeyError\u001b[0m                Traceback (most recent call last)",
      "\u001b[0;32m~/opt/anaconda3/lib/python3.8/site-packages/pandas/core/indexes/base.py\u001b[0m in \u001b[0;36mget_loc\u001b[0;34m(self, key, method, tolerance)\u001b[0m\n\u001b[1;32m   3079\u001b[0m             \u001b[0;32mtry\u001b[0m\u001b[0;34m:\u001b[0m\u001b[0;34m\u001b[0m\u001b[0;34m\u001b[0m\u001b[0m\n\u001b[0;32m-> 3080\u001b[0;31m                 \u001b[0;32mreturn\u001b[0m \u001b[0mself\u001b[0m\u001b[0;34m.\u001b[0m\u001b[0m_engine\u001b[0m\u001b[0;34m.\u001b[0m\u001b[0mget_loc\u001b[0m\u001b[0;34m(\u001b[0m\u001b[0mcasted_key\u001b[0m\u001b[0;34m)\u001b[0m\u001b[0;34m\u001b[0m\u001b[0;34m\u001b[0m\u001b[0m\n\u001b[0m\u001b[1;32m   3081\u001b[0m             \u001b[0;32mexcept\u001b[0m \u001b[0mKeyError\u001b[0m \u001b[0;32mas\u001b[0m \u001b[0merr\u001b[0m\u001b[0;34m:\u001b[0m\u001b[0;34m\u001b[0m\u001b[0;34m\u001b[0m\u001b[0m\n",
      "\u001b[0;32mpandas/_libs/index.pyx\u001b[0m in \u001b[0;36mpandas._libs.index.IndexEngine.get_loc\u001b[0;34m()\u001b[0m\n",
      "\u001b[0;32mpandas/_libs/index.pyx\u001b[0m in \u001b[0;36mpandas._libs.index.IndexEngine.get_loc\u001b[0;34m()\u001b[0m\n",
      "\u001b[0;32mpandas/_libs/hashtable_class_helper.pxi\u001b[0m in \u001b[0;36mpandas._libs.hashtable.PyObjectHashTable.get_item\u001b[0;34m()\u001b[0m\n",
      "\u001b[0;32mpandas/_libs/hashtable_class_helper.pxi\u001b[0m in \u001b[0;36mpandas._libs.hashtable.PyObjectHashTable.get_item\u001b[0;34m()\u001b[0m\n",
      "\u001b[0;31mKeyError\u001b[0m: 'name'",
      "\nThe above exception was the direct cause of the following exception:\n",
      "\u001b[0;31mKeyError\u001b[0m                Traceback (most recent call last)",
      "\u001b[0;32m<ipython-input-35-27ed0186310f>\u001b[0m in \u001b[0;36m<module>\u001b[0;34m\u001b[0m\n\u001b[1;32m      3\u001b[0m \u001b[0;34m\u001b[0m\u001b[0m\n\u001b[1;32m      4\u001b[0m \u001b[0;32mfor\u001b[0m \u001b[0mresult\u001b[0m \u001b[0;32min\u001b[0m \u001b[0mresults\u001b[0m\u001b[0;34m:\u001b[0m\u001b[0;34m\u001b[0m\u001b[0;34m\u001b[0m\u001b[0m\n\u001b[0;32m----> 5\u001b[0;31m     \u001b[0mprint\u001b[0m\u001b[0;34m(\u001b[0m\u001b[0mresult\u001b[0m\u001b[0;34m[\u001b[0m\u001b[0;34m'name'\u001b[0m\u001b[0;34m]\u001b[0m\u001b[0;34m,\u001b[0m \u001b[0mresult\u001b[0m\u001b[0;34m[\u001b[0m\u001b[0;34m'url'\u001b[0m\u001b[0;34m]\u001b[0m\u001b[0;34m,\u001b[0m \u001b[0mresult\u001b[0m\u001b[0;34m[\u001b[0m\u001b[0;34m'avg_cos_sim_rate'\u001b[0m\u001b[0;34m]\u001b[0m\u001b[0;34m)\u001b[0m\u001b[0;34m\u001b[0m\u001b[0;34m\u001b[0m\u001b[0m\n\u001b[0m",
      "\u001b[0;32m~/opt/anaconda3/lib/python3.8/site-packages/pandas/core/series.py\u001b[0m in \u001b[0;36m__getitem__\u001b[0;34m(self, key)\u001b[0m\n\u001b[1;32m    851\u001b[0m \u001b[0;34m\u001b[0m\u001b[0m\n\u001b[1;32m    852\u001b[0m         \u001b[0;32melif\u001b[0m \u001b[0mkey_is_scalar\u001b[0m\u001b[0;34m:\u001b[0m\u001b[0;34m\u001b[0m\u001b[0;34m\u001b[0m\u001b[0m\n\u001b[0;32m--> 853\u001b[0;31m             \u001b[0;32mreturn\u001b[0m \u001b[0mself\u001b[0m\u001b[0;34m.\u001b[0m\u001b[0m_get_value\u001b[0m\u001b[0;34m(\u001b[0m\u001b[0mkey\u001b[0m\u001b[0;34m)\u001b[0m\u001b[0;34m\u001b[0m\u001b[0;34m\u001b[0m\u001b[0m\n\u001b[0m\u001b[1;32m    854\u001b[0m \u001b[0;34m\u001b[0m\u001b[0m\n\u001b[1;32m    855\u001b[0m         \u001b[0;32mif\u001b[0m \u001b[0mis_hashable\u001b[0m\u001b[0;34m(\u001b[0m\u001b[0mkey\u001b[0m\u001b[0;34m)\u001b[0m\u001b[0;34m:\u001b[0m\u001b[0;34m\u001b[0m\u001b[0;34m\u001b[0m\u001b[0m\n",
      "\u001b[0;32m~/opt/anaconda3/lib/python3.8/site-packages/pandas/core/series.py\u001b[0m in \u001b[0;36m_get_value\u001b[0;34m(self, label, takeable)\u001b[0m\n\u001b[1;32m    959\u001b[0m \u001b[0;34m\u001b[0m\u001b[0m\n\u001b[1;32m    960\u001b[0m         \u001b[0;31m# Similar to Index.get_value, but we do not fall back to positional\u001b[0m\u001b[0;34m\u001b[0m\u001b[0;34m\u001b[0m\u001b[0;34m\u001b[0m\u001b[0m\n\u001b[0;32m--> 961\u001b[0;31m         \u001b[0mloc\u001b[0m \u001b[0;34m=\u001b[0m \u001b[0mself\u001b[0m\u001b[0;34m.\u001b[0m\u001b[0mindex\u001b[0m\u001b[0;34m.\u001b[0m\u001b[0mget_loc\u001b[0m\u001b[0;34m(\u001b[0m\u001b[0mlabel\u001b[0m\u001b[0;34m)\u001b[0m\u001b[0;34m\u001b[0m\u001b[0;34m\u001b[0m\u001b[0m\n\u001b[0m\u001b[1;32m    962\u001b[0m         \u001b[0;32mreturn\u001b[0m \u001b[0mself\u001b[0m\u001b[0;34m.\u001b[0m\u001b[0mindex\u001b[0m\u001b[0;34m.\u001b[0m\u001b[0m_get_values_for_loc\u001b[0m\u001b[0;34m(\u001b[0m\u001b[0mself\u001b[0m\u001b[0;34m,\u001b[0m \u001b[0mloc\u001b[0m\u001b[0;34m,\u001b[0m \u001b[0mlabel\u001b[0m\u001b[0;34m)\u001b[0m\u001b[0;34m\u001b[0m\u001b[0;34m\u001b[0m\u001b[0m\n\u001b[1;32m    963\u001b[0m \u001b[0;34m\u001b[0m\u001b[0m\n",
      "\u001b[0;32m~/opt/anaconda3/lib/python3.8/site-packages/pandas/core/indexes/base.py\u001b[0m in \u001b[0;36mget_loc\u001b[0;34m(self, key, method, tolerance)\u001b[0m\n\u001b[1;32m   3080\u001b[0m                 \u001b[0;32mreturn\u001b[0m \u001b[0mself\u001b[0m\u001b[0;34m.\u001b[0m\u001b[0m_engine\u001b[0m\u001b[0;34m.\u001b[0m\u001b[0mget_loc\u001b[0m\u001b[0;34m(\u001b[0m\u001b[0mcasted_key\u001b[0m\u001b[0;34m)\u001b[0m\u001b[0;34m\u001b[0m\u001b[0;34m\u001b[0m\u001b[0m\n\u001b[1;32m   3081\u001b[0m             \u001b[0;32mexcept\u001b[0m \u001b[0mKeyError\u001b[0m \u001b[0;32mas\u001b[0m \u001b[0merr\u001b[0m\u001b[0;34m:\u001b[0m\u001b[0;34m\u001b[0m\u001b[0;34m\u001b[0m\u001b[0m\n\u001b[0;32m-> 3082\u001b[0;31m                 \u001b[0;32mraise\u001b[0m \u001b[0mKeyError\u001b[0m\u001b[0;34m(\u001b[0m\u001b[0mkey\u001b[0m\u001b[0;34m)\u001b[0m \u001b[0;32mfrom\u001b[0m \u001b[0merr\u001b[0m\u001b[0;34m\u001b[0m\u001b[0;34m\u001b[0m\u001b[0m\n\u001b[0m\u001b[1;32m   3083\u001b[0m \u001b[0;34m\u001b[0m\u001b[0m\n\u001b[1;32m   3084\u001b[0m         \u001b[0;32mif\u001b[0m \u001b[0mtolerance\u001b[0m \u001b[0;32mis\u001b[0m \u001b[0;32mnot\u001b[0m \u001b[0;32mNone\u001b[0m\u001b[0;34m:\u001b[0m\u001b[0;34m\u001b[0m\u001b[0;34m\u001b[0m\u001b[0m\n",
      "\u001b[0;31mKeyError\u001b[0m: 'name'"
     ]
    }
   ],
   "source": [
    "virtual_store = ['つけ麺', '魚介', '太い']\n",
    "results = search_similar_stores(virtual_store)\n",
    "\n",
    "for result in results:\n",
    "    print(result['name'], result['url'], result['avg_cos_sim_rate'])"
   ]
  },
  {
   "cell_type": "code",
   "execution_count": 32,
   "id": "435a147b-6b27-464f-bfc5-6e97ec0136e6",
   "metadata": {},
   "outputs": [],
   "source": [
    "%run recommend.py"
   ]
  },
  {
   "cell_type": "code",
   "execution_count": 33,
   "id": "45bc3711-2fff-41ca-8e53-ce60b126d4b8",
   "metadata": {},
   "outputs": [
    {
     "name": "stdout",
     "output_type": "stream",
     "text": [
      "六厘舎 大崎店 https://tabelog.com/tokyo/A1316/A131604/13167354/ 0.5039711594581604\n",
      "こばやし https://tabelog.com/tokyo/A1324/A132402/13138016/ 0.4677037298679352\n",
      "本枯中華そば 魚雷 https://tabelog.com/tokyo/A1310/A131004/13103739/ 0.44320347905158997\n"
     ]
    }
   ],
   "source": [
    "virtual_store = ['つけ麺', '魚介', '太い']\n",
    "results = search_similar_stores(virtual_store)\n",
    "\n",
    "for result in results:\n",
    "    print(result['name'], result['url'], result['avg_cos_sim_rate'])"
   ]
  },
  {
   "cell_type": "code",
   "execution_count": 3,
   "id": "591de9b3-625c-47e9-afb8-7cdf55bb0914",
   "metadata": {},
   "outputs": [],
   "source": [
    "%run recommend.py"
   ]
  },
  {
   "cell_type": "code",
   "execution_count": 4,
   "id": "39d248a8-2112-4eab-aa98-4c00b4109ed2",
   "metadata": {},
   "outputs": [
    {
     "data": {
      "text/plain": [
       "[ID                                                                        292\n",
       " texts_tfidf_sorted_top20    [正宗, 担々麺, 日式, 汁なし担々麺, プレミアム, 坦々麺, 肉味噌, 花椒, 痺れ,...\n",
       " avg_cos_sim_rate                                                      0.66226\n",
       " name                                                             担々麺 辣椒漢 神田本店\n",
       " url                         https://tabelog.com/tokyo/A1310/A131002/13045967/\n",
       " score                                                                    3.69\n",
       " review_count                                                              285\n",
       " Name: 0, dtype: object,\n",
       " ID                                                                        377\n",
       " texts_tfidf_sorted_top20    [勝浦, タンタン, 勝浦タンタンメン, ライス, 辛さ, 痺れ, ニラ, 辣油, 激辛, ...\n",
       " avg_cos_sim_rate                                                      0.62697\n",
       " name                                                                     ビンギリ\n",
       " url                         https://tabelog.com/tokyo/A1319/A131906/13126311/\n",
       " score                                                                    3.67\n",
       " review_count                                                              123\n",
       " Name: 2, dtype: object,\n",
       " ID                                                                        304\n",
       " texts_tfidf_sorted_top20    [パクチー, スパイス, スパイス・ラー, ブロッコリー, スープカレー, もやし, スパイ...\n",
       " avg_cos_sim_rate                                                     0.508496\n",
       " name                                                         スパイス・ラー麺 卍力 秋葉原店\n",
       " url                         https://tabelog.com/tokyo/A1310/A131001/13237879/\n",
       " score                                                                    3.69\n",
       " review_count                                                              192\n",
       " Name: 21, dtype: object]"
      ]
     },
     "execution_count": 4,
     "metadata": {},
     "output_type": "execute_result"
    }
   ],
   "source": [
    "virtual_store = ['辛い', '激辛']\n",
    "search_similar_stores(virtual_store)"
   ]
  },
  {
   "cell_type": "code",
   "execution_count": 5,
   "id": "7327a12b-ceb0-413b-be2a-00b94819eae5",
   "metadata": {},
   "outputs": [],
   "source": [
    "%run recommend.py"
   ]
  },
  {
   "cell_type": "code",
   "execution_count": 6,
   "id": "f85b8e56-62e2-431f-9efb-b9c487a4bf64",
   "metadata": {},
   "outputs": [
    {
     "data": {
      "text/plain": [
       "[ID                                                                        462\n",
       " texts_tfidf_sorted_top20    [ブタカスアブラ, アブラ, 生卵, ヤサイ, ラーコンパニオン, 乳化, 野菜, ニンニク...\n",
       " avg_cos_sim_rate                                                     0.625496\n",
       " name                                                           ラーメン富士丸 西新井大師店\n",
       " url                         https://tabelog.com/tokyo/A1324/A132404/13008749/\n",
       " score                                                                    3.65\n",
       " review_count                                                              158\n",
       " Name: 0, dtype: object,\n",
       " ID                                                                        213\n",
       " texts_tfidf_sorted_top20    [ヤサイ, 乳化, アブラ, ニンニク, カラメ, ブタ, 野菜, キャベツ, マシ, シャ...\n",
       " avg_cos_sim_rate                                                     0.608843\n",
       " name                                                            ラーメン二郎 神田神保町店\n",
       " url                         https://tabelog.com/tokyo/A1310/A131003/13216512/\n",
       " score                                                                    3.72\n",
       " review_count                                                              219\n",
       " Name: 2, dtype: object,\n",
       " ID                                                                        150\n",
       " texts_tfidf_sorted_top20    [乳化, プチ, ヤサイ, ブタ, ニンニク, アブラ, 少な目, 野菜, キャベツ, カタ...\n",
       " avg_cos_sim_rate                                                     0.574339\n",
       " name                                                        ラーメン二郎 八王子野猿街道店 ２\n",
       " url                         https://tabelog.com/tokyo/A1329/A132904/13025633/\n",
       " score                                                                    3.74\n",
       " review_count                                                              462\n",
       " Name: 14, dtype: object]"
      ]
     },
     "execution_count": 6,
     "metadata": {},
     "output_type": "execute_result"
    }
   ],
   "source": [
    "virtual_store = ['二郎', 'ヤサイ', 'ニンニク', 'アブラ', 'モヤシ', 'ブタ']\n",
    "search_similar_stores(virtual_store)"
   ]
  },
  {
   "cell_type": "code",
   "execution_count": 7,
   "id": "8ea27e6a-1a07-42d5-8f36-1b14b2601b24",
   "metadata": {},
   "outputs": [],
   "source": [
    "%run recommend.py"
   ]
  },
  {
   "cell_type": "code",
   "execution_count": 8,
   "id": "b4bb4ae4-0bf0-4243-b279-9e841861e9d4",
   "metadata": {},
   "outputs": [
    {
     "data": {
      "text/plain": [
       "[ID                                                                        491\n",
       " texts_tfidf_sorted_top20    [ガリマヨ, まぜそば, スキヤキ, ショウガ, アブラ, 野菜, マシ, ニンニク, カレ...\n",
       " avg_cos_sim_rate                                                     0.481727\n",
       " name                                                                      用心棒\n",
       " url                         https://tabelog.com/tokyo/A1310/A131003/13085246/\n",
       " score                                                                    3.64\n",
       " review_count                                                              337\n",
       " Name: 0, dtype: object,\n",
       " ID                                                                         93\n",
       " texts_tfidf_sorted_top20    [ヤサイ, ニンニク, アブラ, 乳化, ぶた, ブタ, 野菜, マシ, 少なめ, カラメ,...\n",
       " avg_cos_sim_rate                                                     0.475404\n",
       " name                                                              ラーメン二郎 三田本店\n",
       " url                         https://tabelog.com/tokyo/A1314/A131402/13006051/\n",
       " score                                                                    3.77\n",
       " review_count                                                             1063\n",
       " Name: 4, dtype: object,\n",
       " ID                                                                         43\n",
       " texts_tfidf_sorted_top20    [トゥル, 高菜, キクラゲ, 辛子, 替玉, 替え玉, 紅生姜, トゥルトゥル, 極細, ...\n",
       " avg_cos_sim_rate                                                     0.447944\n",
       " name                                                              博多長浜ラーメン 健太\n",
       " url                         https://tabelog.com/tokyo/A1319/A131904/13183596/\n",
       " score                                                                    3.85\n",
       " review_count                                                               76\n",
       " Name: 29, dtype: object]"
      ]
     },
     "execution_count": 8,
     "metadata": {},
     "output_type": "execute_result"
    }
   ],
   "source": [
    "virtual_store = [\n",
    "    '激辛', 'ケーキ', 'スープ', '明るい', 'もやし', '多め', '二郎系'\n",
    "]\n",
    "search_similar_stores(virtual_store)"
   ]
  },
  {
   "cell_type": "code",
   "execution_count": 17,
   "id": "aa938181-4134-4286-a44f-5d8d88084d3a",
   "metadata": {},
   "outputs": [],
   "source": [
    "%run recommend.py"
   ]
  },
  {
   "cell_type": "code",
   "execution_count": 18,
   "id": "976db31d-1942-4bcd-8370-64923fd87b20",
   "metadata": {},
   "outputs": [
    {
     "data": {
      "text/plain": [
       "[ID                                                                         84\n",
       " texts_tfidf_sorted_top20    [ほうれん草, 生姜, チャーシュー麺, ホウレン草, 増し, わし, どんだけ, クオリテ...\n",
       " avg_cos_sim_rate                                                     0.561214\n",
       " name                                                                青島食堂 秋葉原店\n",
       " url                         https://tabelog.com/tokyo/A1310/A131001/13094776/\n",
       " score                                                                    3.78\n",
       " review_count                                                             1024\n",
       " Name: 0, dtype: object,\n",
       " ID                                                                         78\n",
       " texts_tfidf_sorted_top20    [柳麺, 柚子, 和風, 沢庵, 三つ葉, 若布, 吸い物, 焼豚, 柚子皮, 薄目, 半玉...\n",
       " avg_cos_sim_rate                                                     0.538559\n",
       " name                                                            麺屋ひょっとこ 交通会館店\n",
       " url                         https://tabelog.com/tokyo/A1301/A130102/13046637/\n",
       " score                                                                    3.78\n",
       " review_count                                                             1375\n",
       " Name: 5, dtype: object,\n",
       " ID                                                                         79\n",
       " texts_tfidf_sorted_top20    [soba, トリプル, 山芋, オリーブオイル, 長芋, ドライカレー, ｓｏｂａ, 三つ...\n",
       " avg_cos_sim_rate                                                     0.511978\n",
       " name                                                              むぎとオリーブ 銀座店\n",
       " url                         https://tabelog.com/tokyo/A1301/A130101/13164932/\n",
       " score                                                                    3.78\n",
       " review_count                                                             1342\n",
       " Name: 21, dtype: object]"
      ]
     },
     "execution_count": 18,
     "metadata": {},
     "output_type": "execute_result"
    }
   ],
   "source": [
    "virtual_store = ['チャーシュー', '大盛り']\n",
    "search_similar_stores(virtual_store)"
   ]
  },
  {
   "cell_type": "code",
   "execution_count": 11,
   "id": "17406e3b-17ea-45de-862c-6f104b854f6e",
   "metadata": {},
   "outputs": [],
   "source": [
    "%run recommend.py"
   ]
  },
  {
   "cell_type": "code",
   "execution_count": 12,
   "id": "7e664570-fa6a-491b-b28e-13b42de8229e",
   "metadata": {},
   "outputs": [
    {
     "data": {
      "text/plain": [
       "[ID                                                                         43\n",
       " texts_tfidf_sorted_top20    [トゥル, 高菜, キクラゲ, 辛子, 替玉, 替え玉, 紅生姜, トゥルトゥル, 極細, ...\n",
       " avg_cos_sim_rate                                                     0.513802\n",
       " name                                                              博多長浜ラーメン 健太\n",
       " url                         https://tabelog.com/tokyo/A1319/A131904/13183596/\n",
       " score                                                                    3.85\n",
       " review_count                                                               76\n",
       " Name: 0, dtype: object,\n",
       " ID                                                                        419\n",
       " texts_tfidf_sorted_top20    [酒井, スモーク, ライス, おかわり自由, 燻製, ほうれん草, かわり, ごはん, 海...\n",
       " avg_cos_sim_rate                                                     0.500712\n",
       " name                                                                      輝道家\n",
       " url                         https://tabelog.com/tokyo/A1321/A132104/13221750/\n",
       " score                                                                    3.66\n",
       " review_count                                                              134\n",
       " Name: 3, dtype: object,\n",
       " ID                                                                        170\n",
       " texts_tfidf_sorted_top20    [白湯, 替玉, 替え玉, オクラ, ヤングコーン, アスパラ, き替え, 味付, 焙煎, ...\n",
       " avg_cos_sim_rate                                                     0.455088\n",
       " name                                                                      ろく月\n",
       " url                         https://tabelog.com/tokyo/A1311/A131103/13161632/\n",
       " score                                                                    3.73\n",
       " review_count                                                              319\n",
       " Name: 29, dtype: object]"
      ]
     },
     "execution_count": 12,
     "metadata": {},
     "output_type": "execute_result"
    }
   ],
   "source": [
    "virtual_store = ['家系', '小松菜', 'ライス']\n",
    "search_similar_stores(virtual_store)"
   ]
  },
  {
   "cell_type": "code",
   "execution_count": 13,
   "id": "abbc2ccf-0914-41cb-afaf-1ac1469bd6c3",
   "metadata": {},
   "outputs": [],
   "source": [
    "%run recommend.py"
   ]
  },
  {
   "cell_type": "code",
   "execution_count": 14,
   "id": "27280f7a-3407-4aca-898a-800a4b9b645b",
   "metadata": {},
   "outputs": [
    {
     "data": {
      "text/plain": [
       "[ID                                                                        105\n",
       " texts_tfidf_sorted_top20    [パクチー, スパイス, もやし, スパイス・ラー, ブロッコリー, カレー, スパイ, カ...\n",
       " avg_cos_sim_rate                                                     0.437208\n",
       " name                                                         スパイス・ラー麺 卍力 西葛西店\n",
       " url                         https://tabelog.com/tokyo/A1313/A131305/13168253/\n",
       " score                                                                    3.77\n",
       " review_count                                                              450\n",
       " Name: 0, dtype: object,\n",
       " ID                                                                        457\n",
       " texts_tfidf_sorted_top20    [黒胡麻, 担担麺, 坦坦, パクチー, 痺れ, 白胡麻, しらたき, 花椒, 干し海老, ...\n",
       " avg_cos_sim_rate                                                     0.432394\n",
       " name                                                                汁なし担担麺ピリリ\n",
       " url                         https://tabelog.com/tokyo/A1302/A130204/13197440/\n",
       " score                                                                    3.65\n",
       " review_count                                                              184\n",
       " Name: 2, dtype: object,\n",
       " ID                                                                        118\n",
       " texts_tfidf_sorted_top20    [上海蟹, カレー, 中華, チャーハン, 五目, 辣麺, 焼きそば, パイコー, ミニ, ...\n",
       " avg_cos_sim_rate                                                     0.390607\n",
       " name                                                                    新世界菜館\n",
       " url                         https://tabelog.com/tokyo/A1310/A131003/13000411/\n",
       " score                                                                    3.76\n",
       " review_count                                                              431\n",
       " Name: 47, dtype: object]"
      ]
     },
     "execution_count": 14,
     "metadata": {},
     "output_type": "execute_result"
    }
   ],
   "source": [
    "virtual_store = ['辛い', 'カレー', '味噌ラーメン', '太い']\n",
    "search_similar_stores(virtual_store)"
   ]
  },
  {
   "cell_type": "code",
   "execution_count": 15,
   "id": "392f18a5-41f1-4bc6-b549-9dbe451645f8",
   "metadata": {},
   "outputs": [],
   "source": [
    "%run recommend.py"
   ]
  },
  {
   "cell_type": "code",
   "execution_count": 16,
   "id": "52c01988-67b2-493d-a65b-22e80138a844",
   "metadata": {},
   "outputs": [
    {
     "data": {
      "text/plain": [
       "[ID                                                                        105\n",
       " texts_tfidf_sorted_top20    [パクチー, スパイス, もやし, スパイス・ラー, ブロッコリー, カレー, スパイ, カ...\n",
       " avg_cos_sim_rate                                                     0.409597\n",
       " name                                                         スパイス・ラー麺 卍力 西葛西店\n",
       " url                         https://tabelog.com/tokyo/A1313/A131305/13168253/\n",
       " score                                                                    3.77\n",
       " review_count                                                              450\n",
       " Name: 0, dtype: object,\n",
       " ID                                                                        292\n",
       " texts_tfidf_sorted_top20    [正宗, 担々麺, 日式, 汁なし担々麺, プレミアム, 坦々麺, 肉味噌, 花椒, 痺れ,...\n",
       " avg_cos_sim_rate                                                     0.406845\n",
       " name                                                             担々麺 辣椒漢 神田本店\n",
       " url                         https://tabelog.com/tokyo/A1310/A131002/13045967/\n",
       " score                                                                    3.69\n",
       " review_count                                                              285\n",
       " Name: 1, dtype: object,\n",
       " ID                                                                        180\n",
       " texts_tfidf_sorted_top20    [排骨, 大辛, 沢庵, パーコー, 龍馬, 担々麺, 坦々麺, めん, シューマイ, 芝麻...\n",
       " avg_cos_sim_rate                                                     0.370286\n",
       " name                                                               支那麺 はしご 本店\n",
       " url                         https://tabelog.com/tokyo/A1301/A130101/13092185/\n",
       " score                                                                    3.72\n",
       " review_count                                                             1035\n",
       " Name: 39, dtype: object]"
      ]
     },
     "execution_count": 16,
     "metadata": {},
     "output_type": "execute_result"
    }
   ],
   "source": [
    "virtual_store = ['辛い', 'カレー', '味噌ラーメン', '太い', 'カラオケ']\n",
    "search_similar_stores(virtual_store)"
   ]
  },
  {
   "cell_type": "code",
   "execution_count": null,
   "id": "80334427-23eb-480e-b55d-00db8f62cc50",
   "metadata": {},
   "outputs": [],
   "source": []
  }
 ],
 "metadata": {
  "kernelspec": {
   "display_name": "Python 3",
   "language": "python",
   "name": "python3"
  },
  "language_info": {
   "codemirror_mode": {
    "name": "ipython",
    "version": 3
   },
   "file_extension": ".py",
   "mimetype": "text/x-python",
   "name": "python",
   "nbconvert_exporter": "python",
   "pygments_lexer": "ipython3",
   "version": "3.8.8"
  }
 },
 "nbformat": 4,
 "nbformat_minor": 5
}
