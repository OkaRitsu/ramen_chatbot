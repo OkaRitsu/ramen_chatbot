{
 "cells": [
  {
   "cell_type": "code",
   "execution_count": 1,
   "id": "3a5702de",
   "metadata": {},
   "outputs": [],
   "source": [
    "import pandas as pd\n",
    "import MeCab\n",
    "\n",
    "tagger = MeCab.Tagger(\" -r /etc/mecabrc -d /usr/lib/x86_64-linux-gnu/mecab/dic/mecab-ipadic-neologd\")\n",
    "\n",
    "\n",
    "def tokenize_ja(text, lower):\n",
    "    node = tagger.parseToNode(str(text))\n",
    "    while node:\n",
    "        # 分かち書きで取得する品詞を指定\n",
    "        if lower and node.feature.split(',')[0] in [\"名詞\", \"形容詞\"]:\n",
    "            yield node.surface.lower()\n",
    "        node = node.next\n",
    "\n",
    "\n",
    "def tokenize(content, lower):\n",
    "    return [\n",
    "        str(token) for token in tokenize_ja(content, lower)\n",
    "        if not token.startswith('_')\n",
    "    ]\n",
    "\n"
   ]
  },
  {
   "cell_type": "code",
   "execution_count": 3,
   "id": "77291ea3",
   "metadata": {},
   "outputs": [
    {
     "name": "stdout",
     "output_type": "stream",
     "text": [
      "スープ 激辛 二郎 もやし\n"
     ]
    }
   ],
   "source": [
    "#user_word = input()\n",
    "#user_word = tokenize(user_word, True)\n",
    "user_word = [\"スープ\", \"激辛\", \"ケーキ\", \"二郎\", \"こしあん\", \"もやし\"]\n",
    "#print(user_word)\n",
    "\n",
    "with open(\"./data/ramen_word.txt\", \"r\") as f:\n",
    "    ramen_word = f.read().split(\"\\n\")\n",
    "\n",
    "user_key_words = [word for word in user_word if word in ramen_word]\n",
    "\n",
    "print(*user_key_words)\n"
   ]
  }
 ],
 "metadata": {
  "kernelspec": {
   "display_name": "Python 3 (ipykernel)",
   "language": "python",
   "name": "python3"
  },
  "language_info": {
   "codemirror_mode": {
    "name": "ipython",
    "version": 3
   },
   "file_extension": ".py",
   "mimetype": "text/x-python",
   "name": "python",
   "nbconvert_exporter": "python",
   "pygments_lexer": "ipython3",
   "version": "3.9.6"
  }
 },
 "nbformat": 4,
 "nbformat_minor": 5
}
