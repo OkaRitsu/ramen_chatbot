{
 "cells": [
  {
   "cell_type": "code",
   "execution_count": 2,
   "id": "80df58ea",
   "metadata": {},
   "outputs": [],
   "source": [
    "import numpy as np\n",
    "import pandas as pd\n",
    "import pickle\n",
    "from gensim.models import word2vec\n",
    "import MeCab\n",
    "import re\n",
    "\n",
    "\n",
    "# tagger = MeCab.Tagger(\" -r /etc/mecabrc -d /usr/lib/x86_64-linux-gnu/mecab/dic/mecab-ipadic-neologd\")\n",
    "tagger = MeCab.Tagger(\"-Owakati -d /opt/homebrew/lib/mecab/dic/mecab-ipadic-neologd\")\n",
    "\n",
    "def tokenize_ja(text, lower):\n",
    "    node = tagger.parseToNode(str(text))\n",
    "    while node:\n",
    "        # 分かち書きで取得する品詞を指定\n",
    "        if lower and node.feature.split(',')[0] in [\"名詞\", \"形容詞\"]:\n",
    "            yield node.surface.lower()\n",
    "        node = node.next\n",
    "\n",
    "\n",
    "def tokenize(content, token_min_len, token_max_len, lower):\n",
    "    return [\n",
    "        str(token) for token in tokenize_ja(content, lower)\n",
    "        if token_min_len <= len(token) <= token_max_len and not token.startswith('_')\n",
    "    ]\n",
    "\n",
    "\n",
    "# 学習データの読み込み\n",
    "df = pd.read_csv('./data/ramen_review.csv')\n",
    "df2 = pd.read_csv('./data/ramen_store.csv')\n",
    "df = pd.merge(df, df2, on=\"ID\")\n",
    "df_ramen = df.groupby(['name', 'score', 'review_count'])['review'].apply(\n",
    "    list).apply(' '.join).reset_index().sort_values('score', ascending=False)\n",
    "\n"
   ]
  },
  {
   "cell_type": "code",
   "execution_count": 5,
   "id": "8d0a136c",
   "metadata": {
    "scrolled": true
   },
   "outputs": [],
   "source": [
    "df_ramen[['name', 'review']].to_csv('confirm.csv')"
   ]
  },
  {
   "cell_type": "code",
   "execution_count": 3,
   "id": "61f316a6",
   "metadata": {},
   "outputs": [
    {
     "name": "stderr",
     "output_type": "stream",
     "text": [
      "/Users/okazawa/opt/anaconda3/lib/python3.8/site-packages/numpy/core/_asarray.py:102: VisibleDeprecationWarning: Creating an ndarray from ragged nested sequences (which is a list-or-tuple of lists-or-tuples-or ndarrays with different lengths or shapes) is deprecated. If you meant to do this, you must specify 'dtype=object' when creating the ndarray.\n",
      "  return array(a, dtype, copy=False, order=order)\n"
     ]
    }
   ],
   "source": [
    "# コーパス作成\n",
    "def preprocessing_text(text):\n",
    "    # 改行、半角スペース、全角スペースを削除\n",
    "    text = re.sub('\\r', '' , text)\n",
    "    text = re.sub('\\n', '' , text)\n",
    "    text = re.sub('　', '' , text)\n",
    "    text = re.sub(' ', '' , text)\n",
    "    text = text.lower()\n",
    "    # 数字文字の一律「0」化\n",
    "    text = re.sub('\\d+,?\\d*', '0', text) \n",
    "    return text\n",
    "                  \n",
    "wakati_ramen_text = []\n",
    "for i in df_ramen['review']:\n",
    "    txt = preprocessing_text(i)\n",
    "    txt = tokenize(txt, 2, 10000, True)\n",
    "    wakati_ramen_text.append(txt)\n",
    "\n",
    "np.savetxt(\"./data/ramen_corpus.txt\", wakati_ramen_text,\n",
    "           fmt='%s', delimiter=',', encoding='UTF-8')\n",
    "np.savetxt(\"./data/ramen_corpus.txt\", wakati_ramen_text,\n",
    "           fmt='%s', delimiter=',', encoding='UTF-8')\n"
   ]
  },
  {
   "cell_type": "code",
   "execution_count": 4,
   "id": "c1b6e27e",
   "metadata": {},
   "outputs": [],
   "source": [
    "# モデル作成\n",
    "\n",
    "word2vec_ramen_model = word2vec.Word2Vec(wakati_ramen_text,sg=1, vector_size=100, window=5,min_count=5,workers=3)\n",
    "\n",
    "word2vec_ramen_model = word2vec.Word2Vec(wakati_ramen_text, sg = 1, vector_size=100, window = 5, min_count = 5, workers = 3)\n",
    "\n",
    "#sg（0: CBOW, 1: skip-gram）,size（ベクトルの次元数）,window（学習に使う前後の単語数）,min_count（n回未満登場する単語を破棄）,iter（トレーニング反復回数）\n",
    "\n",
    "# モデルのセーブ\n",
    "word2vec_ramen_model.save(\"./model/word2vec_ramen_model_v2.model\")"
   ]
  },
  {
   "cell_type": "code",
   "execution_count": 5,
   "id": "ebaaef16",
   "metadata": {},
   "outputs": [
    {
     "data": {
      "text/plain": [
       "[('ラーメン二郎', 0.8212851285934448),\n",
       " ('ヤサイ', 0.7711228132247925),\n",
       " ('上野毛', 0.7576539516448975),\n",
       " ('千住大橋', 0.7462212443351746),\n",
       " ('野猿', 0.7403286099433899),\n",
       " ('乳化', 0.7391341924667358),\n",
       " ('野猿街道', 0.7335373759269714),\n",
       " ('デロ', 0.7333035469055176),\n",
       " ('三田', 0.7268819212913513),\n",
       " ('二郎系', 0.7171891331672668)]"
      ]
     },
     "execution_count": 5,
     "metadata": {},
     "output_type": "execute_result"
    }
   ],
   "source": [
    "# モデルのロード\n",
    "#model(ver1)\n",
    "word2vec_ramen_model =word2vec.Word2Vec.load(\"./model/word2vec_ramen_model.model\")\n",
    "word2vec_ramen_model.wv.most_similar(\"二郎\")"
   ]
  },
  {
   "cell_type": "code",
   "execution_count": 6,
   "id": "d46dac29",
   "metadata": {},
   "outputs": [
    {
     "data": {
      "text/plain": [
       "[('ラーメン二郎', 0.7937691807746887),\n",
       " ('ヤサイ', 0.7468765377998352),\n",
       " ('野猿', 0.7339311838150024),\n",
       " ('上野毛', 0.7324761152267456),\n",
       " ('乳化', 0.7278997898101807),\n",
       " ('二郎系', 0.7257570028305054),\n",
       " ('デロ', 0.7253230810165405),\n",
       " ('千住大橋', 0.7156883478164673),\n",
       " ('野猿街道', 0.7153052687644958),\n",
       " ('三田', 0.7137161493301392)]"
      ]
     },
     "execution_count": 6,
     "metadata": {},
     "output_type": "execute_result"
    }
   ],
   "source": [
    "# モデルのロード\n",
    "#model(ver2)\n",
    "word2vec_ramen_model =word2vec.Word2Vec.load(\"./model/word2vec_ramen_model_v2.model\")\n",
    "word2vec_ramen_model.wv.most_similar(\"二郎\")"
   ]
  },
  {
   "cell_type": "code",
   "execution_count": 7,
   "id": "0de3c942",
   "metadata": {},
   "outputs": [
    {
     "data": {
      "text/plain": [
       "[('ミュージシャン', 0.960503339767456),\n",
       " ('共同', 0.9421948194503784),\n",
       " ('引退', 0.9420249462127686),\n",
       " ('脱サラ', 0.9373900890350342),\n",
       " ('石原', 0.936711311340332),\n",
       " ('高野', 0.9364616274833679),\n",
       " ('社員', 0.9357295632362366),\n",
       " ('後藤', 0.9356252551078796),\n",
       " ('橋本', 0.93327397108078),\n",
       " ('郡山', 0.932330310344696)]"
      ]
     },
     "execution_count": 7,
     "metadata": {},
     "output_type": "execute_result"
    }
   ],
   "source": [
    "word2vec_ramen_model.wv.most_similar(\"山岸\")"
   ]
  },
  {
   "cell_type": "code",
   "execution_count": 8,
   "id": "b7fbd17c",
   "metadata": {},
   "outputs": [
    {
     "data": {
      "text/plain": [
       "[('確立', 0.8000149130821228),\n",
       " ('火付け役', 0.7925465106964111),\n",
       " ('フェットチーネ', 0.791483461856842),\n",
       " ('ケンちゃんラーメン', 0.7897595167160034),\n",
       " ('考案', 0.7859686017036438),\n",
       " ('熊本', 0.7855016589164734),\n",
       " ('呼び名', 0.7824597358703613),\n",
       " ('札幌ラーメン', 0.7808576822280884),\n",
       " ('メジャー', 0.7784992456436157),\n",
       " ('信州', 0.770969808101654)]"
      ]
     },
     "execution_count": 8,
     "metadata": {},
     "output_type": "execute_result"
    }
   ],
   "source": [
    "word2vec_ramen_model.wv.most_similar(positive=[u\"ラーメン\",u\"北海道\"])"
   ]
  }
 ],
 "metadata": {
  "kernelspec": {
   "display_name": "Python 3",
   "language": "python",
   "name": "python3"
  },
  "language_info": {
   "codemirror_mode": {
    "name": "ipython",
    "version": 3
   },
   "file_extension": ".py",
   "mimetype": "text/x-python",
   "name": "python",
   "nbconvert_exporter": "python",
   "pygments_lexer": "ipython3",
   "version": "3.8.8"
  }
 },
 "nbformat": 4,
 "nbformat_minor": 5
}
