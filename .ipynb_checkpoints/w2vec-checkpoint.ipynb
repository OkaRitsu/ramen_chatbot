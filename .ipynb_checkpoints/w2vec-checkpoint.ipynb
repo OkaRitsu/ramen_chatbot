{
 "cells": [
  {
   "cell_type": "code",
   "execution_count": 1,
   "id": "80df58ea",
   "metadata": {},
   "outputs": [],
   "source": [
    "import numpy as np\n",
    "import pandas as pd\n",
    "import pickle\n",
    "from gensim.models import word2vec\n",
    "import MeCab\n",
    "import re\n",
    "\n",
    "\n",
    "tagger = MeCab.Tagger(\" -r /etc/mecabrc -d /usr/lib/x86_64-linux-gnu/mecab/dic/mecab-ipadic-neologd\")\n",
    "# tagger = MeCab.Tagger(\"-Owakati -d /opt/homebrew/lib/mecab/dic/mecab-ipadic-neologd\")\n",
    "\n",
    "def tokenize_ja(text, lower):\n",
    "    node = tagger.parseToNode(str(text))\n",
    "    while node:\n",
    "        # 分かち書きで取得する品詞を指定\n",
    "        if lower and node.feature.split(',')[0] in [\"名詞\", \"形容詞\"]:\n",
    "            yield node.surface.lower()\n",
    "        node = node.next\n",
    "\n",
    "\n",
    "def tokenize(content, token_min_len, token_max_len, lower):\n",
    "    return [\n",
    "        str(token) for token in tokenize_ja(content, lower)\n",
    "        if token_min_len <= len(token) <= token_max_len and not token.startswith('_')\n",
    "    ]\n",
    "\n",
    "\n",
    "# 学習データの読み込み\n",
    "df = pd.read_csv('./data/ramen_review.csv')\n",
    "df2 = pd.read_csv('./data/ramen_store.csv')\n",
    "df = pd.merge(df, df2, on=\"ID\")\n",
    "df_ramen = df.groupby(['name', 'score', 'review_count'])['review'].apply(\n",
    "    list).apply(' '.join).reset_index().sort_values('score', ascending=False)\n",
    "\n"
   ]
  },
  {
   "cell_type": "code",
   "execution_count": 2,
   "id": "8d0a136c",
   "metadata": {
    "scrolled": true
   },
   "outputs": [
    {
     "data": {
      "text/html": [
       "<div>\n",
       "<style scoped>\n",
       "    .dataframe tbody tr th:only-of-type {\n",
       "        vertical-align: middle;\n",
       "    }\n",
       "\n",
       "    .dataframe tbody tr th {\n",
       "        vertical-align: top;\n",
       "    }\n",
       "\n",
       "    .dataframe thead th {\n",
       "        text-align: right;\n",
       "    }\n",
       "</style>\n",
       "<table border=\"1\" class=\"dataframe\">\n",
       "  <thead>\n",
       "    <tr style=\"text-align: right;\">\n",
       "      <th></th>\n",
       "      <th>name</th>\n",
       "      <th>score</th>\n",
       "      <th>review_count</th>\n",
       "      <th>review</th>\n",
       "    </tr>\n",
       "  </thead>\n",
       "  <tbody>\n",
       "    <tr>\n",
       "      <th>75</th>\n",
       "      <td>らぁ麺や 嶋</td>\n",
       "      <td>3.99</td>\n",
       "      <td>249</td>\n",
       "      <td>特製醤油らぁ麺　1180円あの”ラーメンの鬼”佐野氏のDNAを継ぐお店が西新宿に！…という情...</td>\n",
       "    </tr>\n",
       "    <tr>\n",
       "      <th>3</th>\n",
       "      <td>Homemade Ramen 麦苗</td>\n",
       "      <td>3.98</td>\n",
       "      <td>758</td>\n",
       "      <td>特上 塩つけ　　　　　　　　　　　　　　959月10日、今日の昼食は多摩川を越えて大森まで遠...</td>\n",
       "    </tr>\n",
       "    <tr>\n",
       "      <th>242</th>\n",
       "      <td>手打式超多加水麺 ののくら</td>\n",
       "      <td>3.96</td>\n",
       "      <td>532</td>\n",
       "      <td>食べログのラーメン部門で東京No.1になった「ののくら」にやってまいりました～！（2020年...</td>\n",
       "    </tr>\n",
       "    <tr>\n",
       "      <th>367</th>\n",
       "      <td>麺尊 RAGE</td>\n",
       "      <td>3.94</td>\n",
       "      <td>784</td>\n",
       "      <td>金曜夜19:15着。外待ち4名に接続。外待ち席にて、注文を聞かれました。そこで、ご飯もの終了...</td>\n",
       "    </tr>\n",
       "    <tr>\n",
       "      <th>235</th>\n",
       "      <td>宍道湖しじみ中華蕎麦 琥珀</td>\n",
       "      <td>3.94</td>\n",
       "      <td>346</td>\n",
       "      <td>前からものすごくいってみたかったお店！ただし、平日しかやっていないのと雑色という立地の不便さ...</td>\n",
       "    </tr>\n",
       "    <tr>\n",
       "      <th>...</th>\n",
       "      <td>...</td>\n",
       "      <td>...</td>\n",
       "      <td>...</td>\n",
       "      <td>...</td>\n",
       "    </tr>\n",
       "    <tr>\n",
       "      <th>64</th>\n",
       "      <td>めん徳 二代目 つじ田   麹町店</td>\n",
       "      <td>3.66</td>\n",
       "      <td>456</td>\n",
       "      <td>今日は歌舞伎を見に半蔵門に来ています。その前に腹ごしらえ、紀尾井町交差点近く「めん徳二代目つ...</td>\n",
       "    </tr>\n",
       "    <tr>\n",
       "      <th>204</th>\n",
       "      <td>共楽</td>\n",
       "      <td>3.66</td>\n",
       "      <td>314</td>\n",
       "      <td>誰が言ったか知らないが、こちらのお店は、東京三大中華そばのうちの一店とか。オープン3分後に到...</td>\n",
       "    </tr>\n",
       "    <tr>\n",
       "      <th>233</th>\n",
       "      <td>太陽</td>\n",
       "      <td>3.66</td>\n",
       "      <td>267</td>\n",
       "      <td>昨日のお昼ご飯の2軒目は一見目の近くにある町中華屋さんに行ってみることに、前から来て見たかっ...</td>\n",
       "    </tr>\n",
       "    <tr>\n",
       "      <th>385</th>\n",
       "      <td>麺屋　藤しろ</td>\n",
       "      <td>3.66</td>\n",
       "      <td>322</td>\n",
       "      <td>平日 16:50頃 伺いました。店内は数名のお客さん、定員さん3名で営業。入り口で食券を購入...</td>\n",
       "    </tr>\n",
       "    <tr>\n",
       "      <th>255</th>\n",
       "      <td>本家 第一旭 新宿店</td>\n",
       "      <td>3.66</td>\n",
       "      <td>279</td>\n",
       "      <td>うどんが主食の公式ブログ　https://alwaysudon.com/daiichiasa...</td>\n",
       "    </tr>\n",
       "  </tbody>\n",
       "</table>\n",
       "<p>400 rows × 4 columns</p>\n",
       "</div>"
      ],
      "text/plain": [
       "                  name  score  review_count  \\\n",
       "75              らぁ麺や 嶋   3.99           249   \n",
       "3    Homemade Ramen 麦苗   3.98           758   \n",
       "242      手打式超多加水麺 ののくら   3.96           532   \n",
       "367            麺尊 RAGE   3.94           784   \n",
       "235      宍道湖しじみ中華蕎麦 琥珀   3.94           346   \n",
       "..                 ...    ...           ...   \n",
       "64   めん徳 二代目 つじ田   麹町店   3.66           456   \n",
       "204                 共楽   3.66           314   \n",
       "233                 太陽   3.66           267   \n",
       "385             麺屋　藤しろ   3.66           322   \n",
       "255         本家 第一旭 新宿店   3.66           279   \n",
       "\n",
       "                                                review  \n",
       "75   特製醤油らぁ麺　1180円あの”ラーメンの鬼”佐野氏のDNAを継ぐお店が西新宿に！…という情...  \n",
       "3    特上 塩つけ　　　　　　　　　　　　　　959月10日、今日の昼食は多摩川を越えて大森まで遠...  \n",
       "242  食べログのラーメン部門で東京No.1になった「ののくら」にやってまいりました～！（2020年...  \n",
       "367  金曜夜19:15着。外待ち4名に接続。外待ち席にて、注文を聞かれました。そこで、ご飯もの終了...  \n",
       "235  前からものすごくいってみたかったお店！ただし、平日しかやっていないのと雑色という立地の不便さ...  \n",
       "..                                                 ...  \n",
       "64   今日は歌舞伎を見に半蔵門に来ています。その前に腹ごしらえ、紀尾井町交差点近く「めん徳二代目つ...  \n",
       "204  誰が言ったか知らないが、こちらのお店は、東京三大中華そばのうちの一店とか。オープン3分後に到...  \n",
       "233  昨日のお昼ご飯の2軒目は一見目の近くにある町中華屋さんに行ってみることに、前から来て見たかっ...  \n",
       "385  平日 16:50頃 伺いました。店内は数名のお客さん、定員さん3名で営業。入り口で食券を購入...  \n",
       "255  うどんが主食の公式ブログ　https://alwaysudon.com/daiichiasa...  \n",
       "\n",
       "[400 rows x 4 columns]"
      ]
     },
     "execution_count": 2,
     "metadata": {},
     "output_type": "execute_result"
    }
   ],
   "source": [
    "df_ramen"
   ]
  },
  {
   "cell_type": "code",
   "execution_count": 3,
   "id": "61f316a6",
   "metadata": {},
   "outputs": [
    {
     "name": "stderr",
     "output_type": "stream",
     "text": [
      "/Users/okazawa/opt/anaconda3/lib/python3.8/site-packages/numpy/core/_asarray.py:102: VisibleDeprecationWarning: Creating an ndarray from ragged nested sequences (which is a list-or-tuple of lists-or-tuples-or ndarrays with different lengths or shapes) is deprecated. If you meant to do this, you must specify 'dtype=object' when creating the ndarray.\n",
      "  return array(a, dtype, copy=False, order=order)\n"
     ]
    }
   ],
   "source": [
    "# コーパス作成\n",
    "def preprocessing_text(text):\n",
    "    # 改行、半角スペース、全角スペースを削除\n",
    "    text = re.sub('\\r', '' , text)\n",
    "    text = re.sub('\\n', '' , text)\n",
    "    text = re.sub('　', '' , text)\n",
    "    text = re.sub(' ', '' , text)\n",
    "    text = text.lower()\n",
    "    # 数字文字の一律「0」化\n",
    "    text = re.sub('\\d+,?\\d*', '0', text) \n",
    "    return text\n",
    "                  \n",
    "wakati_ramen_text = []\n",
    "for i in df_ramen['review']:\n",
    "    txt = preprocessing_text(i)\n",
    "    txt = tokenize(txt, 2, 10000, True)\n",
    "    wakati_ramen_text.append(txt)\n",
    "\n",
    "np.savetxt(\"./data/ramen_corpus.txt\", wakati_ramen_text,\n",
    "           fmt='%s', delimiter=',', encoding='UTF-8')\n",
    "np.savetxt(\"./data/ramen_corpus.txt\", wakati_ramen_text,\n",
    "           fmt='%s', delimiter=',', encoding='UTF-8')\n"
   ]
  },
  {
   "cell_type": "code",
   "execution_count": 4,
   "id": "c1b6e27e",
   "metadata": {},
   "outputs": [],
   "source": [
    "# モデル作成\n",
    "\n",
    "word2vec_ramen_model = word2vec.Word2Vec(wakati_ramen_text,sg=1, vector_size=100, window=5,min_count=5,workers=3)\n",
    "\n",
    "word2vec_ramen_model = word2vec.Word2Vec(wakati_ramen_text, sg = 1, vector_size=100, window = 5, min_count = 5, workers = 3)\n",
    "\n",
    "#sg（0: CBOW, 1: skip-gram）,size（ベクトルの次元数）,window（学習に使う前後の単語数）,min_count（n回未満登場する単語を破棄）,iter（トレーニング反復回数）\n",
    "\n",
    "# モデルのセーブ\n",
    "word2vec_ramen_model.save(\"./model/word2vec_ramen_model_v2.model\")"
   ]
  },
  {
   "cell_type": "code",
   "execution_count": 5,
   "id": "ebaaef16",
   "metadata": {},
   "outputs": [
    {
     "data": {
      "text/plain": [
       "[('ラーメン二郎', 0.8212851285934448),\n",
       " ('ヤサイ', 0.7711228132247925),\n",
       " ('上野毛', 0.7576539516448975),\n",
       " ('千住大橋', 0.7462212443351746),\n",
       " ('野猿', 0.7403286099433899),\n",
       " ('乳化', 0.7391341924667358),\n",
       " ('野猿街道', 0.7335373759269714),\n",
       " ('デロ', 0.7333035469055176),\n",
       " ('三田', 0.7268819212913513),\n",
       " ('二郎系', 0.7171891331672668)]"
      ]
     },
     "execution_count": 5,
     "metadata": {},
     "output_type": "execute_result"
    }
   ],
   "source": [
    "# モデルのロード\n",
    "#model(ver1)\n",
    "word2vec_ramen_model =word2vec.Word2Vec.load(\"./model/word2vec_ramen_model.model\")\n",
    "word2vec_ramen_model.wv.most_similar(\"二郎\")"
   ]
  },
  {
   "cell_type": "code",
   "execution_count": 6,
   "id": "d46dac29",
   "metadata": {},
   "outputs": [
    {
     "data": {
      "text/plain": [
       "[('ラーメン二郎', 0.7937691807746887),\n",
       " ('ヤサイ', 0.7468765377998352),\n",
       " ('野猿', 0.7339311838150024),\n",
       " ('上野毛', 0.7324761152267456),\n",
       " ('乳化', 0.7278997898101807),\n",
       " ('二郎系', 0.7257570028305054),\n",
       " ('デロ', 0.7253230810165405),\n",
       " ('千住大橋', 0.7156883478164673),\n",
       " ('野猿街道', 0.7153052687644958),\n",
       " ('三田', 0.7137161493301392)]"
      ]
     },
     "execution_count": 6,
     "metadata": {},
     "output_type": "execute_result"
    }
   ],
   "source": [
    "# モデルのロード\n",
    "#model(ver2)\n",
    "word2vec_ramen_model =word2vec.Word2Vec.load(\"./model/word2vec_ramen_model_v2.model\")\n",
    "word2vec_ramen_model.wv.most_similar(\"二郎\")"
   ]
  },
  {
   "cell_type": "code",
   "execution_count": 7,
   "id": "0de3c942",
   "metadata": {},
   "outputs": [
    {
     "data": {
      "text/plain": [
       "[('ミュージシャン', 0.960503339767456),\n",
       " ('共同', 0.9421948194503784),\n",
       " ('引退', 0.9420249462127686),\n",
       " ('脱サラ', 0.9373900890350342),\n",
       " ('石原', 0.936711311340332),\n",
       " ('高野', 0.9364616274833679),\n",
       " ('社員', 0.9357295632362366),\n",
       " ('後藤', 0.9356252551078796),\n",
       " ('橋本', 0.93327397108078),\n",
       " ('郡山', 0.932330310344696)]"
      ]
     },
     "execution_count": 7,
     "metadata": {},
     "output_type": "execute_result"
    }
   ],
   "source": [
    "word2vec_ramen_model.wv.most_similar(\"山岸\")"
   ]
  },
  {
   "cell_type": "code",
   "execution_count": 8,
   "id": "b7fbd17c",
   "metadata": {},
   "outputs": [
    {
     "data": {
      "text/plain": [
       "[('確立', 0.8000149130821228),\n",
       " ('火付け役', 0.7925465106964111),\n",
       " ('フェットチーネ', 0.791483461856842),\n",
       " ('ケンちゃんラーメン', 0.7897595167160034),\n",
       " ('考案', 0.7859686017036438),\n",
       " ('熊本', 0.7855016589164734),\n",
       " ('呼び名', 0.7824597358703613),\n",
       " ('札幌ラーメン', 0.7808576822280884),\n",
       " ('メジャー', 0.7784992456436157),\n",
       " ('信州', 0.770969808101654)]"
      ]
     },
     "execution_count": 8,
     "metadata": {},
     "output_type": "execute_result"
    }
   ],
   "source": [
    "word2vec_ramen_model.wv.most_similar(positive=[u\"ラーメン\",u\"北海道\"])"
   ]
  }
 ],
 "metadata": {
  "kernelspec": {
   "display_name": "Python 3",
   "language": "python",
   "name": "python3"
  },
  "language_info": {
   "codemirror_mode": {
    "name": "ipython",
    "version": 3
   },
   "file_extension": ".py",
   "mimetype": "text/x-python",
   "name": "python",
   "nbconvert_exporter": "python",
   "pygments_lexer": "ipython3",
   "version": "3.8.8"
  }
 },
 "nbformat": 4,
 "nbformat_minor": 5
}
