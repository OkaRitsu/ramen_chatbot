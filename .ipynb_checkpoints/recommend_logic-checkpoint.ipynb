{
 "cells": [
  {
   "cell_type": "markdown",
   "id": "1201ca69-3388-4970-9672-d3f6d5fd8850",
   "metadata": {},
   "source": [
    "### コーパスの中身をkmeansでクラスタリング"
   ]
  },
  {
   "cell_type": "code",
   "execution_count": 1,
   "id": "a1ae374c-5273-4b50-9ebf-353088c85e7b",
   "metadata": {},
   "outputs": [],
   "source": [
    "from collections import defaultdict\n",
    "\n",
    "from gensim import corpora\n",
    "from gensim import models\n",
    "from gensim.models.keyedvectors import KeyedVectors\n",
    "import pandas as pd\n",
    "from sklearn.cluster import KMeans"
   ]
  },
  {
   "cell_type": "code",
   "execution_count": 2,
   "id": "a7e176dd-5f93-4934-bddb-7d099edff6a0",
   "metadata": {},
   "outputs": [],
   "source": [
    "model = KeyedVectors.load('output/word2vec_ramen_model.model')"
   ]
  },
  {
   "cell_type": "code",
   "execution_count": 3,
   "id": "b4689b45-c03c-47f4-9f59-5bd0a123cc38",
   "metadata": {},
   "outputs": [],
   "source": [
    "max_vocab = 30000\n",
    "vocab = list(model.wv.key_to_index.keys())[:max_vocab]\n",
    "vectors = [model.wv[word] for word in vocab]"
   ]
  },
  {
   "cell_type": "code",
   "execution_count": 4,
   "id": "a1f35f0f-e59d-46c5-8b9c-c0a863955a36",
   "metadata": {},
   "outputs": [
    {
     "data": {
      "text/plain": [
       "10438"
      ]
     },
     "execution_count": 4,
     "metadata": {},
     "output_type": "execute_result"
    }
   ],
   "source": [
    "len(vectors)"
   ]
  },
  {
   "cell_type": "code",
   "execution_count": 5,
   "id": "3c3d33b2-2f3b-4f9a-b258-5b15c535e74c",
   "metadata": {},
   "outputs": [
    {
     "data": {
      "text/plain": [
       "KMeans(n_clusters=6, random_state=42)"
      ]
     },
     "execution_count": 5,
     "metadata": {},
     "output_type": "execute_result"
    }
   ],
   "source": [
    "# クラスター数はこちらで任意の値を定める\n",
    "n_clusters = 6\n",
    "kmeans_model = KMeans(n_clusters=n_clusters, verbose=0, random_state=42)\n",
    "kmeans_model.fit(vectors)"
   ]
  },
  {
   "cell_type": "code",
   "execution_count": 6,
   "id": "02ff07a2-f2f0-4661-866c-238100ee9d8c",
   "metadata": {},
   "outputs": [],
   "source": [
    "cluster_labels = kmeans_model.labels_\n",
    "cluster_to_words = defaultdict(list)\n",
    "for cluster_id, word in zip(cluster_labels, vocab):\n",
    "    cluster_to_words[cluster_id].append(word)"
   ]
  },
  {
   "cell_type": "code",
   "execution_count": 7,
   "id": "08c7f6d5-cc88-48e7-9a22-498350726f2b",
   "metadata": {},
   "outputs": [
    {
     "name": "stdout",
     "output_type": "stream",
     "text": [
      "2 ['スープ', '醤油', '感じ', '濃厚', '旨味', '煮干し', '出汁', '味わい', '香り', '風味', '魚介', '良く', 'なく', 'バランス', '最後', '印象', '旨い', '見た目', 'ストレート', '豚骨']\n",
      "1 ['ラーメン', '0円', 'こと', 'よう', 'これ', 'そう', 'つけ麺', 'ない', 'そば', 'もの', 'メニュー', '中華そば', '特製', 'らーめん', '今回', '味噌', 'それ', '好き', 'ところ', 'ここ']\n",
      "5 ['チャーシュー', '美味しい', '良い', 'メンマ', 'いい', 'トッピング', 'つけ', 'ネギ', 'ワンタン', '食感', '野菜', '海苔', '好み', '具材', 'ご飯', '美味い', '美味しく', '味付け', '調理', 'シンプル']\n",
      "0 ['0分', '店内', 'カウンター', '食券', '注文', '到着', '券売機', '購入', '待ち', '店主', '時間', '入店', '開店', '店員', '雰囲気', '着席', '先客', 'オーダー', 'お客さん', '丁寧']\n",
      "3 ['さん', '0時', '訪問', 'こちら', '人気', '行列', '今日', 'ごちそうさま', '平日', 'ラーメン屋', '徒歩', '近く', '食べログ', '場所', 'ランチ', '営業', '名店', 'オープン', '以前', 'ラーメン店']\n",
      "4 ['https', '.com', 'www', 'instagram', '0%', 'twitter', 'グルメ', 'tokyo', 'ブログ', 'youtube', 'http://', 'entry', '.jp', 'blog', 'u.', 'yo', 'ut', 'be', 'スタ', '詳しく']\n"
     ]
    }
   ],
   "source": [
    "for i, words in cluster_to_words.items():\n",
    "    print(i, words[:20])"
   ]
  },
  {
   "cell_type": "code",
   "execution_count": 8,
   "id": "d9873ae1-092c-41ee-b3cc-b6e9ece088bd",
   "metadata": {},
   "outputs": [],
   "source": [
    "def change_dict_key(d, old_key, new_key, default_value=None):\n",
    "    print(f'{old_key} -> {new_key}')\n",
    "    d[new_key] = d.pop(old_key, default_value)"
   ]
  },
  {
   "cell_type": "code",
   "execution_count": 9,
   "id": "cb97f463-1860-4e67-94e8-c7b62761a747",
   "metadata": {},
   "outputs": [
    {
     "name": "stdout",
     "output_type": "stream",
     "text": [
      "1 -> ラーメンに関するワード\n",
      "2 -> スープに関するワード\n",
      "5 -> トッピングに関するワード\n",
      "0 -> 店内に関するワード\n",
      "3 -> 店舗に関するワード\n",
      "4 -> その他のワード\n"
     ]
    }
   ],
   "source": [
    "# # 各クラスターの解釈を決定\n",
    "change_dict_key(cluster_to_words, 1,  'ラーメンに関するワード')\n",
    "change_dict_key(cluster_to_words, 2, 'スープに関するワード')\n",
    "change_dict_key(cluster_to_words, 5, 'トッピングに関するワード')\n",
    "change_dict_key(cluster_to_words, 0, '店内に関するワード')\n",
    "change_dict_key(cluster_to_words, 3, '店舗に関するワード')\n",
    "change_dict_key(cluster_to_words, 4, 'その他のワード')"
   ]
  },
  {
   "cell_type": "code",
   "execution_count": 10,
   "id": "0bfb064f-e5b2-4386-8d62-a19709d09ca4",
   "metadata": {},
   "outputs": [
    {
     "name": "stdout",
     "output_type": "stream",
     "text": [
      "['スープ', '醤油', '感じ', '濃厚', '旨味', '煮干し', '出汁', '味わい', '香り', '風味', '魚介', '良く', 'なく', 'バランス', '最後', '印象', '旨い', '見た目', 'ストレート', '豚骨']\n"
     ]
    }
   ],
   "source": [
    "print(cluster_to_words['スープに関するワード'][:20])"
   ]
  },
  {
   "cell_type": "code",
   "execution_count": 11,
   "id": "c9fa0395-5ae0-4f3a-8855-dc5adb6a680f",
   "metadata": {},
   "outputs": [
    {
     "data": {
      "text/html": [
       "<div>\n",
       "<style scoped>\n",
       "    .dataframe tbody tr th:only-of-type {\n",
       "        vertical-align: middle;\n",
       "    }\n",
       "\n",
       "    .dataframe tbody tr th {\n",
       "        vertical-align: top;\n",
       "    }\n",
       "\n",
       "    .dataframe thead th {\n",
       "        text-align: right;\n",
       "    }\n",
       "</style>\n",
       "<table border=\"1\" class=\"dataframe\">\n",
       "  <thead>\n",
       "    <tr style=\"text-align: right;\">\n",
       "      <th></th>\n",
       "      <th>スープに関するワード</th>\n",
       "      <th>トッピングに関するワード</th>\n",
       "      <th>その他のワード</th>\n",
       "      <th>ラーメンに関するワード</th>\n",
       "      <th>店内に関するワード</th>\n",
       "      <th>店舗に関するワード</th>\n",
       "    </tr>\n",
       "  </thead>\n",
       "  <tbody>\n",
       "    <tr>\n",
       "      <th>0</th>\n",
       "      <td>スープ</td>\n",
       "      <td>チャーシュー</td>\n",
       "      <td>https</td>\n",
       "      <td>ラーメン</td>\n",
       "      <td>0分</td>\n",
       "      <td>さん</td>\n",
       "    </tr>\n",
       "    <tr>\n",
       "      <th>1</th>\n",
       "      <td>醤油</td>\n",
       "      <td>美味しい</td>\n",
       "      <td>.com</td>\n",
       "      <td>0円</td>\n",
       "      <td>店内</td>\n",
       "      <td>0時</td>\n",
       "    </tr>\n",
       "    <tr>\n",
       "      <th>2</th>\n",
       "      <td>感じ</td>\n",
       "      <td>良い</td>\n",
       "      <td>www</td>\n",
       "      <td>こと</td>\n",
       "      <td>カウンター</td>\n",
       "      <td>訪問</td>\n",
       "    </tr>\n",
       "    <tr>\n",
       "      <th>3</th>\n",
       "      <td>濃厚</td>\n",
       "      <td>メンマ</td>\n",
       "      <td>instagram</td>\n",
       "      <td>よう</td>\n",
       "      <td>食券</td>\n",
       "      <td>こちら</td>\n",
       "    </tr>\n",
       "    <tr>\n",
       "      <th>4</th>\n",
       "      <td>旨味</td>\n",
       "      <td>いい</td>\n",
       "      <td>0%</td>\n",
       "      <td>これ</td>\n",
       "      <td>注文</td>\n",
       "      <td>人気</td>\n",
       "    </tr>\n",
       "    <tr>\n",
       "      <th>5</th>\n",
       "      <td>煮干し</td>\n",
       "      <td>トッピング</td>\n",
       "      <td>twitter</td>\n",
       "      <td>そう</td>\n",
       "      <td>到着</td>\n",
       "      <td>行列</td>\n",
       "    </tr>\n",
       "    <tr>\n",
       "      <th>6</th>\n",
       "      <td>出汁</td>\n",
       "      <td>つけ</td>\n",
       "      <td>グルメ</td>\n",
       "      <td>つけ麺</td>\n",
       "      <td>券売機</td>\n",
       "      <td>今日</td>\n",
       "    </tr>\n",
       "    <tr>\n",
       "      <th>7</th>\n",
       "      <td>味わい</td>\n",
       "      <td>ネギ</td>\n",
       "      <td>tokyo</td>\n",
       "      <td>ない</td>\n",
       "      <td>購入</td>\n",
       "      <td>ごちそうさま</td>\n",
       "    </tr>\n",
       "    <tr>\n",
       "      <th>8</th>\n",
       "      <td>香り</td>\n",
       "      <td>ワンタン</td>\n",
       "      <td>ブログ</td>\n",
       "      <td>そば</td>\n",
       "      <td>待ち</td>\n",
       "      <td>平日</td>\n",
       "    </tr>\n",
       "    <tr>\n",
       "      <th>9</th>\n",
       "      <td>風味</td>\n",
       "      <td>食感</td>\n",
       "      <td>youtube</td>\n",
       "      <td>もの</td>\n",
       "      <td>店主</td>\n",
       "      <td>ラーメン屋</td>\n",
       "    </tr>\n",
       "    <tr>\n",
       "      <th>10</th>\n",
       "      <td>魚介</td>\n",
       "      <td>野菜</td>\n",
       "      <td>http://</td>\n",
       "      <td>メニュー</td>\n",
       "      <td>時間</td>\n",
       "      <td>徒歩</td>\n",
       "    </tr>\n",
       "    <tr>\n",
       "      <th>11</th>\n",
       "      <td>良く</td>\n",
       "      <td>海苔</td>\n",
       "      <td>entry</td>\n",
       "      <td>中華そば</td>\n",
       "      <td>入店</td>\n",
       "      <td>近く</td>\n",
       "    </tr>\n",
       "    <tr>\n",
       "      <th>12</th>\n",
       "      <td>なく</td>\n",
       "      <td>好み</td>\n",
       "      <td>.jp</td>\n",
       "      <td>特製</td>\n",
       "      <td>開店</td>\n",
       "      <td>食べログ</td>\n",
       "    </tr>\n",
       "    <tr>\n",
       "      <th>13</th>\n",
       "      <td>バランス</td>\n",
       "      <td>具材</td>\n",
       "      <td>blog</td>\n",
       "      <td>らーめん</td>\n",
       "      <td>店員</td>\n",
       "      <td>場所</td>\n",
       "    </tr>\n",
       "    <tr>\n",
       "      <th>14</th>\n",
       "      <td>最後</td>\n",
       "      <td>ご飯</td>\n",
       "      <td>u.</td>\n",
       "      <td>今回</td>\n",
       "      <td>雰囲気</td>\n",
       "      <td>ランチ</td>\n",
       "    </tr>\n",
       "    <tr>\n",
       "      <th>15</th>\n",
       "      <td>印象</td>\n",
       "      <td>美味い</td>\n",
       "      <td>yo</td>\n",
       "      <td>味噌</td>\n",
       "      <td>着席</td>\n",
       "      <td>営業</td>\n",
       "    </tr>\n",
       "    <tr>\n",
       "      <th>16</th>\n",
       "      <td>旨い</td>\n",
       "      <td>美味しく</td>\n",
       "      <td>ut</td>\n",
       "      <td>それ</td>\n",
       "      <td>先客</td>\n",
       "      <td>名店</td>\n",
       "    </tr>\n",
       "    <tr>\n",
       "      <th>17</th>\n",
       "      <td>見た目</td>\n",
       "      <td>味付け</td>\n",
       "      <td>be</td>\n",
       "      <td>好き</td>\n",
       "      <td>オーダー</td>\n",
       "      <td>オープン</td>\n",
       "    </tr>\n",
       "    <tr>\n",
       "      <th>18</th>\n",
       "      <td>ストレート</td>\n",
       "      <td>調理</td>\n",
       "      <td>スタ</td>\n",
       "      <td>ところ</td>\n",
       "      <td>お客さん</td>\n",
       "      <td>以前</td>\n",
       "    </tr>\n",
       "    <tr>\n",
       "      <th>19</th>\n",
       "      <td>豚骨</td>\n",
       "      <td>シンプル</td>\n",
       "      <td>詳しく</td>\n",
       "      <td>ここ</td>\n",
       "      <td>丁寧</td>\n",
       "      <td>ラーメン店</td>\n",
       "    </tr>\n",
       "  </tbody>\n",
       "</table>\n",
       "</div>"
      ],
      "text/plain": [
       "   スープに関するワード トッピングに関するワード    その他のワード ラーメンに関するワード 店内に関するワード 店舗に関するワード\n",
       "0         スープ       チャーシュー      https        ラーメン        0分        さん\n",
       "1          醤油         美味しい       .com          0円        店内        0時\n",
       "2          感じ           良い        www          こと     カウンター        訪問\n",
       "3          濃厚          メンマ  instagram          よう        食券       こちら\n",
       "4          旨味           いい         0%          これ        注文        人気\n",
       "5         煮干し        トッピング    twitter          そう        到着        行列\n",
       "6          出汁           つけ        グルメ         つけ麺       券売機        今日\n",
       "7         味わい           ネギ      tokyo          ない        購入    ごちそうさま\n",
       "8          香り         ワンタン        ブログ          そば        待ち        平日\n",
       "9          風味           食感    youtube          もの        店主     ラーメン屋\n",
       "10         魚介           野菜    http://        メニュー        時間        徒歩\n",
       "11         良く           海苔      entry        中華そば        入店        近く\n",
       "12         なく           好み        .jp          特製        開店      食べログ\n",
       "13       バランス           具材       blog        らーめん        店員        場所\n",
       "14         最後           ご飯         u.          今回       雰囲気       ランチ\n",
       "15         印象          美味い         yo          味噌        着席        営業\n",
       "16         旨い         美味しく         ut          それ        先客        名店\n",
       "17        見た目          味付け         be          好き      オーダー      オープン\n",
       "18      ストレート           調理         スタ         ところ      お客さん        以前\n",
       "19         豚骨         シンプル        詳しく          ここ        丁寧     ラーメン店"
      ]
     },
     "execution_count": 11,
     "metadata": {},
     "output_type": "execute_result"
    }
   ],
   "source": [
    "df = pd.DataFrame.from_dict(cluster_to_words, orient=\"index\").T\n",
    "df = df.iloc[:, [1, 2, 5, 0, 3, 4]]\n",
    "df.to_csv('output/words_cluster.csv')\n",
    "df.head(20)"
   ]
  },
  {
   "cell_type": "markdown",
   "id": "8be4d77a-fb19-48dc-8e64-cefb7c66c3c4",
   "metadata": {},
   "source": [
    "### TF-IDFで文章における特徴的な単語を抽出"
   ]
  },
  {
   "cell_type": "code",
   "execution_count": 12,
   "id": "f7239795-f267-4ae7-b020-8c0a762a4fc3",
   "metadata": {},
   "outputs": [],
   "source": [
    "from gensim import corpora\n",
    "from gensim import models"
   ]
  },
  {
   "cell_type": "code",
   "execution_count": 13,
   "id": "da331d24-dc38-4aff-a1d8-953c3f37a850",
   "metadata": {},
   "outputs": [
    {
     "data": {
      "text/plain": [
       "6315"
      ]
     },
     "execution_count": 13,
     "metadata": {},
     "output_type": "execute_result"
    }
   ],
   "source": [
    "# 口コミからレコメンドに使用する情報を絞る\n",
    "# 試行錯誤して決定するべし!!\n",
    "ramen_words = cluster_to_words['ラーメンに関するワード']\n",
    "soup_words = cluster_to_words['スープに関するワード']\n",
    "topping_words = cluster_to_words['トッピングに関するワード']\n",
    "\n",
    "ramen_words.extend(soup_words)\n",
    "ramen_words.extend(topping_words)\n",
    "ramen_words.extend(another_words)\n",
    "key_words = ramen_words\n",
    "\n",
    "len(key_words)"
   ]
  },
  {
   "cell_type": "code",
   "execution_count": 14,
   "id": "8a929bc4-490a-41b2-b10f-1bdbbe55031b",
   "metadata": {},
   "outputs": [],
   "source": [
    "with open('output/ramen_corpus.txt', 'r', encoding='utf-8') as f:\n",
    "    trainings = []\n",
    "    for i, data in enumerate(f):\n",
    "        # 不要な文字を取り除いて単語を取り出す\n",
    "        words = data.replace(\"'\", '').replace('[', '').replace(']', '').replace(' ', '').replace('\\n', '').split(\",\")\n",
    "        trainings.append([i for i in words if i in key_words])"
   ]
  },
  {
   "cell_type": "code",
   "execution_count": 15,
   "id": "77afb02a-a343-4081-b798-a30960feb129",
   "metadata": {},
   "outputs": [],
   "source": [
    "# 単語->id変換の辞書作成\n",
    "dictionary = corpora.Dictionary(trainings)"
   ]
  },
  {
   "cell_type": "code",
   "execution_count": 16,
   "id": "dfb69b91-1297-4d06-ae0d-a91192eafd82",
   "metadata": {},
   "outputs": [],
   "source": [
    "# textsをcorpus化\n",
    "corpus = list(map(dictionary.doc2bow, trainings))"
   ]
  },
  {
   "cell_type": "code",
   "execution_count": 17,
   "id": "04162bd1-420c-43c6-8d89-4dfc3d99132e",
   "metadata": {},
   "outputs": [],
   "source": [
    "# tfidf modelの生成\n",
    "test_model = models.TfidfModel(corpus)"
   ]
  },
  {
   "cell_type": "code",
   "execution_count": 18,
   "id": "5e84dcfe-2863-4e63-8936-e25ce1aaea11",
   "metadata": {},
   "outputs": [],
   "source": [
    "# corpusへのモデル適用\n",
    "corpus_tfidf = test_model[corpus]"
   ]
  },
  {
   "cell_type": "code",
   "execution_count": 19,
   "id": "a65665b9-7b74-4cae-8a12-14f730d20bc0",
   "metadata": {},
   "outputs": [],
   "source": [
    "# id->単語へ変換\n",
    "texts_tfidf = []    # id -> 単語表示に変えた文書ごとのTF-IDF\n",
    "for doc in corpus_tfidf:\n",
    "    text_tfidf = []\n",
    "    for word in doc:\n",
    "        text_tfidf.append([dictionary[word[0]], word[1]])\n",
    "    texts_tfidf.append(text_tfidf)"
   ]
  },
  {
   "cell_type": "code",
   "execution_count": 20,
   "id": "fb0ee36a-6f0c-413c-8aba-e1e5144ee6de",
   "metadata": {},
   "outputs": [],
   "source": [
    "from operator import itemgetter\n",
    "import pickle"
   ]
  },
  {
   "cell_type": "code",
   "execution_count": 21,
   "id": "772f8557-e636-49de-a010-a4a061489008",
   "metadata": {},
   "outputs": [],
   "source": [
    "texts_tfidf_sorted_top20 = [] \n",
    "\n",
    "#TF-IDF値を高い順に並び替え上位単語20個に絞る。\n",
    "for i in range(len(texts_tfidf)):\n",
    "    soted = sorted(texts_tfidf[i], key=itemgetter(1),reverse=True)\n",
    "    soted_top20 = soted[:20]\n",
    "    word_list = []\n",
    "    for k in range(len(soted_top20)):\n",
    "        word = soted_top20[k][0]\n",
    "        word_list.append(word)\n",
    "    texts_tfidf_sorted_top20.append(word_list)"
   ]
  },
  {
   "cell_type": "code",
   "execution_count": 22,
   "id": "369a109f-21dc-47f6-94f4-9bf93249b9f6",
   "metadata": {},
   "outputs": [
    {
     "name": "stdout",
     "output_type": "stream",
     "text": [
      "columns:\n",
      " Index(['ID', 'name', 'url', 'score', 'review_count', 'review'], dtype='object')\n",
      "\n",
      "shape:  (8303, 6)\n"
     ]
    }
   ],
   "source": [
    "# 結果をデータフレームに追加\n",
    "store_df = pd.read_csv('output/ramen_store.csv')\n",
    "review_df = pd.read_csv('output/ramen_review.csv')\n",
    "df_ramen = pd.merge(store_df, review_df)\n",
    "\n",
    "print('columns:\\n', df_ramen.columns)\n",
    "print('\\nshape: ', df_ramen.shape)"
   ]
  },
  {
   "cell_type": "code",
   "execution_count": 23,
   "id": "357e5727-3937-461c-82d0-78d74ec3fb9b",
   "metadata": {},
   "outputs": [
    {
     "data": {
      "text/html": [
       "<div>\n",
       "<style scoped>\n",
       "    .dataframe tbody tr th:only-of-type {\n",
       "        vertical-align: middle;\n",
       "    }\n",
       "\n",
       "    .dataframe tbody tr th {\n",
       "        vertical-align: top;\n",
       "    }\n",
       "\n",
       "    .dataframe thead th {\n",
       "        text-align: right;\n",
       "    }\n",
       "</style>\n",
       "<table border=\"1\" class=\"dataframe\">\n",
       "  <thead>\n",
       "    <tr style=\"text-align: right;\">\n",
       "      <th></th>\n",
       "      <th>ID</th>\n",
       "      <th>name</th>\n",
       "      <th>texts_tfidf_sorted_top20</th>\n",
       "    </tr>\n",
       "  </thead>\n",
       "  <tbody>\n",
       "    <tr>\n",
       "      <th>0</th>\n",
       "      <td>1</td>\n",
       "      <td>らぁ麺や 嶋</td>\n",
       "      <td>[ワンタン, 昆布, 炭火, 海老, 特製, 火炙り, だれ, 炙り焼, 焼き豚, 藻塩, ...</td>\n",
       "    </tr>\n",
       "    <tr>\n",
       "      <th>1</th>\n",
       "      <td>2</td>\n",
       "      <td>Homemade Ramen 麦苗</td>\n",
       "      <td>[黒毛和牛, いりこ, 深谷, 火山, spf, spf豚, ワンタン, 手入れ, 鰹節, ...</td>\n",
       "    </tr>\n",
       "    <tr>\n",
       "      <th>2</th>\n",
       "      <td>3</td>\n",
       "      <td>手打式超多加水麺 ののくら</td>\n",
       "      <td>[ワンタン, 手打, 中華そば, 三つ葉, 特製, 鶏胸肉, 生醤油, 紫蘇, うどん, 大...</td>\n",
       "    </tr>\n",
       "    <tr>\n",
       "      <th>3</th>\n",
       "      <td>4</td>\n",
       "      <td>麺尊 RAGE</td>\n",
       "      <td>[軍鶏, 替え玉, そば, まぜそば, しゃも, 卵黄, 醤油漬け, 素地, 燻製, 特製,...</td>\n",
       "    </tr>\n",
       "    <tr>\n",
       "      <th>4</th>\n",
       "      <td>5</td>\n",
       "      <td>宍道湖しじみ中華蕎麦 琥珀</td>\n",
       "      <td>[しじみ, 宍道湖, 島根県, シジミ, 琥珀, ワンタン, 雑色, バラ, コハク酸, 地...</td>\n",
       "    </tr>\n",
       "  </tbody>\n",
       "</table>\n",
       "</div>"
      ],
      "text/plain": [
       "   ID               name                           texts_tfidf_sorted_top20\n",
       "0   1             らぁ麺や 嶋  [ワンタン, 昆布, 炭火, 海老, 特製, 火炙り, だれ, 炙り焼, 焼き豚, 藻塩, ...\n",
       "1   2  Homemade Ramen 麦苗  [黒毛和牛, いりこ, 深谷, 火山, spf, spf豚, ワンタン, 手入れ, 鰹節, ...\n",
       "2   3      手打式超多加水麺 ののくら  [ワンタン, 手打, 中華そば, 三つ葉, 特製, 鶏胸肉, 生醤油, 紫蘇, うどん, 大...\n",
       "3   4            麺尊 RAGE  [軍鶏, 替え玉, そば, まぜそば, しゃも, 卵黄, 醤油漬け, 素地, 燻製, 特製,...\n",
       "4   5      宍道湖しじみ中華蕎麦 琥珀  [しじみ, 宍道湖, 島根県, シジミ, 琥珀, ワンタン, 雑色, バラ, コハク酸, 地..."
      ]
     },
     "execution_count": 23,
     "metadata": {},
     "output_type": "execute_result"
    }
   ],
   "source": [
    "df_ramen = df_ramen.groupby(['ID', 'name', 'score', 'review_count'])['review'].apply(list).apply(' '.join).reset_index().sort_values('score', ascending=False)\n",
    "df_ramen['texts_tfidf_sorted_top20'] = texts_tfidf_sorted_top20\n",
    "\n",
    "df_ramen_texts_tfidf_sorted_top20 = df_ramen.iloc[:,[0, 1, 5]].reset_index(drop=True)\n",
    "df_ramen_texts_tfidf_sorted_top20.head()"
   ]
  },
  {
   "cell_type": "code",
   "execution_count": 24,
   "id": "67f22a65-3153-4bb1-814c-c9265b52ee62",
   "metadata": {},
   "outputs": [],
   "source": [
    "# 上の結果をダンプ\n",
    "with open('output/df_ramen_texts_tfidf_sorted_top20', 'wb') as f:\n",
    "    pickle.dump(df_ramen_texts_tfidf_sorted_top20, f)"
   ]
  },
  {
   "cell_type": "markdown",
   "id": "09f2291c-d58f-4db7-808c-6ec817526dd9",
   "metadata": {},
   "source": [
    "### お店間の類似度を計算"
   ]
  },
  {
   "cell_type": "code",
   "execution_count": 25,
   "id": "2c8940a3-56b4-4481-a7b9-40a1366af82c",
   "metadata": {},
   "outputs": [],
   "source": [
    "from itertools import product"
   ]
  },
  {
   "cell_type": "code",
   "execution_count": 26,
   "id": "2fd64c74-4646-4d3a-b94e-ac979201e449",
   "metadata": {},
   "outputs": [],
   "source": [
    "with open('output/df_ramen_texts_tfidf_sorted_top20','rb') as f:\n",
    "    store_df = pickle.load(f)\n",
    "store_cross = []\n",
    "for ids in product(store_df['ID'], repeat=2):\n",
    "    store_cross.append(ids)"
   ]
  },
  {
   "cell_type": "code",
   "execution_count": 27,
   "id": "f2d24630-617d-49ed-b851-6bd2a249627f",
   "metadata": {},
   "outputs": [
    {
     "data": {
      "text/html": [
       "<div>\n",
       "<style scoped>\n",
       "    .dataframe tbody tr th:only-of-type {\n",
       "        vertical-align: middle;\n",
       "    }\n",
       "\n",
       "    .dataframe tbody tr th {\n",
       "        vertical-align: top;\n",
       "    }\n",
       "\n",
       "    .dataframe thead th {\n",
       "        text-align: right;\n",
       "    }\n",
       "</style>\n",
       "<table border=\"1\" class=\"dataframe\">\n",
       "  <thead>\n",
       "    <tr style=\"text-align: right;\">\n",
       "      <th></th>\n",
       "      <th>id_x</th>\n",
       "      <th>id_y</th>\n",
       "    </tr>\n",
       "  </thead>\n",
       "  <tbody>\n",
       "    <tr>\n",
       "      <th>0</th>\n",
       "      <td>1</td>\n",
       "      <td>1</td>\n",
       "    </tr>\n",
       "    <tr>\n",
       "      <th>1</th>\n",
       "      <td>1</td>\n",
       "      <td>2</td>\n",
       "    </tr>\n",
       "    <tr>\n",
       "      <th>2</th>\n",
       "      <td>1</td>\n",
       "      <td>3</td>\n",
       "    </tr>\n",
       "    <tr>\n",
       "      <th>3</th>\n",
       "      <td>1</td>\n",
       "      <td>4</td>\n",
       "    </tr>\n",
       "    <tr>\n",
       "      <th>4</th>\n",
       "      <td>1</td>\n",
       "      <td>5</td>\n",
       "    </tr>\n",
       "  </tbody>\n",
       "</table>\n",
       "</div>"
      ],
      "text/plain": [
       "   id_x  id_y\n",
       "0     1     1\n",
       "1     1     2\n",
       "2     1     3\n",
       "3     1     4\n",
       "4     1     5"
      ]
     },
     "execution_count": 27,
     "metadata": {},
     "output_type": "execute_result"
    }
   ],
   "source": [
    "store_cross_df = pd.DataFrame(store_cross, columns=['id_x', 'id_y'])\n",
    "store_cross_df.head()"
   ]
  },
  {
   "cell_type": "code",
   "execution_count": 28,
   "id": "126f984b-6550-497a-91fc-415e829d07cb",
   "metadata": {},
   "outputs": [
    {
     "data": {
      "text/html": [
       "<div>\n",
       "<style scoped>\n",
       "    .dataframe tbody tr th:only-of-type {\n",
       "        vertical-align: middle;\n",
       "    }\n",
       "\n",
       "    .dataframe tbody tr th {\n",
       "        vertical-align: top;\n",
       "    }\n",
       "\n",
       "    .dataframe thead th {\n",
       "        text-align: right;\n",
       "    }\n",
       "</style>\n",
       "<table border=\"1\" class=\"dataframe\">\n",
       "  <thead>\n",
       "    <tr style=\"text-align: right;\">\n",
       "      <th></th>\n",
       "      <th>id_x</th>\n",
       "      <th>id_y</th>\n",
       "      <th>name_x</th>\n",
       "      <th>texts_tfidf_sorted_top20_x</th>\n",
       "      <th>name_y</th>\n",
       "      <th>texts_tfidf_sorted_top20_y</th>\n",
       "    </tr>\n",
       "  </thead>\n",
       "  <tbody>\n",
       "    <tr>\n",
       "      <th>0</th>\n",
       "      <td>1</td>\n",
       "      <td>1</td>\n",
       "      <td>らぁ麺や 嶋</td>\n",
       "      <td>[ワンタン, 昆布, 炭火, 海老, 特製, 火炙り, だれ, 炙り焼, 焼き豚, 藻塩, ...</td>\n",
       "      <td>らぁ麺や 嶋</td>\n",
       "      <td>[ワンタン, 昆布, 炭火, 海老, 特製, 火炙り, だれ, 炙り焼, 焼き豚, 藻塩, ...</td>\n",
       "    </tr>\n",
       "    <tr>\n",
       "      <th>13260</th>\n",
       "      <td>1</td>\n",
       "      <td>263</td>\n",
       "      <td>らぁ麺や 嶋</td>\n",
       "      <td>[ワンタン, 昆布, 炭火, 海老, 特製, 火炙り, だれ, 炙り焼, 焼き豚, 藻塩, ...</td>\n",
       "      <td>田中商店 ダイバーシティ東京プラザ店</td>\n",
       "      <td>[味噌ラーメン, 味噌, バリ, 白味噌, 鬼玉, 札幌, 辛味噌, もやし, ドロ, 七味...</td>\n",
       "    </tr>\n",
       "    <tr>\n",
       "      <th>13209</th>\n",
       "      <td>1</td>\n",
       "      <td>277</td>\n",
       "      <td>らぁ麺や 嶋</td>\n",
       "      <td>[ワンタン, 昆布, 炭火, 海老, 特製, 火炙り, だれ, 炙り焼, 焼き豚, 藻塩, ...</td>\n",
       "      <td>あさひ町内会</td>\n",
       "      <td>[高菜, 博多, ハリガネ, 辛子, 替玉, キクラゲ, バリカタ, フク, 替え玉, ちゃ...</td>\n",
       "    </tr>\n",
       "    <tr>\n",
       "      <th>13158</th>\n",
       "      <td>1</td>\n",
       "      <td>276</td>\n",
       "      <td>らぁ麺や 嶋</td>\n",
       "      <td>[ワンタン, 昆布, 炭火, 海老, 特製, 火炙り, だれ, 炙り焼, 焼き豚, 藻塩, ...</td>\n",
       "      <td>麺宿 志いな</td>\n",
       "      <td>[つけ, ドレッシング, レモン, そば, 豚骨魚介, 0g, 大瓶, 温野菜, セメント,...</td>\n",
       "    </tr>\n",
       "    <tr>\n",
       "      <th>1275</th>\n",
       "      <td>1</td>\n",
       "      <td>24</td>\n",
       "      <td>らぁ麺や 嶋</td>\n",
       "      <td>[ワンタン, 昆布, 炭火, 海老, 特製, 火炙り, だれ, 炙り焼, 焼き豚, 藻塩, ...</td>\n",
       "      <td>創作麺工房 鳴龍</td>\n",
       "      <td>[特選, ぁめん, 丹波黒, ワサ, 吊し, 三元豚, 鶏胸肉, 昆布, 地鶏, ハートラン...</td>\n",
       "    </tr>\n",
       "  </tbody>\n",
       "</table>\n",
       "</div>"
      ],
      "text/plain": [
       "       id_x  id_y  name_x                         texts_tfidf_sorted_top20_x  \\\n",
       "0         1     1  らぁ麺や 嶋  [ワンタン, 昆布, 炭火, 海老, 特製, 火炙り, だれ, 炙り焼, 焼き豚, 藻塩, ...   \n",
       "13260     1   263  らぁ麺や 嶋  [ワンタン, 昆布, 炭火, 海老, 特製, 火炙り, だれ, 炙り焼, 焼き豚, 藻塩, ...   \n",
       "13209     1   277  らぁ麺や 嶋  [ワンタン, 昆布, 炭火, 海老, 特製, 火炙り, だれ, 炙り焼, 焼き豚, 藻塩, ...   \n",
       "13158     1   276  らぁ麺や 嶋  [ワンタン, 昆布, 炭火, 海老, 特製, 火炙り, だれ, 炙り焼, 焼き豚, 藻塩, ...   \n",
       "1275      1    24  らぁ麺や 嶋  [ワンタン, 昆布, 炭火, 海老, 特製, 火炙り, だれ, 炙り焼, 焼き豚, 藻塩, ...   \n",
       "\n",
       "                   name_y                         texts_tfidf_sorted_top20_y  \n",
       "0                  らぁ麺や 嶋  [ワンタン, 昆布, 炭火, 海老, 特製, 火炙り, だれ, 炙り焼, 焼き豚, 藻塩, ...  \n",
       "13260  田中商店 ダイバーシティ東京プラザ店  [味噌ラーメン, 味噌, バリ, 白味噌, 鬼玉, 札幌, 辛味噌, もやし, ドロ, 七味...  \n",
       "13209              あさひ町内会  [高菜, 博多, ハリガネ, 辛子, 替玉, キクラゲ, バリカタ, フク, 替え玉, ちゃ...  \n",
       "13158              麺宿 志いな  [つけ, ドレッシング, レモン, そば, 豚骨魚介, 0g, 大瓶, 温野菜, セメント,...  \n",
       "1275             創作麺工房 鳴龍  [特選, ぁめん, 丹波黒, ワサ, 吊し, 三元豚, 鶏胸肉, 昆布, 地鶏, ハートラン...  "
      ]
     },
     "execution_count": 28,
     "metadata": {},
     "output_type": "execute_result"
    }
   ],
   "source": [
    "store_cross_detail = store_cross_df.merge(\n",
    "    store_df[['ID','name','texts_tfidf_sorted_top20']], how='inner', left_on='id_x', right_on='ID'\n",
    ").drop(columns='ID').merge(\n",
    "    store_df[['ID','name','texts_tfidf_sorted_top20']], how='inner', left_on='id_y', right_on='ID'\n",
    ").drop(columns='ID')\n",
    "\n",
    "store_cross_detail = store_cross_detail[store_cross_detail['id_x'].isin(store_df['ID'].loc[0:50])]\n",
    "store_cross_detail = store_cross_detail.reset_index(drop=True).sort_values(['id_x'])\n",
    "\n",
    "store_cross_detail.head()"
   ]
  },
  {
   "cell_type": "markdown",
   "id": "bc793a01-4e98-4254-bedb-75b03780e639",
   "metadata": {},
   "source": [
    "#### ラーメン店xに対してラーメン店yの類似度を算出"
   ]
  },
  {
   "cell_type": "code",
   "execution_count": 29,
   "id": "5ab93339-4029-4818-a047-60637992d5ef",
   "metadata": {},
   "outputs": [],
   "source": [
    "import itertools\n",
    "from tqdm import tqdm "
   ]
  },
  {
   "cell_type": "code",
   "execution_count": 30,
   "id": "6b808f63-8fe0-414e-8db6-62e9a622883f",
   "metadata": {},
   "outputs": [],
   "source": [
    "#コサイン類似度を算出する関数を定義\n",
    "def cos_sim(v1, v2):\n",
    "    return np.dot(v1, v2) / (np.linalg.norm(v1) * np.linalg.norm(v2))"
   ]
  },
  {
   "cell_type": "code",
   "execution_count": 31,
   "id": "9a63afe8-944e-4785-addd-af0557164d4a",
   "metadata": {},
   "outputs": [],
   "source": [
    "# word2vecのモデルを読み込み\n",
    "import numpy as np\n",
    "from gensim.models import word2vec\n",
    "\n",
    "word2vec_ramen_model = word2vec.Word2Vec.load(\"output/word2vec_ramen_model.model\")"
   ]
  },
  {
   "cell_type": "code",
   "execution_count": 32,
   "id": "8a0145a7-f297-4c8e-801f-167659718a0a",
   "metadata": {},
   "outputs": [],
   "source": [
    "# cossimだけの組み合わせ（同じワード同士の組みあわせがでてくるため）\n",
    "# 2次元を１次元にする　setが重複を削除てきなやつ。\n",
    "uniq_words = list(set(itertools.chain.from_iterable(store_df['texts_tfidf_sorted_top20'].values)))\n",
    "scores = {}\n",
    "for word1, word2 in product(uniq_words, repeat=2):\n",
    "    scores[(word1, word2)] = cos_sim(word2vec_ramen_model.wv[word1],\n",
    "                                     word2vec_ramen_model.wv[word2]) "
   ]
  },
  {
   "cell_type": "code",
   "execution_count": 33,
   "id": "bd10240f-e6d4-42bc-95d5-9887aee6808c",
   "metadata": {},
   "outputs": [
    {
     "data": {
      "text/plain": [
       "False"
      ]
     },
     "execution_count": 33,
     "metadata": {},
     "output_type": "execute_result"
    }
   ],
   "source": [
    "'チャーシュー' in uniq_words"
   ]
  },
  {
   "cell_type": "code",
   "execution_count": 34,
   "id": "2488aae5-a45f-4fbc-b1d2-1ee30a68ef7e",
   "metadata": {},
   "outputs": [
    {
     "data": {
      "text/plain": [
       "2849"
      ]
     },
     "execution_count": 34,
     "metadata": {},
     "output_type": "execute_result"
    }
   ],
   "source": [
    "len(uniq_words)"
   ]
  },
  {
   "cell_type": "code",
   "execution_count": 35,
   "id": "82827aec-6526-43fe-ae0f-43dacd88fef4",
   "metadata": {},
   "outputs": [
    {
     "data": {
      "text/plain": [
       "8116801"
      ]
     },
     "execution_count": 35,
     "metadata": {},
     "output_type": "execute_result"
    }
   ],
   "source": [
    "len(scores)"
   ]
  },
  {
   "cell_type": "code",
   "execution_count": 36,
   "id": "43dc9e86-0fe7-43d0-a896-1fefc495d640",
   "metadata": {},
   "outputs": [],
   "source": [
    "# スコアの辞書をダンプする\n",
    "with open('output/word_score', 'wb') as f:\n",
    "    pickle.dump(scores, f)"
   ]
  },
  {
   "cell_type": "code",
   "execution_count": 37,
   "id": "0b4b58b3-dba1-4c23-bf0f-d40a0273c4ba",
   "metadata": {},
   "outputs": [
    {
     "name": "stderr",
     "output_type": "stream",
     "text": [
      "100%|██████████| 20400/20400 [00:42<00:00, 483.25it/s]\n"
     ]
    }
   ],
   "source": [
    "avg_avg_scores = []\n",
    "for i in tqdm(range(len(store_cross_detail['texts_tfidf_sorted_top20_x']))):\n",
    "    avg_scores = []\n",
    "    for j in range(len(store_cross_detail['texts_tfidf_sorted_top20_x'][i])):\n",
    "        word_cross_scores = []\n",
    "        word_a = store_cross_detail['texts_tfidf_sorted_top20_x'][i][j]\n",
    "        for k in range(len(store_cross_detail['texts_tfidf_sorted_top20_y'][i])):\n",
    "            word_b = store_cross_detail['texts_tfidf_sorted_top20_y'][i][k]\n",
    "            # 単語間のスコアを出す。\n",
    "            score = scores[(word_a, word_b)]\n",
    "            word_cross_scores.append(score)\n",
    "        # 20個の単語間スコアの平均値\n",
    "        avg_scores.append(np.mean(word_cross_scores))\n",
    "        # 20個の単語間スコアの平均値の平均値\n",
    "    avg_avg_scores.append(np.mean(avg_scores))\n",
    "store_cross_detail.insert(6, 'avg_cos_sim_rate', avg_avg_scores)  "
   ]
  },
  {
   "cell_type": "code",
   "execution_count": 38,
   "id": "e6cd90a3-6761-4c7e-9126-7c9e8c3c3f2f",
   "metadata": {},
   "outputs": [
    {
     "data": {
      "text/html": [
       "<div>\n",
       "<style scoped>\n",
       "    .dataframe tbody tr th:only-of-type {\n",
       "        vertical-align: middle;\n",
       "    }\n",
       "\n",
       "    .dataframe tbody tr th {\n",
       "        vertical-align: top;\n",
       "    }\n",
       "\n",
       "    .dataframe thead th {\n",
       "        text-align: right;\n",
       "    }\n",
       "</style>\n",
       "<table border=\"1\" class=\"dataframe\">\n",
       "  <thead>\n",
       "    <tr style=\"text-align: right;\">\n",
       "      <th></th>\n",
       "      <th>id_x</th>\n",
       "      <th>id_y</th>\n",
       "      <th>name_x</th>\n",
       "      <th>texts_tfidf_sorted_top20_x</th>\n",
       "      <th>name_y</th>\n",
       "      <th>texts_tfidf_sorted_top20_y</th>\n",
       "      <th>avg_cos_sim_rate</th>\n",
       "    </tr>\n",
       "  </thead>\n",
       "  <tbody>\n",
       "    <tr>\n",
       "      <th>17699</th>\n",
       "      <td>3</td>\n",
       "      <td>327</td>\n",
       "      <td>手打式超多加水麺 ののくら</td>\n",
       "      <td>[ワンタン, 手打, 中華そば, 三つ葉, 特製, 鶏胸肉, 生醤油, 紫蘇, うどん, 大...</td>\n",
       "      <td>浅草名代らーめん 与ろゐ屋</td>\n",
       "      <td>[ニンニク醤油, フルーツ, つけ麺, 極太, ジン, つけ, にんにく醤油, カネ, 食品...</td>\n",
       "      <td>0.640205</td>\n",
       "    </tr>\n",
       "    <tr>\n",
       "      <th>818</th>\n",
       "      <td>3</td>\n",
       "      <td>17</td>\n",
       "      <td>手打式超多加水麺 ののくら</td>\n",
       "      <td>[ワンタン, 手打, 中華そば, 三つ葉, 特製, 鶏胸肉, 生醤油, 紫蘇, うどん, 大...</td>\n",
       "      <td>一番いちばん</td>\n",
       "      <td>[雲呑, とら食堂, 白河ラーメン, 白河, いちばん, 手打ち, ワンタン, 中華そば, ...</td>\n",
       "      <td>0.587391</td>\n",
       "    </tr>\n",
       "    <tr>\n",
       "      <th>5408</th>\n",
       "      <td>3</td>\n",
       "      <td>116</td>\n",
       "      <td>手打式超多加水麺 ののくら</td>\n",
       "      <td>[ワンタン, 手打, 中華そば, 三つ葉, 特製, 鶏胸肉, 生醤油, 紫蘇, うどん, 大...</td>\n",
       "      <td>麺屋 ねむ瑠</td>\n",
       "      <td>[ヤサイ, 二郎, 乳化, ニンニク, fz, クタ, 野菜, アブラ, 少なめ, 天地返し...</td>\n",
       "      <td>0.580481</td>\n",
       "    </tr>\n",
       "    <tr>\n",
       "      <th>7040</th>\n",
       "      <td>3</td>\n",
       "      <td>150</td>\n",
       "      <td>手打式超多加水麺 ののくら</td>\n",
       "      <td>[ワンタン, 手打, 中華そば, 三つ葉, 特製, 鶏胸肉, 生醤油, 紫蘇, うどん, 大...</td>\n",
       "      <td>ラーメン二郎 八王子野猿街道店 ２</td>\n",
       "      <td>[ワンタン, アジ, 穂先, 秋刀魚, わん, 羅臼, 比内地鶏, もろみ, たん, 柚子,...</td>\n",
       "      <td>0.575509</td>\n",
       "    </tr>\n",
       "    <tr>\n",
       "      <th>18311</th>\n",
       "      <td>3</td>\n",
       "      <td>378</td>\n",
       "      <td>手打式超多加水麺 ののくら</td>\n",
       "      <td>[ワンタン, 手打, 中華そば, 三つ葉, 特製, 鶏胸肉, 生醤油, 紫蘇, うどん, 大...</td>\n",
       "      <td>九段 斑鳩 市ヶ谷本店</td>\n",
       "      <td>[かき氷, 瀬戸内, ミルク, カキ氷, ピスタチオ, いちご, レモン, イチゴ, シロッ...</td>\n",
       "      <td>0.574828</td>\n",
       "    </tr>\n",
       "  </tbody>\n",
       "</table>\n",
       "</div>"
      ],
      "text/plain": [
       "       id_x  id_y         name_x  \\\n",
       "17699     3   327  手打式超多加水麺 ののくら   \n",
       "818       3    17  手打式超多加水麺 ののくら   \n",
       "5408      3   116  手打式超多加水麺 ののくら   \n",
       "7040      3   150  手打式超多加水麺 ののくら   \n",
       "18311     3   378  手打式超多加水麺 ののくら   \n",
       "\n",
       "                              texts_tfidf_sorted_top20_x             name_y  \\\n",
       "17699  [ワンタン, 手打, 中華そば, 三つ葉, 特製, 鶏胸肉, 生醤油, 紫蘇, うどん, 大...      浅草名代らーめん 与ろゐ屋   \n",
       "818    [ワンタン, 手打, 中華そば, 三つ葉, 特製, 鶏胸肉, 生醤油, 紫蘇, うどん, 大...             一番いちばん   \n",
       "5408   [ワンタン, 手打, 中華そば, 三つ葉, 特製, 鶏胸肉, 生醤油, 紫蘇, うどん, 大...             麺屋 ねむ瑠   \n",
       "7040   [ワンタン, 手打, 中華そば, 三つ葉, 特製, 鶏胸肉, 生醤油, 紫蘇, うどん, 大...  ラーメン二郎 八王子野猿街道店 ２   \n",
       "18311  [ワンタン, 手打, 中華そば, 三つ葉, 特製, 鶏胸肉, 生醤油, 紫蘇, うどん, 大...        九段 斑鳩 市ヶ谷本店   \n",
       "\n",
       "                              texts_tfidf_sorted_top20_y  avg_cos_sim_rate  \n",
       "17699  [ニンニク醤油, フルーツ, つけ麺, 極太, ジン, つけ, にんにく醤油, カネ, 食品...          0.640205  \n",
       "818    [雲呑, とら食堂, 白河ラーメン, 白河, いちばん, 手打ち, ワンタン, 中華そば, ...          0.587391  \n",
       "5408   [ヤサイ, 二郎, 乳化, ニンニク, fz, クタ, 野菜, アブラ, 少なめ, 天地返し...          0.580481  \n",
       "7040   [ワンタン, アジ, 穂先, 秋刀魚, わん, 羅臼, 比内地鶏, もろみ, たん, 柚子,...          0.575509  \n",
       "18311  [かき氷, 瀬戸内, ミルク, カキ氷, ピスタチオ, いちご, レモン, イチゴ, シロッ...          0.574828  "
      ]
     },
     "execution_count": 38,
     "metadata": {},
     "output_type": "execute_result"
    }
   ],
   "source": [
    "# 類似度が高いラーメン屋を高い順に表示\n",
    "keyword = 'ののくら'\n",
    "store_cross_detail = store_cross_detail.sort_values(['id_x', 'avg_cos_sim_rate'], ascending=[True, False])\n",
    "df_sim_x = store_cross_detail[store_cross_detail['name_x'].str.contains(keyword)]\n",
    "df_sim_x.reset_index(drop=True)\n",
    "df_sim_x.head()"
   ]
  },
  {
   "cell_type": "code",
   "execution_count": 39,
   "id": "c3cd85d9-334e-40f8-898f-d3bc8abf44c9",
   "metadata": {},
   "outputs": [],
   "source": [
    "# 正規化\n",
    "def min_max(x, axis=None):\n",
    "    min = x.min(axis=axis, keepdims=True)\n",
    "    max = x.max(axis=axis, keepdims=True)\n",
    "    result = (x-min)/(max-min)\n",
    "    return result"
   ]
  },
  {
   "cell_type": "code",
   "execution_count": 40,
   "id": "76cf8689-7985-41d7-8bbc-c0cdb2931df1",
   "metadata": {},
   "outputs": [],
   "source": [
    "b = df_sim_x['avg_cos_sim_rate']\n",
    "c = min_max(b.values)\n",
    "df_sim_x.insert(7, '正規化', c)"
   ]
  },
  {
   "cell_type": "code",
   "execution_count": 41,
   "id": "50562833-5b86-47aa-aee7-106d19d03487",
   "metadata": {},
   "outputs": [
    {
     "data": {
      "text/html": [
       "<div>\n",
       "<style scoped>\n",
       "    .dataframe tbody tr th:only-of-type {\n",
       "        vertical-align: middle;\n",
       "    }\n",
       "\n",
       "    .dataframe tbody tr th {\n",
       "        vertical-align: top;\n",
       "    }\n",
       "\n",
       "    .dataframe thead th {\n",
       "        text-align: right;\n",
       "    }\n",
       "</style>\n",
       "<table border=\"1\" class=\"dataframe\">\n",
       "  <thead>\n",
       "    <tr style=\"text-align: right;\">\n",
       "      <th></th>\n",
       "      <th>id_y</th>\n",
       "      <th>name_y</th>\n",
       "      <th>avg_cos_sim_rate</th>\n",
       "      <th>正規化</th>\n",
       "    </tr>\n",
       "  </thead>\n",
       "  <tbody>\n",
       "    <tr>\n",
       "      <th>17699</th>\n",
       "      <td>327</td>\n",
       "      <td>浅草名代らーめん 与ろゐ屋</td>\n",
       "      <td>0.640205</td>\n",
       "      <td>1.000000</td>\n",
       "    </tr>\n",
       "    <tr>\n",
       "      <th>818</th>\n",
       "      <td>17</td>\n",
       "      <td>一番いちばん</td>\n",
       "      <td>0.587391</td>\n",
       "      <td>0.811196</td>\n",
       "    </tr>\n",
       "    <tr>\n",
       "      <th>5408</th>\n",
       "      <td>116</td>\n",
       "      <td>麺屋 ねむ瑠</td>\n",
       "      <td>0.580481</td>\n",
       "      <td>0.786495</td>\n",
       "    </tr>\n",
       "    <tr>\n",
       "      <th>7040</th>\n",
       "      <td>150</td>\n",
       "      <td>ラーメン二郎 八王子野猿街道店 ２</td>\n",
       "      <td>0.575509</td>\n",
       "      <td>0.768718</td>\n",
       "    </tr>\n",
       "    <tr>\n",
       "      <th>18311</th>\n",
       "      <td>378</td>\n",
       "      <td>九段 斑鳩 市ヶ谷本店</td>\n",
       "      <td>0.574828</td>\n",
       "      <td>0.766283</td>\n",
       "    </tr>\n",
       "    <tr>\n",
       "      <th>19484</th>\n",
       "      <td>365</td>\n",
       "      <td>ボニート・ボニート</td>\n",
       "      <td>0.572205</td>\n",
       "      <td>0.756909</td>\n",
       "    </tr>\n",
       "    <tr>\n",
       "      <th>3725</th>\n",
       "      <td>70</td>\n",
       "      <td>麺屋一燈</td>\n",
       "      <td>0.571417</td>\n",
       "      <td>0.754090</td>\n",
       "    </tr>\n",
       "    <tr>\n",
       "      <th>1736</th>\n",
       "      <td>38</td>\n",
       "      <td>MENクライ</td>\n",
       "      <td>0.570732</td>\n",
       "      <td>0.751644</td>\n",
       "    </tr>\n",
       "    <tr>\n",
       "      <th>8009</th>\n",
       "      <td>179</td>\n",
       "      <td>麺処 一笑</td>\n",
       "      <td>0.566779</td>\n",
       "      <td>0.737511</td>\n",
       "    </tr>\n",
       "    <tr>\n",
       "      <th>5969</th>\n",
       "      <td>111</td>\n",
       "      <td>らーめん改</td>\n",
       "      <td>0.561746</td>\n",
       "      <td>0.719517</td>\n",
       "    </tr>\n",
       "    <tr>\n",
       "      <th>7142</th>\n",
       "      <td>152</td>\n",
       "      <td>らーめん 稲荷屋</td>\n",
       "      <td>0.560208</td>\n",
       "      <td>0.714022</td>\n",
       "    </tr>\n",
       "    <tr>\n",
       "      <th>15608</th>\n",
       "      <td>284</td>\n",
       "      <td>赤坂麺処 友</td>\n",
       "      <td>0.559963</td>\n",
       "      <td>0.713145</td>\n",
       "    </tr>\n",
       "    <tr>\n",
       "      <th>665</th>\n",
       "      <td>12</td>\n",
       "      <td>中華蕎麦にし乃</td>\n",
       "      <td>0.559878</td>\n",
       "      <td>0.712842</td>\n",
       "    </tr>\n",
       "    <tr>\n",
       "      <th>5510</th>\n",
       "      <td>121</td>\n",
       "      <td>食堂七彩</td>\n",
       "      <td>0.558858</td>\n",
       "      <td>0.709194</td>\n",
       "    </tr>\n",
       "    <tr>\n",
       "      <th>3878</th>\n",
       "      <td>84</td>\n",
       "      <td>青島食堂 秋葉原店</td>\n",
       "      <td>0.558858</td>\n",
       "      <td>0.709194</td>\n",
       "    </tr>\n",
       "    <tr>\n",
       "      <th>17903</th>\n",
       "      <td>332</td>\n",
       "      <td>麺屋すみす</td>\n",
       "      <td>0.556445</td>\n",
       "      <td>0.700567</td>\n",
       "    </tr>\n",
       "    <tr>\n",
       "      <th>3215</th>\n",
       "      <td>62</td>\n",
       "      <td>Japanese Soba Noodles 蔦</td>\n",
       "      <td>0.556090</td>\n",
       "      <td>0.699298</td>\n",
       "    </tr>\n",
       "    <tr>\n",
       "      <th>6938</th>\n",
       "      <td>129</td>\n",
       "      <td>牛骨らぁ麺マタドール</td>\n",
       "      <td>0.556090</td>\n",
       "      <td>0.699298</td>\n",
       "    </tr>\n",
       "    <tr>\n",
       "      <th>7193</th>\n",
       "      <td>157</td>\n",
       "      <td>亀戸煮干中華蕎麦つきひ</td>\n",
       "      <td>0.555685</td>\n",
       "      <td>0.697849</td>\n",
       "    </tr>\n",
       "    <tr>\n",
       "      <th>20096</th>\n",
       "      <td>394</td>\n",
       "      <td>麺屋　藤しろ</td>\n",
       "      <td>0.554286</td>\n",
       "      <td>0.692850</td>\n",
       "    </tr>\n",
       "  </tbody>\n",
       "</table>\n",
       "</div>"
      ],
      "text/plain": [
       "       id_y                   name_y  avg_cos_sim_rate       正規化\n",
       "17699   327            浅草名代らーめん 与ろゐ屋          0.640205  1.000000\n",
       "818      17                   一番いちばん          0.587391  0.811196\n",
       "5408    116                   麺屋 ねむ瑠          0.580481  0.786495\n",
       "7040    150        ラーメン二郎 八王子野猿街道店 ２          0.575509  0.768718\n",
       "18311   378              九段 斑鳩 市ヶ谷本店          0.574828  0.766283\n",
       "19484   365                ボニート・ボニート          0.572205  0.756909\n",
       "3725     70                     麺屋一燈          0.571417  0.754090\n",
       "1736     38                   MENクライ          0.570732  0.751644\n",
       "8009    179                    麺処 一笑          0.566779  0.737511\n",
       "5969    111                    らーめん改          0.561746  0.719517\n",
       "7142    152                 らーめん 稲荷屋          0.560208  0.714022\n",
       "15608   284                   赤坂麺処 友          0.559963  0.713145\n",
       "665      12                  中華蕎麦にし乃          0.559878  0.712842\n",
       "5510    121                     食堂七彩          0.558858  0.709194\n",
       "3878     84                青島食堂 秋葉原店          0.558858  0.709194\n",
       "17903   332                    麺屋すみす          0.556445  0.700567\n",
       "3215     62  Japanese Soba Noodles 蔦          0.556090  0.699298\n",
       "6938    129               牛骨らぁ麺マタドール          0.556090  0.699298\n",
       "7193    157              亀戸煮干中華蕎麦つきひ          0.555685  0.697849\n",
       "20096   394                   麺屋　藤しろ          0.554286  0.692850"
      ]
     },
     "execution_count": 41,
     "metadata": {},
     "output_type": "execute_result"
    }
   ],
   "source": [
    "df_sim_x = df_sim_x[['id_y', 'name_y', 'avg_cos_sim_rate', '正規化',]]\n",
    "df_sim_x.head(20)"
   ]
  },
  {
   "cell_type": "code",
   "execution_count": null,
   "id": "ebd33de3-8ab8-463e-bfac-29d214e9d239",
   "metadata": {},
   "outputs": [],
   "source": []
  }
 ],
 "metadata": {
  "kernelspec": {
   "display_name": "Python 3",
   "language": "python",
   "name": "python3"
  },
  "language_info": {
   "codemirror_mode": {
    "name": "ipython",
    "version": 3
   },
   "file_extension": ".py",
   "mimetype": "text/x-python",
   "name": "python",
   "nbconvert_exporter": "python",
   "pygments_lexer": "ipython3",
   "version": "3.8.8"
  }
 },
 "nbformat": 4,
 "nbformat_minor": 5
}
