{
 "cells": [
  {
   "cell_type": "code",
   "execution_count": 1,
   "id": "80df58ea",
   "metadata": {},
   "outputs": [],
   "source": [
    "import numpy as np\n",
    "import pandas as pd\n",
    "import pickle\n",
    "from gensim.models import word2vec\n",
    "import MeCab\n",
    "import re\n",
    "\n",
    "\n",
    "tagger = MeCab.Tagger(\" -r /etc/mecabrc -d /usr/lib/x86_64-linux-gnu/mecab/dic/mecab-ipadic-neologd\")\n",
    "# おかz\n",
    "# tagger = MeCab.Tagger(\"-Owakati -d /opt/homebrew/lib/mecab/dic/mecab-ipadic-neologd\")\n",
    "\n",
    "def tokenize_ja(text, lower):\n",
    "    node = tagger.parseToNode(str(text))\n",
    "    while node:\n",
    "        # 分かち書きで取得する品詞を指定\n",
    "        if lower and node.feature.split(',')[0] in [\"名詞\", \"形容詞\"]:\n",
    "            yield node.surface.lower()\n",
    "        node = node.next\n",
    "\n",
    "\n",
    "def tokenize(content, token_min_len, token_max_len, lower):\n",
    "    return [\n",
    "        str(token) for token in tokenize_ja(content, lower)\n",
    "        if token_min_len <= len(token) <= token_max_len and not token.startswith('_')\n",
    "    ]\n",
    "\n",
    "\n",
    "# 学習データの読み込み\n",
    "df = pd.read_csv('./data/ramen_review.csv')\n",
    "df2 = pd.read_csv('./data/ramen_store.csv')\n",
    "df = pd.merge(df, df2, on=\"ID\")\n",
    "df_ramen = df.groupby(['ID', 'name', 'score', 'review_count'])['review'].apply(\n",
    "    list).apply(' '.join).reset_index().sort_values('ID')\n",
    "\n"
   ]
  },
  {
   "cell_type": "code",
   "execution_count": 2,
   "id": "8d0a136c",
   "metadata": {
    "scrolled": true
   },
   "outputs": [],
   "source": [
    "df_ramen[['name', 'review']].to_csv('confirm.csv')"
   ]
  },
  {
   "cell_type": "code",
   "execution_count": 3,
   "id": "61f316a6",
   "metadata": {},
   "outputs": [
    {
     "name": "stderr",
     "output_type": "stream",
     "text": [
      "/Users/okazawa/opt/anaconda3/lib/python3.8/site-packages/numpy/core/_asarray.py:102: VisibleDeprecationWarning: Creating an ndarray from ragged nested sequences (which is a list-or-tuple of lists-or-tuples-or ndarrays with different lengths or shapes) is deprecated. If you meant to do this, you must specify 'dtype=object' when creating the ndarray.\n",
      "  return array(a, dtype, copy=False, order=order)\n"
     ]
    }
   ],
   "source": [
    "# コーパス作成\n",
    "def preprocessing_text(text):\n",
    "    # 改行、半角スペース、全角スペースを削除\n",
    "    text = re.sub('\\r', '' , text)\n",
    "    text = re.sub('\\n', '' , text)\n",
    "    text = re.sub('　', '' , text)\n",
    "    text = re.sub(' ', '' , text)\n",
    "    text = text.lower()\n",
    "    # 数字文字の一律「0」化\n",
    "    text = re.sub('\\d+,?\\d*', '0', text) \n",
    "    return text\n",
    "                  \n",
    "wakati_ramen_text = []\n",
    "for i in df_ramen['review']:\n",
    "    txt = preprocessing_text(i)\n",
    "    txt = tokenize(txt, 2, 10000, True)\n",
    "    wakati_ramen_text.append(txt)\n",
    "\n",
    "np.savetxt(\"./data/ramen_corpus.txt\", wakati_ramen_text,\n",
    "           fmt='%s', delimiter=',', encoding='UTF-8')\n",
    "np.savetxt(\"./data/ramen_corpus.txt\", wakati_ramen_text,\n",
    "           fmt='%s', delimiter=',', encoding='UTF-8')\n"
   ]
  },
  {
   "cell_type": "code",
   "execution_count": 4,
   "id": "c1b6e27e",
   "metadata": {},
   "outputs": [],
   "source": [
    "# モデル作成\n",
    "\n",
    "word2vec_ramen_model = word2vec.Word2Vec(wakati_ramen_text,sg=1, vector_size=100, window=5,min_count=5,workers=3)\n",
    "\n",
    "# word2vec_ramen_model = word2vec.Word2Vec(wakati_ramen_text, sg = 1, vector_size=100, window = 5, min_count = 5, workers = 3)\n",
    "\n",
    "#sg（0: CBOW, 1: skip-gram）,size（ベクトルの次元数）,window（学習に使う前後の単語数）,min_count（n回未満登場する単語を破棄）,iter（トレーニング反復回数）\n",
    "\n",
    "# モデルのセーブ\n",
    "word2vec_ramen_model.save(\"./model/word2vec_ramen_model.model\")"
   ]
  },
  {
   "cell_type": "code",
   "execution_count": 5,
   "id": "ebaaef16",
   "metadata": {},
   "outputs": [
    {
     "data": {
      "text/plain": [
       "[('ラーメン二郎', 0.8203260898590088),\n",
       " ('上野毛', 0.7678502202033997),\n",
       " ('野猿', 0.751919150352478),\n",
       " ('ヤサイ', 0.7494155764579773),\n",
       " ('小岩', 0.7356836795806885),\n",
       " ('野猿街道', 0.7286577820777893),\n",
       " ('千住大橋', 0.7243333458900452),\n",
       " ('二郎系', 0.7242286801338196),\n",
       " ('デロ', 0.7236515879631042),\n",
       " ('乳化', 0.7102108597755432)]"
      ]
     },
     "execution_count": 5,
     "metadata": {},
     "output_type": "execute_result"
    }
   ],
   "source": [
    "# モデルのロード\n",
    "#model(ver1)\n",
    "word2vec_ramen_model =word2vec.Word2Vec.load(\"./model/word2vec_ramen_model.model\")\n",
    "word2vec_ramen_model.wv.most_similar(\"二郎\")"
   ]
  },
  {
   "cell_type": "code",
   "execution_count": 6,
   "id": "0c14d875-9e6b-433f-b8b8-8006c7777de5",
   "metadata": {},
   "outputs": [],
   "source": [
    "# モデルのロード\n",
    "#model(ver2)\n",
    "word2vec_ramen_model =word2vec.Word2Vec.load(\"./model/word2vec_ramen_model_v2.model\")"
   ]
  },
  {
   "cell_type": "code",
   "execution_count": 6,
   "id": "9473f197-af73-49ce-b158-7132ac627129",
   "metadata": {},
   "outputs": [
    {
     "data": {
      "text/plain": [
       "[('ラーメン二郎', 0.8167045712471008),\n",
       " ('ヤサイ', 0.7779735922813416),\n",
       " ('直系', 0.7680529356002808),\n",
       " ('野猿', 0.761073887348175),\n",
       " ('千住大橋', 0.754515528678894),\n",
       " ('桜台', 0.7495788931846619),\n",
       " ('上野毛', 0.7495309710502625),\n",
       " ('三田', 0.7449679374694824),\n",
       " ('小岩', 0.7415353655815125),\n",
       " ('二郎系', 0.7391459345817566)]"
      ]
     },
     "execution_count": 6,
     "metadata": {},
     "output_type": "execute_result"
    }
   ],
   "source": [
    "word2vec_ramen_model.wv.most_similar(\"二郎\")"
   ]
  },
  {
   "cell_type": "code",
   "execution_count": 7,
   "id": "0de3c942",
   "metadata": {},
   "outputs": [
    {
     "data": {
      "text/plain": [
       "[('松本', 0.9421358108520508),\n",
       " ('ミュージシャン', 0.9397774338722229),\n",
       " ('泉谷しげる', 0.9395560026168823),\n",
       " ('北海道出身', 0.9388940334320068),\n",
       " ('小川', 0.9361956119537354),\n",
       " ('郡山', 0.9358366131782532),\n",
       " ('孫弟子', 0.9341264963150024),\n",
       " ('初代', 0.9333155751228333),\n",
       " ('小野里', 0.9324114322662354),\n",
       " ('鵠沼海岸', 0.9294072389602661)]"
      ]
     },
     "execution_count": 7,
     "metadata": {},
     "output_type": "execute_result"
    }
   ],
   "source": [
    "word2vec_ramen_model.wv.most_similar(\"山岸\")"
   ]
  },
  {
   "cell_type": "code",
   "execution_count": 8,
   "id": "b7fbd17c",
   "metadata": {},
   "outputs": [
    {
     "data": {
      "text/plain": [
       "[('龍上海', 0.822999894618988),\n",
       " ('筑後', 0.8091440796852112),\n",
       " ('旭川', 0.8010036945343018),\n",
       " ('和歌山ラーメン', 0.8008827567100525),\n",
       " ('頂点', 0.7997747659683228),\n",
       " ('確立', 0.7990833520889282),\n",
       " ('久しく', 0.7964422702789307),\n",
       " ('育ち', 0.7900978922843933),\n",
       " ('order', 0.789796769618988),\n",
       " ('なんつッ亭', 0.7885482311248779)]"
      ]
     },
     "execution_count": 8,
     "metadata": {},
     "output_type": "execute_result"
    }
   ],
   "source": [
    "word2vec_ramen_model.wv.most_similar(positive=[u\"ラーメン\",u\"北海道\"])"
   ]
  },
  {
   "cell_type": "code",
   "execution_count": null,
   "id": "6385fcad-3963-4a97-838c-c35586db5178",
   "metadata": {},
   "outputs": [],
   "source": []
  }
 ],
 "metadata": {
  "kernelspec": {
   "display_name": "Python 3",
   "language": "python",
   "name": "python3"
  },
  "language_info": {
   "codemirror_mode": {
    "name": "ipython",
    "version": 3
   },
   "file_extension": ".py",
   "mimetype": "text/x-python",
   "name": "python",
   "nbconvert_exporter": "python",
   "pygments_lexer": "ipython3",
   "version": "3.8.8"
  }
 },
 "nbformat": 4,
 "nbformat_minor": 5
}
